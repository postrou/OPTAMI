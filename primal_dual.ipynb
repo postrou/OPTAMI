{
 "cells": [
  {
   "cell_type": "code",
   "execution_count": 1,
   "id": "SxOIjasl-7yV",
   "metadata": {
    "colab": {
     "base_uri": "https://localhost:8080/"
    },
    "executionInfo": {
     "elapsed": 23487,
     "status": "ok",
     "timestamp": 1641415837807,
     "user": {
      "displayName": "Petr Ostroukhov",
      "photoUrl": "https://lh3.googleusercontent.com/a-/AOh14GiZB6-DHQ3v5rx_0tpUGWEHcJMywiXeC7iRnwsPiQ=s64",
      "userId": "05145088499816938444"
     },
     "user_tz": -180
    },
    "id": "SxOIjasl-7yV",
    "outputId": "7c42994d-b18b-4a64-cf99-546e99235d6e"
   },
   "outputs": [],
   "source": [
    "# from google.colab import drive\n",
    "# drive.mount('/content/drive')"
   ]
  },
  {
   "cell_type": "code",
   "execution_count": 2,
   "id": "NS69HsIb9wkn",
   "metadata": {
    "colab": {
     "base_uri": "https://localhost:8080/"
    },
    "executionInfo": {
     "elapsed": 8767,
     "status": "ok",
     "timestamp": 1641415848706,
     "user": {
      "displayName": "Petr Ostroukhov",
      "photoUrl": "https://lh3.googleusercontent.com/a-/AOh14GiZB6-DHQ3v5rx_0tpUGWEHcJMywiXeC7iRnwsPiQ=s64",
      "userId": "05145088499816938444"
     },
     "user_tz": -180
    },
    "id": "NS69HsIb9wkn",
    "outputId": "c1f1614d-fcda-4c22-952c-45c6b7c44db2"
   },
   "outputs": [],
   "source": [
    "# !pip3 install python-mnist\n",
    "# !wget https://github.com/sorki/python-mnist/blob/master/bin/mnist_get_data.sh\n",
    "# !mnist_get_data.sh"
   ]
  },
  {
   "cell_type": "code",
   "execution_count": 1,
   "id": "9b566dab-2bd3-49bc-ac67-0b5c90ff203e",
   "metadata": {},
   "outputs": [],
   "source": [
    "%load_ext autoreload\n",
    "%autoreload 2"
   ]
  },
  {
   "cell_type": "code",
   "execution_count": 2,
   "id": "cb046398-bb9e-4553-b4c7-400a34ca0c55",
   "metadata": {
    "executionInfo": {
     "elapsed": 1498,
     "status": "ok",
     "timestamp": 1641416357443,
     "user": {
      "displayName": "Petr Ostroukhov",
      "photoUrl": "https://lh3.googleusercontent.com/a-/AOh14GiZB6-DHQ3v5rx_0tpUGWEHcJMywiXeC7iRnwsPiQ=s64",
      "userId": "05145088499816938444"
     },
     "user_tz": -180
    },
    "id": "cb046398-bb9e-4553-b4c7-400a34ca0c55"
   },
   "outputs": [],
   "source": [
    "import sys\n",
    "import os\n",
    "import time\n",
    "\n",
    "import torch\n",
    "from torch.utils.tensorboard import SummaryWriter\n",
    "import matplotlib.pylab as plt\n",
    "from tqdm.notebook import tqdm, trange\n",
    "import numpy as np\n",
    "from scipy.spatial.distance import cdist\n",
    "from mnist import MNIST\n",
    "from IPython.display import clear_output\n",
    "import cv2\n",
    "\n",
    "# sys.path.append('/content/drive/MyDrive/Documents/OPTAMI/OPTAMI')\n",
    "# sys.path.append('/content/drive/MyDrive/Documents/OPTAMI')\n",
    "from OPTAMI import PrimalDualAccelerated, BDGM\n",
    "from run_pd_experiment import *"
   ]
  },
  {
   "cell_type": "code",
   "execution_count": 3,
   "id": "yaEYNEJtdqP_",
   "metadata": {
    "executionInfo": {
     "elapsed": 3,
     "status": "ok",
     "timestamp": 1641416359395,
     "user": {
      "displayName": "Petr Ostroukhov",
      "photoUrl": "https://lh3.googleusercontent.com/a-/AOh14GiZB6-DHQ3v5rx_0tpUGWEHcJMywiXeC7iRnwsPiQ=s64",
      "userId": "05145088499816938444"
     },
     "user_tz": -180
    },
    "id": "yaEYNEJtdqP_"
   },
   "outputs": [],
   "source": [
    "# device = 'cuda:1'\n",
    "device = 'cpu'"
   ]
  },
  {
   "cell_type": "code",
   "execution_count": 4,
   "id": "78a7b38f-121e-4593-91d1-975fc53ebd75",
   "metadata": {},
   "outputs": [],
   "source": [
    "# A_A_T_path = 'A_A_T.pkl'\n",
    "# if not os.path.exists(A_A_T_path):\n",
    "#     A_matrix = calculate_A_matrix(n)\n",
    "#     A_A_T = A_matrix @ A_matrix.T\n",
    "#     torch.save(A_A_T, A_A_T_path)\n",
    "# else:\n",
    "#     A_A_T = torch.load(A_A_T_path)"
   ]
  },
  {
   "cell_type": "markdown",
   "id": "ed2fcf1d-ec12-49ce-bd6e-75aaadf8c112",
   "metadata": {
    "id": "4c9eb191-4ba9-4003-89fb-1cb93190c122"
   },
   "source": [
    "# Preliminaries"
   ]
  },
  {
   "cell_type": "markdown",
   "id": "ed5ae563-373c-4520-a5ab-8ada5ef17c30",
   "metadata": {},
   "source": [
    "## Data"
   ]
  },
  {
   "cell_type": "code",
   "execution_count": 5,
   "id": "62a0e3bd-fc40-4a49-971f-6ab486731115",
   "metadata": {},
   "outputs": [],
   "source": [
    "gamma = 0.5\n",
    "eps = 0.01\n",
    "image_index = 2\n",
    "\n",
    "new_m = 10"
   ]
  },
  {
   "cell_type": "code",
   "execution_count": 6,
   "id": "4ea9f69a-af1f-4c81-ba6a-5833288a71f2",
   "metadata": {},
   "outputs": [
    {
     "data": {
      "text/plain": [
       "(0.01, 0.5)"
      ]
     },
     "execution_count": 6,
     "metadata": {},
     "output_type": "execute_result"
    }
   ],
   "source": [
    "eps, gamma"
   ]
  },
  {
   "cell_type": "code",
   "execution_count": 7,
   "id": "3e076a6f-61d1-49c1-b163-b8dcc4c5302b",
   "metadata": {},
   "outputs": [],
   "source": [
    "images, labels = load_data()\n",
    "if new_m is not None:\n",
    "    n = new_m ** 2\n",
    "    m = new_m\n",
    "else:\n",
    "    n = len(images[0])\n",
    "    m = int(np.sqrt(n))\n",
    "\n",
    "p_list = [34860, 31226, 239, 37372, 17390]\n",
    "q_list = [45815, 35817, 43981, 54698, 49947]\n",
    "\n",
    "# x_array = np.linspace(1 / 2e-2, 1 / 4e-4, 6)\n",
    "# epslist = 1 / x_array\n",
    "epsp = eps / 8\n",
    "\n",
    "p, q = mnist(epsp, p_list[image_index], q_list[image_index], images, m)\n",
    "p = torch.tensor(p, device=device, dtype=torch.double)\n",
    "q = torch.tensor(q, device=device, dtype=torch.double)\n",
    "\n",
    "p_ref, q_ref = mnist(0, p_list[image_index], q_list[image_index], images, m)\n",
    "p_ref = torch.tensor(p_ref, device=device, dtype=torch.double)\n",
    "q_ref = torch.tensor(q_ref, device=device, dtype=torch.double)\n",
    "\n",
    "b = torch.cat((p, q))"
   ]
  },
  {
   "cell_type": "code",
   "execution_count": 8,
   "id": "99a513d6-16ef-4f88-8a9d-6257ad9203ab",
   "metadata": {},
   "outputs": [
    {
     "data": {
      "text/plain": [
       "<matplotlib.image.AxesImage at 0x1528eb4f0>"
      ]
     },
     "execution_count": 8,
     "metadata": {},
     "output_type": "execute_result"
    },
    {
     "data": {
      "image/png": "[encoded data removed]",
      "text/plain": [
       "<Figure size 432x288 with 1 Axes>"
      ]
     },
     "metadata": {
      "needs_background": "light"
     },
     "output_type": "display_data"
    }
   ],
   "source": [
    "plt.imshow(p.reshape(m, m).cpu().numpy())"
   ]
  },
  {
   "cell_type": "code",
   "execution_count": 9,
   "id": "525f2edb-0f42-448f-af7a-454f3d877840",
   "metadata": {},
   "outputs": [
    {
     "data": {
      "text/plain": [
       "<matplotlib.image.AxesImage at 0x1529d9c40>"
      ]
     },
     "execution_count": 9,
     "metadata": {},
     "output_type": "execute_result"
    },
    {
     "data": {
      "image/png": "[encoded data removed]",
      "text/plain": [
       "<Figure size 432x288 with 1 Axes>"
      ]
     },
     "metadata": {
      "needs_background": "light"
     },
     "output_type": "display_data"
    }
   ],
   "source": [
    "plt.imshow(q.reshape(m, m).cpu().numpy())"
   ]
  },
  {
   "cell_type": "code",
   "execution_count": 10,
   "id": "4548447f-433d-4ccd-96b5-5cd3f5c30a3b",
   "metadata": {},
   "outputs": [
    {
     "data": {
      "text/plain": [
       "torch.Size([100])"
      ]
     },
     "execution_count": 10,
     "metadata": {},
     "output_type": "execute_result"
    }
   ],
   "source": [
    "p.shape"
   ]
  },
  {
   "cell_type": "markdown",
   "id": "c36fa75e-81fd-4dc7-afba-066d659f87b4",
   "metadata": {},
   "source": [
    "## Other "
   ]
  },
  {
   "cell_type": "code",
   "execution_count": 11,
   "id": "96bf5970-6978-48fb-b01b-8b2dcfcb4ba6",
   "metadata": {},
   "outputs": [],
   "source": [
    "M_matrix = calculate_M_matrix(m).to(device)"
   ]
  },
  {
   "cell_type": "code",
   "execution_count": 12,
   "id": "cf57ac98-0c49-4194-9876-070dbf3dfcd5",
   "metadata": {},
   "outputs": [],
   "source": [
    "ones = torch.ones(n, device=device, dtype=torch.double)\n",
    "primal_func = lambda x: f(x, M_matrix, gamma, device)\n",
    "dual_func = lambda lamb: phi(lamb, n, gamma, M_matrix / gamma, ones, p, q)\n",
    "primal_var_func = lambda lamb: calculate_x(lamb, n, gamma, M_matrix / gamma, ones)\n",
    "round_func = lambda primal_var: B_round(primal_var, p_ref, q_ref, ones)"
   ]
  },
  {
   "cell_type": "markdown",
   "id": "ca381922-6b45-4610-a72d-ca8275ba330d",
   "metadata": {
    "id": "4c9eb191-4ba9-4003-89fb-1cb93190c122"
   },
   "source": [
    "# Fast gradient method for dual function"
   ]
  },
  {
   "cell_type": "code",
   "execution_count": 34,
   "id": "fdff8e5a-6e5a-45de-b6d7-0470596d9611",
   "metadata": {},
   "outputs": [
    {
     "data": {
      "text/plain": [
       "1.0"
      ]
     },
     "execution_count": 34,
     "metadata": {},
     "output_type": "execute_result"
    }
   ],
   "source": [
    "M_1 = calculate_lipschitz_constant(gamma, p_order=1)\n",
    "M_1"
   ]
  },
  {
   "cell_type": "code",
   "execution_count": 35,
   "id": "122f02ac",
   "metadata": {},
   "outputs": [],
   "source": [
    "writer = SummaryWriter(f'tensorboard/FGM_gamma_{gamma}')"
   ]
  },
  {
   "cell_type": "code",
   "execution_count": 36,
   "id": "20fcddd1-7d2b-4629-910d-0412b6431ba3",
   "metadata": {
    "tags": []
   },
   "outputs": [
    {
     "name": "stdout",
     "output_type": "stream",
     "text": [
      "Step #321\n",
      "cr_1: 0.021787190378366184 -> 0.009934011247723529\n",
      "cr_2: 0.09367679424360048 -> 0.00022488262046782063\n",
      "phi: 4.212426032358829 -> 2.7640206748837035\n",
      "f: -4.234213222737195 -> -2.773954686131427\n",
      "CPU times: user 1.67 s, sys: 447 ms, total: 2.12 s\n",
      "Wall time: 2.11 s\n"
     ]
    }
   ],
   "source": [
    "%%time\n",
    "primal_var, dual_var, F_list, g_list, fgm_cr_1_list, fgm_cr_2_list = fast_gradient_method(\n",
    "    n,\n",
    "    M_1, \n",
    "    M_matrix,\n",
    "    primal_func, \n",
    "    dual_func, \n",
    "    primal_var_func, \n",
    "    round_func,\n",
    "    eps, \n",
    "    eps, \n",
    "    max_steps=500,\n",
    "    device=device,\n",
    "    writer=writer\n",
    ")"
   ]
  },
  {
   "cell_type": "markdown",
   "id": "aeb0ea84-22bb-44b8-ab1b-c54e422a1acb",
   "metadata": {
    "id": "aeb0ea84-22bb-44b8-ab1b-c54e422a1acb"
   },
   "source": [
    "# Primal-Dual Tensor Method"
   ]
  },
  {
   "cell_type": "code",
   "execution_count": 13,
   "id": "e012d0b5-a6f8-4fe5-9a51-3a86dedbfd3c",
   "metadata": {
    "colab": {
     "base_uri": "https://localhost:8080/"
    },
    "executionInfo": {
     "elapsed": 14953,
     "status": "ok",
     "timestamp": 1641416377128,
     "user": {
      "displayName": "Petr Ostroukhov",
      "photoUrl": "https://lh3.googleusercontent.com/a-/AOh14GiZB6-DHQ3v5rx_0tpUGWEHcJMywiXeC7iRnwsPiQ=s64",
      "userId": "05145088499816938444"
     },
     "user_tz": -180
    },
    "id": "e012d0b5-a6f8-4fe5-9a51-3a86dedbfd3c",
    "outputId": "69435d21-423d-498f-82d2-b09561fb217c"
   },
   "outputs": [],
   "source": [
    "M_p = calculate_lipschitz_constant(gamma, p_order=3)"
   ]
  },
  {
   "cell_type": "code",
   "execution_count": 14,
   "id": "8050b8e2-1c63-4483-8018-bb91b58df2c1",
   "metadata": {},
   "outputs": [],
   "source": [
    "lamb = torch.zeros(n * 2, dtype=torch.double, requires_grad=False, device=device)\n",
    "lamb.mul_(-1 / gamma).requires_grad_(True)\n",
    "optimizer = PrimalDualAccelerated(\n",
    "    [lamb],\n",
    "    M_p=M_p,\n",
    "    p_order=torch.tensor(3, device=device),\n",
    "    eps=0.001,\n",
    "    calculate_primal_var=primal_var_func\n",
    ")"
   ]
  },
  {
   "cell_type": "code",
   "execution_count": 21,
   "id": "88b4e60b-d03f-4d91-b253-d2e80b334164",
   "metadata": {
    "tags": []
   },
   "outputs": [
    {
     "data": {
      "application/vnd.jupyter.widget-view+json": {
       "model_id": "b6b1488069954d9d9ab3ca82519ff75b",
       "version_major": 2,
       "version_minor": 0
      },
      "text/plain": [
       "  0%|          | 0/500 [00:01<?, ?it/s]"
      ]
     },
     "metadata": {},
     "output_type": "display_data"
    },
    {
     "ename": "KeyboardInterrupt",
     "evalue": "",
     "output_type": "error",
     "traceback": [
      "\u001b[0;31m---------------------------------------------------------------------------\u001b[0m",
      "\u001b[0;31mKeyboardInterrupt\u001b[0m                         Traceback (most recent call last)",
      "\u001b[0;32m/var/folders/z4/q6hxwj7s1mj_m9znz0tz48240000gp/T/ipykernel_14647/866560639.py\u001b[0m in \u001b[0;36m<module>\u001b[0;34m\u001b[0m\n\u001b[0;32m----> 1\u001b[0;31m optimizer, i, cr_1_list, cr_2_list, phi_list, f_list = run_experiment(\n\u001b[0m\u001b[1;32m      2\u001b[0m     \u001b[0mM_p\u001b[0m\u001b[0;34m,\u001b[0m\u001b[0;34m\u001b[0m\u001b[0;34m\u001b[0m\u001b[0m\n\u001b[1;32m      3\u001b[0m     \u001b[0mgamma\u001b[0m\u001b[0;34m,\u001b[0m\u001b[0;34m\u001b[0m\u001b[0;34m\u001b[0m\u001b[0m\n\u001b[1;32m      4\u001b[0m     \u001b[0meps\u001b[0m\u001b[0;34m,\u001b[0m\u001b[0;34m\u001b[0m\u001b[0;34m\u001b[0m\u001b[0m\n\u001b[1;32m      5\u001b[0m     \u001b[0mimage_index\u001b[0m\u001b[0;34m,\u001b[0m\u001b[0;34m\u001b[0m\u001b[0;34m\u001b[0m\u001b[0m\n",
      "\u001b[0;32m~/Documents/OPTAMI/run_pd_experiment.py\u001b[0m in \u001b[0;36mrun_experiment\u001b[0;34m(M_p, gamma, eps, image_index, new_m, optimizer, max_steps, device)\u001b[0m\n\u001b[1;32m     84\u001b[0m     \u001b[0mwriter\u001b[0m \u001b[0;34m=\u001b[0m \u001b[0mSummaryWriter\u001b[0m\u001b[0;34m(\u001b[0m\u001b[0;34mf'tensorboard/TM_gamma_{gamma}_M_p_{M_p}'\u001b[0m\u001b[0;34m)\u001b[0m\u001b[0;34m\u001b[0m\u001b[0;34m\u001b[0m\u001b[0m\n\u001b[1;32m     85\u001b[0m \u001b[0;34m\u001b[0m\u001b[0m\n\u001b[0;32m---> 86\u001b[0;31m     i, cr_1_list, cr_2_list, phi_list, f_list = optimize(\n\u001b[0m\u001b[1;32m     87\u001b[0m         \u001b[0moptimizer\u001b[0m\u001b[0;34m,\u001b[0m\u001b[0;34m\u001b[0m\u001b[0;34m\u001b[0m\u001b[0m\n\u001b[1;32m     88\u001b[0m         \u001b[0mclosure\u001b[0m\u001b[0;34m,\u001b[0m\u001b[0;34m\u001b[0m\u001b[0;34m\u001b[0m\u001b[0m\n",
      "\u001b[0;32m~/Documents/OPTAMI/run_pd_experiment.py\u001b[0m in \u001b[0;36moptimize\u001b[0;34m(optimizer, closure, round_function, eps, M_matrix, gamma, max_steps, device, writer)\u001b[0m\n\u001b[1;32m    123\u001b[0m \u001b[0;34m\u001b[0m\u001b[0m\n\u001b[1;32m    124\u001b[0m     \u001b[0;32mwhile\u001b[0m \u001b[0;32mTrue\u001b[0m\u001b[0;34m:\u001b[0m\u001b[0;34m\u001b[0m\u001b[0;34m\u001b[0m\u001b[0m\n\u001b[0;32m--> 125\u001b[0;31m         \u001b[0moptimizer\u001b[0m\u001b[0;34m.\u001b[0m\u001b[0mstep\u001b[0m\u001b[0;34m(\u001b[0m\u001b[0mclosure\u001b[0m\u001b[0;34m)\u001b[0m\u001b[0;34m\u001b[0m\u001b[0;34m\u001b[0m\u001b[0m\n\u001b[0m\u001b[1;32m    126\u001b[0m         \u001b[0mtorch\u001b[0m\u001b[0;34m.\u001b[0m\u001b[0mcuda\u001b[0m\u001b[0;34m.\u001b[0m\u001b[0mempty_cache\u001b[0m\u001b[0;34m(\u001b[0m\u001b[0;34m)\u001b[0m\u001b[0;34m\u001b[0m\u001b[0;34m\u001b[0m\u001b[0m\n\u001b[1;32m    127\u001b[0m \u001b[0;34m\u001b[0m\u001b[0m\n",
      "\u001b[0;32m~/.pyenv/versions/3.9.9/envs/tensor_methods/lib/python3.9/site-packages/torch/optim/optimizer.py\u001b[0m in \u001b[0;36mwrapper\u001b[0;34m(*args, **kwargs)\u001b[0m\n\u001b[1;32m    107\u001b[0m                 \u001b[0mprofile_name\u001b[0m \u001b[0;34m=\u001b[0m \u001b[0;34m\"Optimizer.step#{}.step\"\u001b[0m\u001b[0;34m.\u001b[0m\u001b[0mformat\u001b[0m\u001b[0;34m(\u001b[0m\u001b[0mobj\u001b[0m\u001b[0;34m.\u001b[0m\u001b[0m__class__\u001b[0m\u001b[0;34m.\u001b[0m\u001b[0m__name__\u001b[0m\u001b[0;34m)\u001b[0m\u001b[0;34m\u001b[0m\u001b[0;34m\u001b[0m\u001b[0m\n\u001b[1;32m    108\u001b[0m                 \u001b[0;32mwith\u001b[0m \u001b[0mtorch\u001b[0m\u001b[0;34m.\u001b[0m\u001b[0mautograd\u001b[0m\u001b[0;34m.\u001b[0m\u001b[0mprofiler\u001b[0m\u001b[0;34m.\u001b[0m\u001b[0mrecord_function\u001b[0m\u001b[0;34m(\u001b[0m\u001b[0mprofile_name\u001b[0m\u001b[0;34m)\u001b[0m\u001b[0;34m:\u001b[0m\u001b[0;34m\u001b[0m\u001b[0;34m\u001b[0m\u001b[0m\n\u001b[0;32m--> 109\u001b[0;31m                     \u001b[0;32mreturn\u001b[0m \u001b[0mfunc\u001b[0m\u001b[0;34m(\u001b[0m\u001b[0;34m*\u001b[0m\u001b[0margs\u001b[0m\u001b[0;34m,\u001b[0m \u001b[0;34m**\u001b[0m\u001b[0mkwargs\u001b[0m\u001b[0;34m)\u001b[0m\u001b[0;34m\u001b[0m\u001b[0;34m\u001b[0m\u001b[0m\n\u001b[0m\u001b[1;32m    110\u001b[0m             \u001b[0;32mreturn\u001b[0m \u001b[0mwrapper\u001b[0m\u001b[0;34m\u001b[0m\u001b[0;34m\u001b[0m\u001b[0m\n\u001b[1;32m    111\u001b[0m \u001b[0;34m\u001b[0m\u001b[0m\n",
      "\u001b[0;32m~/Documents/OPTAMI/OPTAMI/primal_dual.py\u001b[0m in \u001b[0;36mstep\u001b[0;34m(self, closure)\u001b[0m\n\u001b[1;32m    115\u001b[0m             \u001b[0msubsolver_args\u001b[0m\u001b[0;34m=\u001b[0m\u001b[0msubsolver_args\u001b[0m\u001b[0;34m\u001b[0m\u001b[0;34m\u001b[0m\u001b[0m\n\u001b[1;32m    116\u001b[0m         )\n\u001b[0;32m--> 117\u001b[0;31m         \u001b[0moptimizer\u001b[0m\u001b[0;34m.\u001b[0m\u001b[0mstep\u001b[0m\u001b[0;34m(\u001b[0m\u001b[0mclosure\u001b[0m\u001b[0;34m)\u001b[0m\u001b[0;34m\u001b[0m\u001b[0;34m\u001b[0m\u001b[0m\n\u001b[0m\u001b[1;32m    118\u001b[0m         \u001b[0mstate\u001b[0m\u001b[0;34m[\u001b[0m\u001b[0;34m'param_arr'\u001b[0m\u001b[0;34m]\u001b[0m\u001b[0;34m.\u001b[0m\u001b[0mappend\u001b[0m\u001b[0;34m(\u001b[0m\u001b[0mparams\u001b[0m\u001b[0;34m[\u001b[0m\u001b[0;36m0\u001b[0m\u001b[0;34m]\u001b[0m\u001b[0;34m.\u001b[0m\u001b[0mdetach\u001b[0m\u001b[0;34m(\u001b[0m\u001b[0;34m)\u001b[0m\u001b[0;34m.\u001b[0m\u001b[0mclone\u001b[0m\u001b[0;34m(\u001b[0m\u001b[0;34m)\u001b[0m\u001b[0;34m)\u001b[0m\u001b[0;34m\u001b[0m\u001b[0;34m\u001b[0m\u001b[0m\n\u001b[1;32m    119\u001b[0m \u001b[0;34m\u001b[0m\u001b[0m\n",
      "\u001b[0;32m~/.pyenv/versions/3.9.9/envs/tensor_methods/lib/python3.9/site-packages/torch/optim/optimizer.py\u001b[0m in \u001b[0;36mwrapper\u001b[0;34m(*args, **kwargs)\u001b[0m\n\u001b[1;32m    107\u001b[0m                 \u001b[0mprofile_name\u001b[0m \u001b[0;34m=\u001b[0m \u001b[0;34m\"Optimizer.step#{}.step\"\u001b[0m\u001b[0;34m.\u001b[0m\u001b[0mformat\u001b[0m\u001b[0;34m(\u001b[0m\u001b[0mobj\u001b[0m\u001b[0;34m.\u001b[0m\u001b[0m__class__\u001b[0m\u001b[0;34m.\u001b[0m\u001b[0m__name__\u001b[0m\u001b[0;34m)\u001b[0m\u001b[0;34m\u001b[0m\u001b[0;34m\u001b[0m\u001b[0m\n\u001b[1;32m    108\u001b[0m                 \u001b[0;32mwith\u001b[0m \u001b[0mtorch\u001b[0m\u001b[0;34m.\u001b[0m\u001b[0mautograd\u001b[0m\u001b[0;34m.\u001b[0m\u001b[0mprofiler\u001b[0m\u001b[0;34m.\u001b[0m\u001b[0mrecord_function\u001b[0m\u001b[0;34m(\u001b[0m\u001b[0mprofile_name\u001b[0m\u001b[0;34m)\u001b[0m\u001b[0;34m:\u001b[0m\u001b[0;34m\u001b[0m\u001b[0;34m\u001b[0m\u001b[0m\n\u001b[0;32m--> 109\u001b[0;31m                     \u001b[0;32mreturn\u001b[0m \u001b[0mfunc\u001b[0m\u001b[0;34m(\u001b[0m\u001b[0;34m*\u001b[0m\u001b[0margs\u001b[0m\u001b[0;34m,\u001b[0m \u001b[0;34m**\u001b[0m\u001b[0mkwargs\u001b[0m\u001b[0;34m)\u001b[0m\u001b[0;34m\u001b[0m\u001b[0;34m\u001b[0m\u001b[0m\n\u001b[0m\u001b[1;32m    110\u001b[0m             \u001b[0;32mreturn\u001b[0m \u001b[0mwrapper\u001b[0m\u001b[0;34m\u001b[0m\u001b[0;34m\u001b[0m\u001b[0m\n\u001b[1;32m    111\u001b[0m \u001b[0;34m\u001b[0m\u001b[0m\n",
      "\u001b[0;32m~/Documents/OPTAMI/OPTAMI/bdgm.py\u001b[0m in \u001b[0;36mstep\u001b[0;34m(self, closure)\u001b[0m\n\u001b[1;32m     84\u001b[0m             \u001b[0;31m# Hessian computation\u001b[0m\u001b[0;34m\u001b[0m\u001b[0;34m\u001b[0m\u001b[0m\n\u001b[1;32m     85\u001b[0m             \u001b[0;32mif\u001b[0m \u001b[0;34m(\u001b[0m\u001b[0msubsolver_bdgm\u001b[0m \u001b[0;32mis\u001b[0m \u001b[0;32mNone\u001b[0m\u001b[0;34m)\u001b[0m \u001b[0;34m&\u001b[0m \u001b[0;34m(\u001b[0m\u001b[0mtol_subsolve\u001b[0m \u001b[0;32mis\u001b[0m \u001b[0;32mNone\u001b[0m\u001b[0;34m)\u001b[0m \u001b[0;34m&\u001b[0m \u001b[0;34m(\u001b[0m\u001b[0msubsolver_args\u001b[0m \u001b[0;32mis\u001b[0m \u001b[0;32mNone\u001b[0m\u001b[0;34m)\u001b[0m\u001b[0;34m:\u001b[0m\u001b[0;34m\u001b[0m\u001b[0;34m\u001b[0m\u001b[0m\n\u001b[0;32m---> 86\u001b[0;31m                 \u001b[0mfull_hessian\u001b[0m \u001b[0;34m=\u001b[0m \u001b[0mde\u001b[0m\u001b[0;34m.\u001b[0m\u001b[0mflat_hessian\u001b[0m\u001b[0;34m(\u001b[0m\u001b[0mflat_grads\u001b[0m\u001b[0;34m,\u001b[0m \u001b[0mlist\u001b[0m\u001b[0;34m(\u001b[0m\u001b[0mparams\u001b[0m\u001b[0;34m)\u001b[0m\u001b[0;34m)\u001b[0m\u001b[0;34m.\u001b[0m\u001b[0mto\u001b[0m\u001b[0;34m(\u001b[0m\u001b[0mtorch\u001b[0m\u001b[0;34m.\u001b[0m\u001b[0mdouble\u001b[0m\u001b[0;34m)\u001b[0m\u001b[0;34m\u001b[0m\u001b[0;34m\u001b[0m\u001b[0m\n\u001b[0m\u001b[1;32m     87\u001b[0m                 \u001b[0;31m# print(full_hessian)\u001b[0m\u001b[0;34m\u001b[0m\u001b[0;34m\u001b[0m\u001b[0m\n\u001b[1;32m     88\u001b[0m \u001b[0;34m\u001b[0m\u001b[0m\n",
      "\u001b[0;32m~/Documents/OPTAMI/OPTAMI/sup/derivatives.py\u001b[0m in \u001b[0;36mflat_hessian\u001b[0;34m(flat_grads, params)\u001b[0m\n\u001b[1;32m     42\u001b[0m     \u001b[0mfull_hessian\u001b[0m \u001b[0;34m=\u001b[0m \u001b[0;34m[\u001b[0m\u001b[0;34m]\u001b[0m\u001b[0;34m\u001b[0m\u001b[0;34m\u001b[0m\u001b[0m\n\u001b[1;32m     43\u001b[0m     \u001b[0;32mfor\u001b[0m \u001b[0mi\u001b[0m \u001b[0;32min\u001b[0m \u001b[0mrange\u001b[0m\u001b[0;34m(\u001b[0m\u001b[0mflat_grads\u001b[0m\u001b[0;34m.\u001b[0m\u001b[0msize\u001b[0m\u001b[0;34m(\u001b[0m\u001b[0;34m)\u001b[0m\u001b[0;34m[\u001b[0m\u001b[0;36m0\u001b[0m\u001b[0;34m]\u001b[0m\u001b[0;34m)\u001b[0m\u001b[0;34m:\u001b[0m\u001b[0;34m\u001b[0m\u001b[0;34m\u001b[0m\u001b[0m\n\u001b[0;32m---> 44\u001b[0;31m         temp_hess = torch.autograd.grad(flat_grads[i], params,\n\u001b[0m\u001b[1;32m     45\u001b[0m                                         retain_graph=True)\n\u001b[1;32m     46\u001b[0m         \u001b[0;31m# print(temp_hess)\u001b[0m\u001b[0;34m\u001b[0m\u001b[0;34m\u001b[0m\u001b[0m\n",
      "\u001b[0;32m~/.pyenv/versions/3.9.9/envs/tensor_methods/lib/python3.9/site-packages/torch/autograd/__init__.py\u001b[0m in \u001b[0;36mgrad\u001b[0;34m(outputs, inputs, grad_outputs, retain_graph, create_graph, only_inputs, allow_unused, is_grads_batched)\u001b[0m\n\u001b[1;32m    274\u001b[0m         \u001b[0;32mreturn\u001b[0m \u001b[0m_vmap_internals\u001b[0m\u001b[0;34m.\u001b[0m\u001b[0m_vmap\u001b[0m\u001b[0;34m(\u001b[0m\u001b[0mvjp\u001b[0m\u001b[0;34m,\u001b[0m \u001b[0;36m0\u001b[0m\u001b[0;34m,\u001b[0m \u001b[0;36m0\u001b[0m\u001b[0;34m,\u001b[0m \u001b[0mallow_none_pass_through\u001b[0m\u001b[0;34m=\u001b[0m\u001b[0;32mTrue\u001b[0m\u001b[0;34m)\u001b[0m\u001b[0;34m(\u001b[0m\u001b[0mgrad_outputs_\u001b[0m\u001b[0;34m)\u001b[0m\u001b[0;34m\u001b[0m\u001b[0;34m\u001b[0m\u001b[0m\n\u001b[1;32m    275\u001b[0m     \u001b[0;32melse\u001b[0m\u001b[0;34m:\u001b[0m\u001b[0;34m\u001b[0m\u001b[0;34m\u001b[0m\u001b[0m\n\u001b[0;32m--> 276\u001b[0;31m         return Variable._execution_engine.run_backward(  # Calls into the C++ engine to run the backward pass\n\u001b[0m\u001b[1;32m    277\u001b[0m             \u001b[0mt_outputs\u001b[0m\u001b[0;34m,\u001b[0m \u001b[0mgrad_outputs_\u001b[0m\u001b[0;34m,\u001b[0m \u001b[0mretain_graph\u001b[0m\u001b[0;34m,\u001b[0m \u001b[0mcreate_graph\u001b[0m\u001b[0;34m,\u001b[0m \u001b[0mt_inputs\u001b[0m\u001b[0;34m,\u001b[0m\u001b[0;34m\u001b[0m\u001b[0;34m\u001b[0m\u001b[0m\n\u001b[1;32m    278\u001b[0m             allow_unused, accumulate_grad=False)  # Calls into the C++ engine to run the backward pass\n",
      "\u001b[0;31mKeyboardInterrupt\u001b[0m: "
     ]
    }
   ],
   "source": [
    "optimizer, i, cr_1_list, cr_2_list, phi_list, f_list = run_experiment(\n",
    "    M_p,\n",
    "    gamma, \n",
    "    eps, \n",
    "    image_index,\n",
    "    m,\n",
    "    optimizer=optimizer,\n",
    "    max_steps=500,\n",
    "    device=device\n",
    ")"
   ]
  },
  {
   "cell_type": "markdown",
   "id": "97c816b5-1ea5-4da4-be17-54b2dc3830ce",
   "metadata": {},
   "source": [
    "## BDGM "
   ]
  },
  {
   "cell_type": "code",
   "execution_count": 18,
   "id": "d5b02399-844c-4b55-82c0-6dd8c1f7e226",
   "metadata": {},
   "outputs": [
    {
     "name": "stdout",
     "output_type": "stream",
     "text": [
      "Step#499, phi=2.775322069945273\n"
     ]
    }
   ],
   "source": [
    "lamb = torch.zeros(2 * n, requires_grad=True, device=device, dtype=torch.double)\n",
    "\n",
    "M = M_p * 2\n",
    "M_squared, M_p_squared = M ** 2, M_p ** 2\n",
    "p_order = 3\n",
    "A_factor = ((p_order - 1) * (M_squared - M_p_squared) /\n",
    "                    (4 * (p_order + 1) * p_order ** 2 * M_squared)) ** (p_order / 2)\n",
    "\n",
    "optimizer = BDGM([lamb], L=M)\n",
    "closure = lambda: phi(lamb, n, gamma, M_matrix / gamma, ones, p, q, optimizer=optimizer)\n",
    "\n",
    "bdgm_phi_list = [0.0] * 500\n",
    "for i in range(500):\n",
    "    optimizer.step(closure)\n",
    "    with torch.no_grad():\n",
    "        phi_value = closure().item()\n",
    "        bdgm_phi_list[i] = phi_value\n",
    "        clear_output(wait=True)\n",
    "        print(f'Step#{i}, phi={phi_value}')"
   ]
  },
  {
   "cell_type": "code",
   "execution_count": 18,
   "id": "75416cd6-2226-4982-a192-022f618424dc",
   "metadata": {},
   "outputs": [
    {
     "data": {
      "text/plain": [
       "<matplotlib.legend.Legend at 0x15c171fa0>"
      ]
     },
     "execution_count": 18,
     "metadata": {},
     "output_type": "execute_result"
    },
    {
     "data": {
      "image/png": "[encoded data removed]",
      "text/plain": [
       "<Figure size 432x288 with 1 Axes>"
      ]
     },
     "metadata": {
      "needs_background": "light"
     },
     "output_type": "display_data"
    }
   ],
   "source": [
    "plt.plot(cr_1_list, label='Tensor Method')\n",
    "plt.plot(fgm_cr_1_list, label='FGM')\n",
    "plt.title('Dual gap')\n",
    "plt.legend()"
   ]
  },
  {
   "cell_type": "code",
   "execution_count": 22,
   "id": "0fc3574a-bbfe-4922-bbe4-e0203ebc4fdf",
   "metadata": {},
   "outputs": [
    {
     "data": {
      "text/plain": [
       "<matplotlib.legend.Legend at 0x1556ba070>"
      ]
     },
     "execution_count": 22,
     "metadata": {},
     "output_type": "execute_result"
    },
    {
     "data": {
      "image/png": "[encoded data removed]",
      "text/plain": [
       "<Figure size 432x288 with 1 Axes>"
      ]
     },
     "metadata": {
      "needs_background": "light"
     },
     "output_type": "display_data"
    }
   ],
   "source": [
    "# plt.plot(bdgm_phi_list, label='BDGM')\n",
    "plt.plot(cr_2_list, label='Tensor Method')\n",
    "plt.plot(fgm_cr_2_list, label='FGM')\n",
    "plt.title('Equality condition')\n",
    "plt.legend()"
   ]
  },
  {
   "cell_type": "code",
   "execution_count": 21,
   "id": "15b1d4da-3c66-4006-82dc-b467d6c04a46",
   "metadata": {},
   "outputs": [
    {
     "data": {
      "text/plain": [
       "<matplotlib.legend.Legend at 0x15569ec70>"
      ]
     },
     "execution_count": 21,
     "metadata": {},
     "output_type": "execute_result"
    },
    {
     "data": {
      "image/png": "[encoded data removed]",
      "text/plain": [
       "<Figure size 432x288 with 1 Axes>"
      ]
     },
     "metadata": {
      "needs_background": "light"
     },
     "output_type": "display_data"
    }
   ],
   "source": [
    "plt.plot(bdgm_phi_list, label='BDGM')\n",
    "plt.plot(phi_list, label='Tensor Method')\n",
    "plt.plot(F_list, label='FGM')\n",
    "plt.title('$\\phi$ value')\n",
    "plt.legend()"
   ]
  },
  {
   "cell_type": "code",
   "execution_count": 21,
   "id": "83a36bad-1fe6-4ff5-8594-70c0a4d3f08f",
   "metadata": {},
   "outputs": [
    {
     "data": {
      "text/plain": [
       "<matplotlib.legend.Legend at 0x15c1bfd30>"
      ]
     },
     "execution_count": 21,
     "metadata": {},
     "output_type": "execute_result"
    },
    {
     "data": {
      "image/png": "[encoded data removed]",
      "text/plain": [
       "<Figure size 432x288 with 1 Axes>"
      ]
     },
     "metadata": {
      "needs_background": "light"
     },
     "output_type": "display_data"
    }
   ],
   "source": [
    "plt.plot(f_list, label='Tensor Method')\n",
    "plt.plot(g_list, label='FGM')\n",
    "plt.title('$f$ value')\n",
    "plt.legend()"
   ]
  },
  {
   "cell_type": "markdown",
   "id": "c2ff7653-2249-4a5b-8c24-2725a597e5bb",
   "metadata": {},
   "source": [
    "# OT test code from Nazarii"
   ]
  },
  {
   "cell_type": "code",
   "execution_count": 16,
   "id": "d9b76b3b-7b68-49b5-aa58-afcdb5942554",
   "metadata": {
    "colab": {
     "base_uri": "https://localhost:8080/",
     "height": 35
    },
    "id": "lD9GVDPpjLMc",
    "outputId": "f87a5b73-d8fa-4940-85ef-8d273f37afb8",
    "tags": []
   },
   "outputs": [
    {
     "data": {
      "text/plain": [
       "1.0"
      ]
     },
     "execution_count": 16,
     "metadata": {},
     "output_type": "execute_result"
    }
   ],
   "source": [
    "from mnist import MNIST\n",
    "import numpy as np\n",
    "from scipy.spatial.distance import cdist\n",
    "import math\n",
    "#https://pypi.org/project/python-mnist\n",
    "mndata = MNIST('./data/')\n",
    "images, labels = mndata.load_training()\n",
    "%matplotlib inline\n",
    "import matplotlib.pyplot as plt\n",
    "import copy\n",
    "from numpy import linalg\n",
    "import time\n",
    "\n",
    "l = len(images)\n",
    "n = len(images[0])\n",
    "m = int(np.sqrt(n))\n",
    "\n",
    "# def mnist(eps, p, q):\n",
    "#     p, q = np.float64(images[p]), np.float64(images[q])\n",
    "#     p, q = p / sum(p), q / sum(q)\n",
    "    \n",
    "#     p = (1 - eps / 8) * p + eps / (8 * n)\n",
    "#     q = (1 - eps / 8) * q + eps / (8 * n)\n",
    "    \n",
    "#     return p, q\n",
    "\n",
    "def cartesian_product(*arrays):\n",
    "    la = len(arrays)\n",
    "    dtype = np.result_type(*arrays)\n",
    "    arr = np.empty([len(a) for a in arrays] + [la], dtype=dtype)\n",
    "    for i, a in enumerate(np.ix_(*arrays)):\n",
    "        arr[...,i] = a\n",
    "    return arr.reshape(-1, la)\n",
    "\n",
    "C = np.arange(m)\n",
    "C = cartesian_product(C, C)\n",
    "C = cdist(C, C)\n",
    "C /= np.max(C)\n",
    "C.max()"
   ]
  },
  {
   "cell_type": "code",
   "execution_count": 17,
   "id": "90d31e4d-cb10-4ae6-975e-c645e2099e02",
   "metadata": {
    "id": "f4ur_WaqjLMi"
   },
   "outputs": [],
   "source": [
    "one = np.ones(n, np.float64)\n",
    "I = np.ones([n,n], np.float64)\n",
    "def f_true(x):\n",
    "    return (C * x).sum()\n",
    "\n",
    "def B_round(x):\n",
    "    r = p_ref / x.dot(one)\n",
    "    r[r>1] = 1.\n",
    "    F = np.diag(r).dot(x)\n",
    "    c = q_ref / (x.T).dot(one)\n",
    "    c[c>1] = 1.\n",
    "    F = F.dot(np.diag(c))\n",
    "    err_r = p_ref - F.dot(one)\n",
    "    err_c = q_ref - (F.T).dot(one)\n",
    "    return F + np.outer(err_r, err_c) / abs(err_r).sum()"
   ]
  },
  {
   "cell_type": "code",
   "execution_count": 18,
   "id": "d33fb736-831a-435e-90f1-e1576383e5e4",
   "metadata": {
    "id": "QTUDC4ajjLMr"
   },
   "outputs": [],
   "source": [
    "def phi_(gamma, lamu):\n",
    "    A = (-C/gamma + np.outer(lamu[:n], one) + np.outer(one, lamu[n:]))\n",
    "    a = A.max()\n",
    "    A-=a\n",
    "    s = a+np.log(np.exp(A).sum())\n",
    "    return gamma*(-lamu[:n].dot(p) - lamu[n:].dot(q) + s)\n",
    "\n",
    "def f_(gamma, x):\n",
    "    y = (x.reshape(-1)).copy()\n",
    "    y[x.reshape(-1) == 0.] = 1.\n",
    "    \n",
    "    y = y.reshape(n, -1)\n",
    "    return (C * x).sum() + gamma * (x * np.log(y)).sum()"
   ]
  },
  {
   "cell_type": "code",
   "execution_count": 23,
   "id": "6a0a34fb-348a-48a6-bd81-e78aa524ea2f",
   "metadata": {
    "id": "7NVDKMvwjLM7"
   },
   "outputs": [],
   "source": [
    "def apd(x0, L):\n",
    "    betta = 0.\n",
    "    alpha = 0.\n",
    "    primal_var = 0.*np.ones([n, n], dtype=np.float64)\n",
    "    z = np.zeros(2*n, dtype=np.float64)\n",
    "    z_new = np.zeros(2*n, dtype=np.float64)\n",
    "    eta = np.zeros(2*n, dtype=np.float64)\n",
    "    eta_new  = np.zeros(2*n, dtype=np.float64)\n",
    "    grad_phi_new = np.zeros(2*n, dtype=np.float64)\n",
    "    \n",
    "    f = lambda x: phi_(gamma, x)\n",
    "    f_primal = lambda x: f_(gamma, x)\n",
    "    \n",
    "    k=0\n",
    "    start_time = time.perf_counter()\n",
    "    while True:\n",
    "        # L = L / 2\n",
    "        # while True:\n",
    "        alpha_new = (1 + np.sqrt(4*L*betta + 1)) / 2 / L\n",
    "        betta_new = betta + alpha_new\n",
    "        tau = alpha_new / betta_new\n",
    "        lamu_new = tau * z + (1 - tau) * eta\n",
    "\n",
    "        logB = (K + np.outer(lamu_new[:n], one) + np.outer(one, lamu_new[n:]))\n",
    "        max_logB =logB.max()\n",
    "        logB_stable = logB - max_logB\n",
    "\n",
    "        B_stable = np.exp(logB_stable)\n",
    "        u_hat_stable, v_hat_stable = B_stable.dot(one), B_stable.T.dot(one)\n",
    "\n",
    "        Bs_stable = u_hat_stable.sum()\n",
    "\n",
    "        phi_new = gamma*(-lamu_new[:n].dot(p) - lamu_new[n:].dot(q) + np.log(Bs_stable) + max_logB)\n",
    "        grad_phi_new = gamma*np.concatenate((-p + u_hat_stable/Bs_stable, -q + v_hat_stable/Bs_stable),0)\n",
    "\n",
    "        z_new = z - alpha_new * grad_phi_new\n",
    "        eta_new = tau * z_new + (1-tau) * eta\n",
    "\n",
    "        phi_eta = f(eta_new)\n",
    "\n",
    "            # if phi_eta <= phi_new + grad_phi_new.dot(eta_new - lamu_new) + L * ((eta_new - lamu_new)**2).sum() / 2:\n",
    "        alpha, betta = alpha_new, betta_new\n",
    "        z = z_new.copy()\n",
    "        eta = eta_new.copy()\n",
    "            #     break    \n",
    "            # L = L * 2\n",
    "        primal_var = tau * B_stable/Bs_stable + (1 - tau) * primal_var\n",
    "        \n",
    "        cr_1 = abs(f_primal(primal_var) + phi_eta)\n",
    "        cr_2 = (C * (B_round(primal_var) - primal_var)).sum()\n",
    "        if k == 0:\n",
    "            init_cr_1 = cr_1\n",
    "            init_cr_2 = cr_2\n",
    "\n",
    "        clear_output(wait=True)\n",
    "        print('\\n'.join([\n",
    "            f'Step #{k + 1}', \n",
    "            f'cr_1: {init_cr_1} -> {cr_1}',\n",
    "            f'cr_2: {init_cr_2} -> {cr_2}'\n",
    "        ]))\n",
    "        if cr_2 <= eps/6 and cr_1 <= eps/6:\n",
    "            return time.perf_counter() - start_time\n",
    "        \n",
    "        k=k+1"
   ]
  },
  {
   "cell_type": "code",
   "execution_count": 26,
   "id": "acf2cefa-49ca-4bfe-a189-0b8408a0dc84",
   "metadata": {},
   "outputs": [],
   "source": [
    "x_array = np.linspace(1 / 2e-2, 1 / 4e-4, 6)\n",
    "epslist = 1 / x_array"
   ]
  },
  {
   "cell_type": "code",
   "execution_count": 27,
   "id": "bc26b0b3-1e36-451e-a11a-40a3013815f0",
   "metadata": {},
   "outputs": [
    {
     "data": {
      "text/plain": [
       "array([0.02      , 0.00185185, 0.00097087, 0.00065789, 0.00049751,\n",
       "       0.0004    ])"
      ]
     },
     "execution_count": 27,
     "metadata": {},
     "output_type": "execute_result"
    }
   ],
   "source": [
    "epslist"
   ]
  },
  {
   "cell_type": "code",
   "execution_count": null,
   "id": "e700a087-9feb-4f9c-bc6d-d47c20b643e4",
   "metadata": {
    "tags": []
   },
   "outputs": [],
   "source": [
    "# if not os.path.isfile('/content/drive/My Drive/colab/'+'!e_'+'apd_'+str(k)+'.npy'):\n",
    "# i=0\n",
    "# for eps in epslist:\n",
    "k = 0\n",
    "x0 = np.zeros(2 * n, dtype=np.float64)\n",
    "# epsp = epslist[0] / 8\n",
    "epsp = eps / 8\n",
    "p,q = mnist(eps, p_list[k], q_list[k], images, n)\n",
    "p_ref, q_ref = mnist(0, p_list[k], q_list[k], images, n)\n",
    "gamma=eps/3/np.log(n)\n",
    "K=-C/gamma\n",
    "print(apd(x0, M_1.item()))\n",
    "# i-=-1\n",
    "    # np.save('/content/drive/My Drive/colab/'+'!e_'+'apd_'+str(k)+'.npy', y_array)\n",
    "# print('apd_', k, ' - done', y_array)"
   ]
  },
  {
   "cell_type": "markdown",
   "id": "aaf37f92-e85d-4c7a-b9e4-4d42b497e2c6",
   "metadata": {},
   "source": [
    "# TEST "
   ]
  },
  {
   "cell_type": "code",
   "execution_count": 50,
   "id": "900ec49d-ab89-46b1-8ff2-b5678489f373",
   "metadata": {
    "id": "QTUDC4ajjLMr"
   },
   "outputs": [],
   "source": [
    "def phi_(gamma, lamu):\n",
    "    A = (-C/gamma + np.outer(lamu[:n], one) + np.outer(one, lamu[n:]))\n",
    "    a = A.max()\n",
    "    A-=a\n",
    "    s = a+np.log(np.exp(A).sum())\n",
    "    return gamma*(-lamu[:n].dot(p) - lamu[n:].dot(q) + s)\n",
    "\n",
    "def f_(gamma, x):\n",
    "    y = (x.reshape(-1)).copy()\n",
    "    y[x.reshape(-1) == 0.] = 1.\n",
    "    \n",
    "    y = y.reshape(n, -1)\n",
    "    return (M_matrix.numpy() * x).sum() + gamma * (x * np.log(y)).sum()"
   ]
  },
  {
   "cell_type": "code",
   "execution_count": 15,
   "id": "2bd5e2ee-2a6b-4851-949a-fab821bd1b28",
   "metadata": {},
   "outputs": [
    {
     "data": {
      "text/plain": [
       "100"
      ]
     },
     "execution_count": 15,
     "metadata": {},
     "output_type": "execute_result"
    }
   ],
   "source": [
    "n "
   ]
  }
 ],
 "metadata": {
  "accelerator": "GPU",
  "colab": {
   "collapsed_sections": [],
   "name": "primal_dual.ipynb",
   "provenance": []
  },
  "kernelspec": {
   "display_name": "Python (tensor_methods)",
   "language": "python",
   "name": "tensor_methods"
  },
  "language_info": {
   "codemirror_mode": {
    "name": "ipython",
    "version": 3
   },
   "file_extension": ".py",
   "mimetype": "text/x-python",
   "name": "python",
   "nbconvert_exporter": "python",
   "pygments_lexer": "ipython3",
   "version": "3.9.9"
  }
 },
 "nbformat": 4,
 "nbformat_minor": 5
}
