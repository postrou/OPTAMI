{
 "cells": [
  {
   "cell_type": "code",
   "execution_count": 1,
   "id": "SxOIjasl-7yV",
   "metadata": {
    "colab": {
     "base_uri": "https://localhost:8080/"
    },
    "executionInfo": {
     "elapsed": 23487,
     "status": "ok",
     "timestamp": 1641415837807,
     "user": {
      "displayName": "Petr Ostroukhov",
      "photoUrl": "https://lh3.googleusercontent.com/a-/AOh14GiZB6-DHQ3v5rx_0tpUGWEHcJMywiXeC7iRnwsPiQ=s64",
      "userId": "05145088499816938444"
     },
     "user_tz": -180
    },
    "id": "SxOIjasl-7yV",
    "outputId": "7c42994d-b18b-4a64-cf99-546e99235d6e"
   },
   "outputs": [
    {
     "name": "stdout",
     "output_type": "stream",
     "text": [
      "Mounted at /content/drive\n"
     ]
    }
   ],
   "source": [
    "from google.colab import drive\n",
    "drive.mount('/content/drive')"
   ]
  },
  {
   "cell_type": "code",
   "execution_count": null,
   "id": "NS69HsIb9wkn",
   "metadata": {
    "colab": {
     "base_uri": "https://localhost:8080/"
    },
    "executionInfo": {
     "elapsed": 8767,
     "status": "ok",
     "timestamp": 1641415848706,
     "user": {
      "displayName": "Petr Ostroukhov",
      "photoUrl": "https://lh3.googleusercontent.com/a-/AOh14GiZB6-DHQ3v5rx_0tpUGWEHcJMywiXeC7iRnwsPiQ=s64",
      "userId": "05145088499816938444"
     },
     "user_tz": -180
    },
    "id": "NS69HsIb9wkn",
    "outputId": "c1f1614d-fcda-4c22-952c-45c6b7c44db2"
   },
   "outputs": [],
   "source": [
    "!pip3 install python-mnist\n",
    "!wget https://github.com/sorki/python-mnist/blob/master/bin/mnist_get_data.sh\n",
    "!mnist_get_data.sh"
   ]
  },
  {
   "cell_type": "code",
   "execution_count": 1,
   "id": "9b566dab-2bd3-49bc-ac67-0b5c90ff203e",
   "metadata": {},
   "outputs": [],
   "source": [
    "%load_ext autoreload\n",
    "%autoreload 2"
   ]
  },
  {
   "cell_type": "code",
   "execution_count": 2,
   "id": "cb046398-bb9e-4553-b4c7-400a34ca0c55",
   "metadata": {
    "executionInfo": {
     "elapsed": 1498,
     "status": "ok",
     "timestamp": 1641416357443,
     "user": {
      "displayName": "Petr Ostroukhov",
      "photoUrl": "https://lh3.googleusercontent.com/a-/AOh14GiZB6-DHQ3v5rx_0tpUGWEHcJMywiXeC7iRnwsPiQ=s64",
      "userId": "05145088499816938444"
     },
     "user_tz": -180
    },
    "id": "cb046398-bb9e-4553-b4c7-400a34ca0c55"
   },
   "outputs": [],
   "source": [
    "import sys\n",
    "\n",
    "import torch\n",
    "import matplotlib.pylab as plt\n",
    "from tqdm.notebook import tqdm, trange\n",
    "import numpy as np\n",
    "from scipy.spatial.distance import cdist\n",
    "from mnist import MNIST\n",
    "from IPython.display import clear_output\n",
    "\n",
    "# sys.path.append('/content/drive/MyDrive/Documents/OPTAMI/OPTAMI')\n",
    "# sys.path.append('/content/drive/MyDrive/Documents/OPTAMI')\n",
    "from OPTAMI import PrimalDualAccelerated\n",
    "from run_pd_experiment import *"
   ]
  },
  {
   "cell_type": "code",
   "execution_count": 3,
   "id": "e0b0927c-33a7-4058-b554-f402493fad41",
   "metadata": {
    "executionInfo": {
     "elapsed": 796,
     "status": "ok",
     "timestamp": 1641416358774,
     "user": {
      "displayName": "Petr Ostroukhov",
      "photoUrl": "https://lh3.googleusercontent.com/a-/AOh14GiZB6-DHQ3v5rx_0tpUGWEHcJMywiXeC7iRnwsPiQ=s64",
      "userId": "05145088499816938444"
     },
     "user_tz": -180
    },
    "id": "e0b0927c-33a7-4058-b554-f402493fad41"
   },
   "outputs": [],
   "source": [
    "n = 784\n",
    "m = int(np.sqrt(n))"
   ]
  },
  {
   "cell_type": "code",
   "execution_count": 4,
   "id": "yaEYNEJtdqP_",
   "metadata": {
    "executionInfo": {
     "elapsed": 3,
     "status": "ok",
     "timestamp": 1641416359395,
     "user": {
      "displayName": "Petr Ostroukhov",
      "photoUrl": "https://lh3.googleusercontent.com/a-/AOh14GiZB6-DHQ3v5rx_0tpUGWEHcJMywiXeC7iRnwsPiQ=s64",
      "userId": "05145088499816938444"
     },
     "user_tz": -180
    },
    "id": "yaEYNEJtdqP_"
   },
   "outputs": [],
   "source": [
    "device = 'cpu'"
   ]
  },
  {
   "cell_type": "code",
   "execution_count": 5,
   "id": "78a7b38f-121e-4593-91d1-975fc53ebd75",
   "metadata": {},
   "outputs": [
    {
     "name": "stderr",
     "output_type": "stream",
     "text": [
      "Building matrix A: 100%|█████████████████████████████████████████████████████████████████████████████████████████████████████████████████████████████████████████████████████| 784/784 [00:02<00:00, 343.93it/s]\n"
     ]
    }
   ],
   "source": [
    "A_matrix = calculate_A_matrix(n)\n",
    "A_A_T = A_matrix @ A_matrix.T"
   ]
  },
  {
   "cell_type": "markdown",
   "id": "aeb0ea84-22bb-44b8-ab1b-c54e422a1acb",
   "metadata": {
    "id": "aeb0ea84-22bb-44b8-ab1b-c54e422a1acb"
   },
   "source": [
    "# Primal-Dual Tensor Method"
   ]
  },
  {
   "cell_type": "code",
   "execution_count": 6,
   "id": "cb4485d6-d74a-44fe-991b-88e8ba06c99d",
   "metadata": {
    "executionInfo": {
     "elapsed": 3,
     "status": "ok",
     "timestamp": 1641416361654,
     "user": {
      "displayName": "Petr Ostroukhov",
      "photoUrl": "https://lh3.googleusercontent.com/a-/AOh14GiZB6-DHQ3v5rx_0tpUGWEHcJMywiXeC7iRnwsPiQ=s64",
      "userId": "05145088499816938444"
     },
     "user_tz": -180
    },
    "id": "cb4485d6-d74a-44fe-991b-88e8ba06c99d"
   },
   "outputs": [],
   "source": [
    "eps = 0.02\n",
    "gamma = eps\n",
    "image_index = 0"
   ]
  },
  {
   "cell_type": "code",
   "execution_count": 7,
   "id": "e012d0b5-a6f8-4fe5-9a51-3a86dedbfd3c",
   "metadata": {
    "colab": {
     "base_uri": "https://localhost:8080/"
    },
    "executionInfo": {
     "elapsed": 14953,
     "status": "ok",
     "timestamp": 1641416377128,
     "user": {
      "displayName": "Petr Ostroukhov",
      "photoUrl": "https://lh3.googleusercontent.com/a-/AOh14GiZB6-DHQ3v5rx_0tpUGWEHcJMywiXeC7iRnwsPiQ=s64",
      "userId": "05145088499816938444"
     },
     "user_tz": -180
    },
    "id": "e012d0b5-a6f8-4fe5-9a51-3a86dedbfd3c",
    "outputId": "69435d21-423d-498f-82d2-b09561fb217c"
   },
   "outputs": [],
   "source": [
    "M_p = calculate_lipschitz_constant(n, gamma, p_order=3, A_A_T=A_A_T, device=device)\n",
    "# M_p = torch.tensor(3.6843e+16, device=device)"
   ]
  },
  {
   "cell_type": "code",
   "execution_count": 8,
   "id": "18be7e91-82e4-40d7-bdde-494bc0ec4f8d",
   "metadata": {
    "executionInfo": {
     "elapsed": 5,
     "status": "ok",
     "timestamp": 1641416247891,
     "user": {
      "displayName": "Petr Ostroukhov",
      "photoUrl": "https://lh3.googleusercontent.com/a-/AOh14GiZB6-DHQ3v5rx_0tpUGWEHcJMywiXeC7iRnwsPiQ=s64",
      "userId": "05145088499816938444"
     },
     "user_tz": -180
    },
    "id": "18be7e91-82e4-40d7-bdde-494bc0ec4f8d"
   },
   "outputs": [],
   "source": [
    "# def ot_softmax():\n",
    "    # log_B = M_over_gamma + torch.outer(psi, torch.ones(n)) + torch.outer(eta, torch.ones(n))\n",
    "    # max_log_B = log_B.max()\n",
    "    # log_B_stable = log_B - max_log_B\n",
    "    # B_stable = torch.exp(log_b_stable)\n",
    "    \n",
    "    # return gamma * (torch.log(B_stable.sum()) + max_log_B - lamb @ b)"
   ]
  },
  {
   "cell_type": "code",
   "execution_count": 9,
   "id": "4d61cc7c-e8b8-4684-912f-ce2fa319331c",
   "metadata": {
    "colab": {
     "base_uri": "https://localhost:8080/",
     "height": 1000
    },
    "executionInfo": {
     "elapsed": 25475,
     "status": "error",
     "timestamp": 1641416402599,
     "user": {
      "displayName": "Petr Ostroukhov",
      "photoUrl": "https://lh3.googleusercontent.com/a-/AOh14GiZB6-DHQ3v5rx_0tpUGWEHcJMywiXeC7iRnwsPiQ=s64",
      "userId": "05145088499816938444"
     },
     "user_tz": -180
    },
    "id": "4d61cc7c-e8b8-4684-912f-ce2fa319331c",
    "outputId": "0e4272d4-d71b-49d4-faee-1133c82e6c40",
    "scrolled": true,
    "tags": []
   },
   "outputs": [
    {
     "name": "stdout",
     "output_type": "stream",
     "text": [
      "Step #1, criterion=1.0493743540784806e-08, phi=0.1360974888154517, f=-0.13609749930919524\n",
      "lambda=tensor([-4.5960e-08, -4.7596e-08, -4.7656e-08,  ..., -4.7656e-08,\n",
      "        -4.7596e-08, -4.5960e-08], dtype=torch.float64)\n",
      "x_hat=tensor([1.1084e-03, 3.3733e-05, 1.0267e-06,  ..., 1.0267e-06, 3.3733e-05,\n",
      "        1.1084e-03], dtype=torch.float64)\n",
      "\n",
      "CPU times: user 50.3 s, sys: 8.63 s, total: 58.9 s\n",
      "Wall time: 20.7 s\n"
     ]
    }
   ],
   "source": [
    "%%time\n",
    "optimizer = run_experiment(M_p, gamma, eps, image_index, max_steps=1, device=device)"
   ]
  },
  {
   "cell_type": "code",
   "execution_count": 47,
   "id": "5a98d2e9-3a9d-4024-b73b-88b2c5caa540",
   "metadata": {
    "colab": {
     "base_uri": "https://localhost:8080/",
     "height": 1000
    },
    "executionInfo": {
     "elapsed": 25475,
     "status": "error",
     "timestamp": 1641416402599,
     "user": {
      "displayName": "Petr Ostroukhov",
      "photoUrl": "https://lh3.googleusercontent.com/a-/AOh14GiZB6-DHQ3v5rx_0tpUGWEHcJMywiXeC7iRnwsPiQ=s64",
      "userId": "05145088499816938444"
     },
     "user_tz": -180
    },
    "id": "4d61cc7c-e8b8-4684-912f-ce2fa319331c",
    "outputId": "0e4272d4-d71b-49d4-faee-1133c82e6c40",
    "scrolled": true,
    "tags": []
   },
   "outputs": [
    {
     "name": "stdout",
     "output_type": "stream",
     "text": [
      "Step #1, criterion=9.682405933617022e-08, phi=0.006666569841931289, f=-0.006666666665990625\n",
      "lambda=tensor([-9.0958e-09, -9.0958e-09, -9.0958e-09,  ..., -9.0958e-09,\n",
      "        -9.0958e-09, -9.0958e-09], dtype=torch.float64)\n",
      "x_hat=tensor([1.2755e-03, 6.0744e-34, 2.8929e-64,  ..., 2.8929e-64, 6.0744e-34,\n",
      "        1.2755e-03], dtype=torch.float64)\n",
      "\n",
      "CPU times: user 56.5 s, sys: 4.15 s, total: 1min\n",
      "Wall time: 18.9 s\n"
     ]
    }
   ],
   "source": [
    "%%time\n",
    "optimizer = run_experiment(M_p, gamma, eps, image_index, max_steps=1, device=device)"
   ]
  },
  {
   "cell_type": "markdown",
   "id": "4c9eb191-4ba9-4003-89fb-1cb93190c122",
   "metadata": {
    "id": "4c9eb191-4ba9-4003-89fb-1cb93190c122"
   },
   "source": [
    "# Fast gradient method for dual function"
   ]
  },
  {
   "cell_type": "code",
   "execution_count": 10,
   "id": "5d652bc2-f9d2-4159-900e-71a48768a995",
   "metadata": {},
   "outputs": [],
   "source": [
    "def fast_gradient_method(\n",
    "    L, \n",
    "    primal_function, \n",
    "    dual_function, \n",
    "    primal_var_function,\n",
    "    A_matrix,\n",
    "    b,\n",
    "    eps,\n",
    "    eps_tilde\n",
    "):\n",
    "    \n",
    "    dual_var_next = torch.zeros(2 * n, requires_grad=True, dtype=torch.double)\n",
    "    y_next = torch.zeros(2 * n, dtype=torch.double)\n",
    "    z_next = torch.zeros(2 * n, dtype=torch.double)\n",
    "    k = 0\n",
    "    one_over_L = 1 / L\n",
    "    alpha_next = one_over_L\n",
    "    sum_of_y = y_next\n",
    "    while True:\n",
    "        y = y_next.detach().clone()\n",
    "        z = z_next.detach().clone()\n",
    "        tau = 2 / (k + 2)\n",
    "        \n",
    "        with torch.no_grad():\n",
    "            dual_var_next = tau * z + (1 - tau ) * y\n",
    "            dual_var_next.requires_grad_(True)\n",
    "            # dual_var_next.add_(z, alpha=tau).add_(y, alpha=1 - tau)\n",
    "        \n",
    "        phi_next = dual_function(dual_var_next)\n",
    "        grad_phi_next = torch.autograd.grad(phi_next, dual_var_next)\n",
    "        y_next = dual_var_next.detach().clone() - one_over_L * grad_phi_next[0]\n",
    "        \n",
    "        z_next = z - alpha_next * grad_phi_next[0]\n",
    "        \n",
    "        N = k + 1\n",
    "        \n",
    "        y_tilde = 1 / (N * (N + 3)) * (sum_of_y + (N + 1) ** 2 * y_next)\n",
    "        sum_of_y += y_next\n",
    "        \n",
    "        primal_var = primal_var_function(dual_var_next)\n",
    "        F_value = dual_function(y_tilde)\n",
    "        g_value = primal_function(primal_var)\n",
    "        cr_1 = abs(F_value + g_value)\n",
    "        cr_2 = torch.norm(A_matrix @ primal_var - b)\n",
    "        if k == 0:\n",
    "            init_cr_1 = cr_1\n",
    "            init_cr_2 = cr_2\n",
    "        # print(f'Step #{k}, cr_1={cr_1}, cr_2={cr_2}, phi={F_value}, f={g_value}', end='\\n\\n')\n",
    "        clear_output(wait=True)\n",
    "        print('\\n'.join([\n",
    "            f'Step #{k + 1}', \n",
    "            f'cr_1: {init_cr_1} -> {cr_1}',\n",
    "            f'cr_2: {init_cr_2} -> {cr_2}'\n",
    "        ]))\n",
    "        \n",
    "        if cr_1 <= eps and cr_2 <= eps_tilde:\n",
    "            break\n",
    "        \n",
    "        alpha_next = (k + 2) * one_over_L / 2\n",
    "        k += 1\n",
    "        \n",
    "    return F_value, g_value"
   ]
  },
  {
   "cell_type": "code",
   "execution_count": 11,
   "id": "b3451137-acdc-46f3-8786-0d6f86f37065",
   "metadata": {},
   "outputs": [],
   "source": [
    "images, labels = load_data()\n",
    "\n",
    "p_list = [34860, 31226, 239, 37372, 17390]\n",
    "q_list = [45815, 35817, 43981, 54698, 49947]\n",
    "\n",
    "# x_array = np.linspace(1 / 2e-2, 1 / 4e-4, 6)\n",
    "# epslist = 1 / x_array\n",
    "gamma = eps\n",
    "epsp = eps\n",
    "p, q = mnist(epsp, p_list[4], q_list[4], images, n)\n",
    "p = torch.tensor(p)\n",
    "q = torch.tensor(q)\n",
    "b = torch.cat((p, q))"
   ]
  },
  {
   "cell_type": "code",
   "execution_count": 12,
   "id": "6841c282-bf38-4d03-b47d-0a73c5b93be4",
   "metadata": {},
   "outputs": [],
   "source": [
    "M_matrix = calculate_M_matrix(m)"
   ]
  },
  {
   "cell_type": "code",
   "execution_count": 13,
   "id": "adee09f0-ec32-4a08-bb21-6daa6a8c2761",
   "metadata": {},
   "outputs": [],
   "source": [
    "M_1 = calculate_lipschitz_constant(n, gamma, p_order=1, A_A_T=A_A_T, device=device)"
   ]
  },
  {
   "cell_type": "code",
   "execution_count": 14,
   "id": "1a22e7ad-05c7-46a4-8933-8ef8045d7d92",
   "metadata": {},
   "outputs": [],
   "source": [
    "half_lamb_len = n\n",
    "ones = torch.ones(n)\n",
    "primal_func = lambda x: f(x, M_matrix, gamma, device)\n",
    "dual_func = lambda lamb: phi(lamb, n, gamma, M_matrix / gamma, ones, p, q)\n",
    "primal_var_func = lambda lamb: calculate_x(lamb, n, M_matrix / gamma, ones)"
   ]
  },
  {
   "cell_type": "code",
   "execution_count": 15,
   "id": "42d7e688-91d1-444a-88d5-0d8ceb20ac6f",
   "metadata": {},
   "outputs": [
    {
     "data": {
      "text/plain": [
       "(0.02, 0.02)"
      ]
     },
     "execution_count": 15,
     "metadata": {},
     "output_type": "execute_result"
    }
   ],
   "source": [
    "eps, gamma"
   ]
  },
  {
   "cell_type": "code",
   "execution_count": 16,
   "id": "00bfa6ea-58e4-4c18-aedd-b163298e3825",
   "metadata": {
    "tags": []
   },
   "outputs": [
    {
     "name": "stdout",
     "output_type": "stream",
     "text": [
      "Step #31\n",
      "cr_1: 7.197339946252157e-11 -> 9.199739109400085e-09\n",
      "cr_2: 0.11877185503486869 -> 0.11877184892671572\n"
     ]
    },
    {
     "ename": "KeyboardInterrupt",
     "evalue": "",
     "output_type": "error",
     "traceback": [
      "\u001b[0;31m---------------------------------------------------------------------------\u001b[0m",
      "\u001b[0;31mKeyboardInterrupt\u001b[0m                         Traceback (most recent call last)",
      "\u001b[0;32m/var/folders/z4/q6hxwj7s1mj_m9znz0tz48240000gp/T/ipykernel_13946/349024844.py\u001b[0m in \u001b[0;36m<module>\u001b[0;34m\u001b[0m\n\u001b[0;32m----> 1\u001b[0;31m \u001b[0mfast_gradient_method\u001b[0m\u001b[0;34m(\u001b[0m\u001b[0mM_1\u001b[0m\u001b[0;34m,\u001b[0m \u001b[0mprimal_func\u001b[0m\u001b[0;34m,\u001b[0m \u001b[0mdual_func\u001b[0m\u001b[0;34m,\u001b[0m \u001b[0mprimal_var_func\u001b[0m\u001b[0;34m,\u001b[0m \u001b[0mA_matrix\u001b[0m\u001b[0;34m,\u001b[0m \u001b[0mb\u001b[0m\u001b[0;34m,\u001b[0m \u001b[0meps\u001b[0m\u001b[0;34m,\u001b[0m \u001b[0meps\u001b[0m\u001b[0;34m)\u001b[0m\u001b[0;34m\u001b[0m\u001b[0;34m\u001b[0m\u001b[0m\n\u001b[0m",
      "\u001b[0;32m/var/folders/z4/q6hxwj7s1mj_m9znz0tz48240000gp/T/ipykernel_13946/2814986288.py\u001b[0m in \u001b[0;36mfast_gradient_method\u001b[0;34m(L, primal_function, dual_function, primal_var_function, A_matrix, b, eps, eps_tilde)\u001b[0m\n\u001b[1;32m     42\u001b[0m         \u001b[0mg_value\u001b[0m \u001b[0;34m=\u001b[0m \u001b[0mprimal_function\u001b[0m\u001b[0;34m(\u001b[0m\u001b[0mprimal_var\u001b[0m\u001b[0;34m)\u001b[0m\u001b[0;34m\u001b[0m\u001b[0;34m\u001b[0m\u001b[0m\n\u001b[1;32m     43\u001b[0m         \u001b[0mcr_1\u001b[0m \u001b[0;34m=\u001b[0m \u001b[0mabs\u001b[0m\u001b[0;34m(\u001b[0m\u001b[0mF_value\u001b[0m \u001b[0;34m+\u001b[0m \u001b[0mg_value\u001b[0m\u001b[0;34m)\u001b[0m\u001b[0;34m\u001b[0m\u001b[0;34m\u001b[0m\u001b[0m\n\u001b[0;32m---> 44\u001b[0;31m         \u001b[0mcr_2\u001b[0m \u001b[0;34m=\u001b[0m \u001b[0mtorch\u001b[0m\u001b[0;34m.\u001b[0m\u001b[0mnorm\u001b[0m\u001b[0;34m(\u001b[0m\u001b[0mA_matrix\u001b[0m \u001b[0;34m@\u001b[0m \u001b[0mprimal_var\u001b[0m \u001b[0;34m-\u001b[0m \u001b[0mb\u001b[0m\u001b[0;34m)\u001b[0m\u001b[0;34m\u001b[0m\u001b[0;34m\u001b[0m\u001b[0m\n\u001b[0m\u001b[1;32m     45\u001b[0m         \u001b[0;32mif\u001b[0m \u001b[0mk\u001b[0m \u001b[0;34m==\u001b[0m \u001b[0;36m0\u001b[0m\u001b[0;34m:\u001b[0m\u001b[0;34m\u001b[0m\u001b[0;34m\u001b[0m\u001b[0m\n\u001b[1;32m     46\u001b[0m             \u001b[0minit_cr_1\u001b[0m \u001b[0;34m=\u001b[0m \u001b[0mcr_1\u001b[0m\u001b[0;34m\u001b[0m\u001b[0;34m\u001b[0m\u001b[0m\n",
      "\u001b[0;31mKeyboardInterrupt\u001b[0m: "
     ]
    }
   ],
   "source": [
    "fast_gradient_method(M_1, primal_func, dual_func, primal_var_func, A_matrix, b, eps, eps)"
   ]
  },
  {
   "cell_type": "markdown",
   "id": "c2ff7653-2249-4a5b-8c24-2725a597e5bb",
   "metadata": {},
   "source": [
    "# TEST "
   ]
  },
  {
   "cell_type": "code",
   "execution_count": 45,
   "id": "d9b76b3b-7b68-49b5-aa58-afcdb5942554",
   "metadata": {
    "colab": {
     "base_uri": "https://localhost:8080/",
     "height": 35
    },
    "id": "lD9GVDPpjLMc",
    "outputId": "f87a5b73-d8fa-4940-85ef-8d273f37afb8",
    "tags": []
   },
   "outputs": [
    {
     "data": {
      "text/plain": [
       "1.0"
      ]
     },
     "execution_count": 45,
     "metadata": {},
     "output_type": "execute_result"
    }
   ],
   "source": [
    "from mnist import MNIST\n",
    "import numpy as np\n",
    "from scipy.spatial.distance import cdist\n",
    "import math\n",
    "#https://pypi.org/project/python-mnist\n",
    "mndata = MNIST('./data/')\n",
    "images, labels = mndata.load_training()\n",
    "%matplotlib inline\n",
    "import matplotlib.pyplot as plt\n",
    "import copy\n",
    "from numpy import linalg\n",
    "import time\n",
    "\n",
    "l = len(images)\n",
    "n = len(images[0])\n",
    "m = int(np.sqrt(n))\n",
    "\n",
    "# def mnist(eps, p, q):\n",
    "#     p, q = np.float64(images[p]), np.float64(images[q])\n",
    "#     p, q = p / sum(p), q / sum(q)\n",
    "    \n",
    "#     p = (1 - eps / 8) * p + eps / (8 * n)\n",
    "#     q = (1 - eps / 8) * q + eps / (8 * n)\n",
    "    \n",
    "#     return p, q\n",
    "\n",
    "def cartesian_product(*arrays):\n",
    "    la = len(arrays)\n",
    "    dtype = np.result_type(*arrays)\n",
    "    arr = np.empty([len(a) for a in arrays] + [la], dtype=dtype)\n",
    "    for i, a in enumerate(np.ix_(*arrays)):\n",
    "        arr[...,i] = a\n",
    "    return arr.reshape(-1, la)\n",
    "\n",
    "C = np.arange(m)\n",
    "C = cartesian_product(C, C)\n",
    "C = cdist(C, C)\n",
    "C /= np.max(C)\n",
    "C.max()"
   ]
  },
  {
   "cell_type": "code",
   "execution_count": 46,
   "id": "90d31e4d-cb10-4ae6-975e-c645e2099e02",
   "metadata": {
    "id": "f4ur_WaqjLMi"
   },
   "outputs": [],
   "source": [
    "one = np.ones(n, np.float64)\n",
    "I = np.ones([n,n], np.float64)\n",
    "def f_true(x):\n",
    "    return (C * x).sum()\n",
    "\n",
    "def B_round(x):\n",
    "    r = p_ref / x.dot(one)\n",
    "    r[r>1] = 1.\n",
    "    F = np.diag(r).dot(x)\n",
    "    c = q_ref / (x.T).dot(one)\n",
    "    c[c>1] = 1.\n",
    "    F = F.dot(np.diag(c))\n",
    "    err_r = p_ref - F.dot(one)\n",
    "    err_c = q_ref - (F.T).dot(one)\n",
    "    return F + np.outer(err_r, err_c) / abs(err_r).sum()"
   ]
  },
  {
   "cell_type": "code",
   "execution_count": 47,
   "id": "00f9447f-3125-4971-840a-daa25c096f1f",
   "metadata": {},
   "outputs": [
    {
     "data": {
      "text/plain": [
       "(784, 784)"
      ]
     },
     "execution_count": 47,
     "metadata": {},
     "output_type": "execute_result"
    }
   ],
   "source": [
    "C.shape"
   ]
  },
  {
   "cell_type": "code",
   "execution_count": 94,
   "id": "d33fb736-831a-435e-90f1-e1576383e5e4",
   "metadata": {
    "id": "QTUDC4ajjLMr"
   },
   "outputs": [],
   "source": [
    "def phi_(gamma, lamu):\n",
    "    A = (-C/gamma + np.outer(lamu[:n], one) + np.outer(one, lamu[n:]))\n",
    "    a = A.max()\n",
    "    A-=a\n",
    "    s = a+np.log(np.exp(A).sum())\n",
    "    return gamma*(-lamu[:n].dot(p) - lamu[n:].dot(q) + s)\n",
    "\n",
    "def f_(gamma, x):\n",
    "    y = (x.reshape(-1)).copy()\n",
    "    y[x.reshape(-1) == 0.] = 1.\n",
    "    \n",
    "    y = y.reshape(n, -1)\n",
    "    return (C * x).sum() + gamma * (x * np.log(y)).sum()"
   ]
  },
  {
   "cell_type": "code",
   "execution_count": 124,
   "id": "6a0a34fb-348a-48a6-bd81-e78aa524ea2f",
   "metadata": {
    "id": "7NVDKMvwjLM7"
   },
   "outputs": [],
   "source": [
    "def apd(x0, L):\n",
    "    betta = 0.\n",
    "    alpha = 0.\n",
    "    primal_var = 0.*torch.ones([n, n], dtype=torch.float64)\n",
    "    z = torch.zeros(2*n, dtype=torch.float64)\n",
    "    z_new = torch.zeros(2*n, dtype=torch.float64)\n",
    "    eta = torch.zeros(2*n, dtype=torch.float64)\n",
    "    eta_new  = torch.zeros(2*n, dtype=torch.float64)\n",
    "    grad_phi_new = torch.zeros(2*n, dtype=torch.float64)\n",
    "    one = torch.tensor(one)\n",
    "    \n",
    "    # f = lambda x: phi_(gamma, x)\n",
    "    # f_primal = lambda x: f_(gamma, x)\n",
    "    f = lambda x: phi(x, n, gamma, M_matrix / gamma, torch.tensor(ones), p, q)\n",
    "    f_primal = lambda x: f(x, M_matrix, gamma)\n",
    "    \n",
    "    k=0\n",
    "    start_time = time.perf_counter()\n",
    "    while True:\n",
    "        # L = L / 2\n",
    "        # while True:\n",
    "        alpha_new = (1 + torch.sqrt(4*L*betta + 1)) / 2 / L\n",
    "        betta_new = betta + alpha_new\n",
    "        tau = alpha_new / betta_new\n",
    "        lamu_new = tau * z + (1 - tau) * eta\n",
    "\n",
    "        logB = (K + torch.outer(lamu_new[:n], one) + torch.outer(one, lamu_new[n:]))\n",
    "        max_logB =logB.max()\n",
    "        logB_stable = logB - max_logB\n",
    "\n",
    "        B_stable = torch.exp(logB_stable)\n",
    "        u_hat_stable, v_hat_stable = B_stable.dot(one), B_stable.T.dot(one)\n",
    "\n",
    "        Bs_stable = u_hat_stable.sum()\n",
    "\n",
    "        phi_new = gamma*(-lamu_new[:n].dot(p) - lamu_new[n:].dot(q) + torch.log(Bs_stable) + max_logB)\n",
    "        grad_phi_new = gamma*torch.cat((-p + u_hat_stable/Bs_stable, -q + v_hat_stable/Bs_stable),0)\n",
    "\n",
    "\n",
    "        z_new = z - alpha_new * grad_phi_new\n",
    "        eta_new = tau * z_new + (1-tau) * eta\n",
    "\n",
    "        phi_eta = f(eta_new)\n",
    "\n",
    "            # if phi_eta <= phi_new + grad_phi_new.dot(eta_new - lamu_new) + L * ((eta_new - lamu_new)**2).sum() / 2:\n",
    "        alpha, betta = alpha_new, betta_new\n",
    "        z = z_new.copy()\n",
    "        eta = eta_new.copy()\n",
    "            #     break    \n",
    "            # L = L * 2\n",
    "        primal_var = tau * B_stable/Bs_stable + (1 - tau) * primal_var\n",
    "        \n",
    "        cr_1 = abs(f_primal(primal_var) + phi_eta)\n",
    "        cr_2 = (C * (B_round(primal_var) - primal_var)).sum()\n",
    "        if k == 0:\n",
    "            init_cr_1 = cr_1\n",
    "            init_cr_2 = cr_2\n",
    "\n",
    "        clear_output(wait=True)\n",
    "        print('\\n'.join([\n",
    "            f'Step #{k + 1}', \n",
    "            f'cr_1: {init_cr_1} -> {cr_1}',\n",
    "            f'cr_2: {init_cr_2} -> {cr_2}'\n",
    "        ]))\n",
    "        if cr_2 <= eps/6 and cr_1 <= eps/6:\n",
    "            return time.perf_counter() - start_time\n",
    "        \n",
    "        k=k+1"
   ]
  },
  {
   "cell_type": "code",
   "execution_count": 125,
   "id": "acf2cefa-49ca-4bfe-a189-0b8408a0dc84",
   "metadata": {},
   "outputs": [],
   "source": [
    "x_array = torch.linspace(1 / 2e-2, 1 / 4e-4, 6)\n",
    "epslist = 1 / x_array"
   ]
  },
  {
   "cell_type": "code",
   "execution_count": 126,
   "id": "bc26b0b3-1e36-451e-a11a-40a3013815f0",
   "metadata": {},
   "outputs": [
    {
     "data": {
      "text/plain": [
       "tensor([0.0200, 0.0019, 0.0010, 0.0007, 0.0005, 0.0004])"
      ]
     },
     "execution_count": 126,
     "metadata": {},
     "output_type": "execute_result"
    }
   ],
   "source": [
    "epslist"
   ]
  },
  {
   "cell_type": "code",
   "execution_count": 127,
   "id": "e700a087-9feb-4f9c-bc6d-d47c20b643e4",
   "metadata": {
    "tags": []
   },
   "outputs": [
    {
     "ename": "UnboundLocalError",
     "evalue": "local variable 'one' referenced before assignment",
     "output_type": "error",
     "traceback": [
      "\u001b[0;31m---------------------------------------------------------------------------\u001b[0m",
      "\u001b[0;31mUnboundLocalError\u001b[0m                         Traceback (most recent call last)",
      "\u001b[0;32m/var/folders/z4/q6hxwj7s1mj_m9znz0tz48240000gp/T/ipykernel_10853/1675445259.py\u001b[0m in \u001b[0;36m<module>\u001b[0;34m\u001b[0m\n\u001b[1;32m      9\u001b[0m \u001b[0mgamma\u001b[0m\u001b[0;34m=\u001b[0m\u001b[0meps\u001b[0m\u001b[0;34m/\u001b[0m\u001b[0;36m3\u001b[0m\u001b[0;34m/\u001b[0m\u001b[0mtorch\u001b[0m\u001b[0;34m.\u001b[0m\u001b[0mlog\u001b[0m\u001b[0;34m(\u001b[0m\u001b[0mtorch\u001b[0m\u001b[0;34m.\u001b[0m\u001b[0mtensor\u001b[0m\u001b[0;34m(\u001b[0m\u001b[0mn\u001b[0m\u001b[0;34m)\u001b[0m\u001b[0;34m)\u001b[0m\u001b[0;34m\u001b[0m\u001b[0;34m\u001b[0m\u001b[0m\n\u001b[1;32m     10\u001b[0m \u001b[0mK\u001b[0m\u001b[0;34m=\u001b[0m\u001b[0;34m-\u001b[0m\u001b[0mC\u001b[0m\u001b[0;34m/\u001b[0m\u001b[0mgamma\u001b[0m\u001b[0;34m\u001b[0m\u001b[0;34m\u001b[0m\u001b[0m\n\u001b[0;32m---> 11\u001b[0;31m \u001b[0my_array\u001b[0m\u001b[0;34m[\u001b[0m\u001b[0mi\u001b[0m\u001b[0;34m]\u001b[0m \u001b[0;34m=\u001b[0m \u001b[0mapd\u001b[0m\u001b[0;34m(\u001b[0m\u001b[0mx0\u001b[0m\u001b[0;34m,\u001b[0m \u001b[0mM_1\u001b[0m\u001b[0;34m)\u001b[0m\u001b[0;34m\u001b[0m\u001b[0;34m\u001b[0m\u001b[0m\n\u001b[0m\u001b[1;32m     12\u001b[0m \u001b[0;31m# i-=-1\u001b[0m\u001b[0;34m\u001b[0m\u001b[0;34m\u001b[0m\u001b[0m\n\u001b[1;32m     13\u001b[0m     \u001b[0;31m# np.save('/content/drive/My Drive/colab/'+'!e_'+'apd_'+str(k)+'.npy', y_array)\u001b[0m\u001b[0;34m\u001b[0m\u001b[0;34m\u001b[0m\u001b[0m\n",
      "\u001b[0;32m/var/folders/z4/q6hxwj7s1mj_m9znz0tz48240000gp/T/ipykernel_10853/2706646279.py\u001b[0m in \u001b[0;36mapd\u001b[0;34m(x0, L)\u001b[0m\n\u001b[1;32m      8\u001b[0m     \u001b[0meta_new\u001b[0m  \u001b[0;34m=\u001b[0m \u001b[0mtorch\u001b[0m\u001b[0;34m.\u001b[0m\u001b[0mzeros\u001b[0m\u001b[0;34m(\u001b[0m\u001b[0;36m2\u001b[0m\u001b[0;34m*\u001b[0m\u001b[0mn\u001b[0m\u001b[0;34m,\u001b[0m \u001b[0mdtype\u001b[0m\u001b[0;34m=\u001b[0m\u001b[0mtorch\u001b[0m\u001b[0;34m.\u001b[0m\u001b[0mfloat64\u001b[0m\u001b[0;34m)\u001b[0m\u001b[0;34m\u001b[0m\u001b[0;34m\u001b[0m\u001b[0m\n\u001b[1;32m      9\u001b[0m     \u001b[0mgrad_phi_new\u001b[0m \u001b[0;34m=\u001b[0m \u001b[0mtorch\u001b[0m\u001b[0;34m.\u001b[0m\u001b[0mzeros\u001b[0m\u001b[0;34m(\u001b[0m\u001b[0;36m2\u001b[0m\u001b[0;34m*\u001b[0m\u001b[0mn\u001b[0m\u001b[0;34m,\u001b[0m \u001b[0mdtype\u001b[0m\u001b[0;34m=\u001b[0m\u001b[0mtorch\u001b[0m\u001b[0;34m.\u001b[0m\u001b[0mfloat64\u001b[0m\u001b[0;34m)\u001b[0m\u001b[0;34m\u001b[0m\u001b[0;34m\u001b[0m\u001b[0m\n\u001b[0;32m---> 10\u001b[0;31m     \u001b[0mone\u001b[0m \u001b[0;34m=\u001b[0m \u001b[0mtorch\u001b[0m\u001b[0;34m.\u001b[0m\u001b[0mtensor\u001b[0m\u001b[0;34m(\u001b[0m\u001b[0mone\u001b[0m\u001b[0;34m)\u001b[0m\u001b[0;34m\u001b[0m\u001b[0;34m\u001b[0m\u001b[0m\n\u001b[0m\u001b[1;32m     11\u001b[0m \u001b[0;34m\u001b[0m\u001b[0m\n\u001b[1;32m     12\u001b[0m     \u001b[0;31m# f = lambda x: phi_(gamma, x)\u001b[0m\u001b[0;34m\u001b[0m\u001b[0;34m\u001b[0m\u001b[0m\n",
      "\u001b[0;31mUnboundLocalError\u001b[0m: local variable 'one' referenced before assignment"
     ]
    }
   ],
   "source": [
    "# if not os.path.isfile('/content/drive/My Drive/colab/'+'!e_'+'apd_'+str(k)+'.npy'):\n",
    "# i=0\n",
    "# for eps in epslist:\n",
    "k = 0\n",
    "x0 = torch.zeros(2 * n, dtype=torch.float64)\n",
    "epsp = epslist[0] / 8\n",
    "p,q = mnist(epsp, p_list[k], q_list[k], images, n)\n",
    "p_ref, q_ref = mnist(0, p_list[k], q_list[k], images, n)\n",
    "gamma=eps/3/torch.log(torch.tensor(n))\n",
    "K=-C/gamma\n",
    "y_array[i] = apd(x0, M_1)\n",
    "# i-=-1\n",
    "    # np.save('/content/drive/My Drive/colab/'+'!e_'+'apd_'+str(k)+'.npy', y_array)\n",
    "# print('apd_', k, ' - done', y_array)"
   ]
  }
 ],
 "metadata": {
  "accelerator": "GPU",
  "colab": {
   "collapsed_sections": [],
   "name": "primal_dual.ipynb",
   "provenance": []
  },
  "kernelspec": {
   "display_name": "Python (tensor_methods)",
   "language": "python",
   "name": "tensor_methods"
  },
  "language_info": {
   "codemirror_mode": {
    "name": "ipython",
    "version": 3
   },
   "file_extension": ".py",
   "mimetype": "text/x-python",
   "name": "python",
   "nbconvert_exporter": "python",
   "pygments_lexer": "ipython3",
   "version": "3.9.9"
  }
 },
 "nbformat": 4,
 "nbformat_minor": 5
}
