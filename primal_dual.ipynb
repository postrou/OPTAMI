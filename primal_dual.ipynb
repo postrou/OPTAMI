{
 "cells": [
  {
   "cell_type": "code",
   "execution_count": 1,
   "id": "SxOIjasl-7yV",
   "metadata": {
    "colab": {
     "base_uri": "https://localhost:8080/"
    },
    "executionInfo": {
     "elapsed": 23487,
     "status": "ok",
     "timestamp": 1641415837807,
     "user": {
      "displayName": "Petr Ostroukhov",
      "photoUrl": "https://lh3.googleusercontent.com/a-/AOh14GiZB6-DHQ3v5rx_0tpUGWEHcJMywiXeC7iRnwsPiQ=s64",
      "userId": "05145088499816938444"
     },
     "user_tz": -180
    },
    "id": "SxOIjasl-7yV",
    "outputId": "7c42994d-b18b-4a64-cf99-546e99235d6e"
   },
   "outputs": [],
   "source": [
    "# from google.colab import drive\n",
    "# drive.mount('/content/drive')"
   ]
  },
  {
   "cell_type": "code",
   "execution_count": 2,
   "id": "NS69HsIb9wkn",
   "metadata": {
    "colab": {
     "base_uri": "https://localhost:8080/"
    },
    "executionInfo": {
     "elapsed": 8767,
     "status": "ok",
     "timestamp": 1641415848706,
     "user": {
      "displayName": "Petr Ostroukhov",
      "photoUrl": "https://lh3.googleusercontent.com/a-/AOh14GiZB6-DHQ3v5rx_0tpUGWEHcJMywiXeC7iRnwsPiQ=s64",
      "userId": "05145088499816938444"
     },
     "user_tz": -180
    },
    "id": "NS69HsIb9wkn",
    "outputId": "c1f1614d-fcda-4c22-952c-45c6b7c44db2"
   },
   "outputs": [],
   "source": [
    "# !pip3 install python-mnist\n",
    "# !wget https://github.com/sorki/python-mnist/blob/master/bin/mnist_get_data.sh\n",
    "# !mnist_get_data.sh"
   ]
  },
  {
   "cell_type": "code",
   "execution_count": 1,
   "id": "9b566dab-2bd3-49bc-ac67-0b5c90ff203e",
   "metadata": {},
   "outputs": [],
   "source": [
    "%load_ext autoreload\n",
    "%autoreload 2"
   ]
  },
  {
   "cell_type": "code",
   "execution_count": 2,
   "id": "cb046398-bb9e-4553-b4c7-400a34ca0c55",
   "metadata": {
    "executionInfo": {
     "elapsed": 1498,
     "status": "ok",
     "timestamp": 1641416357443,
     "user": {
      "displayName": "Petr Ostroukhov",
      "photoUrl": "https://lh3.googleusercontent.com/a-/AOh14GiZB6-DHQ3v5rx_0tpUGWEHcJMywiXeC7iRnwsPiQ=s64",
      "userId": "05145088499816938444"
     },
     "user_tz": -180
    },
    "id": "cb046398-bb9e-4553-b4c7-400a34ca0c55"
   },
   "outputs": [],
   "source": [
    "import sys\n",
    "import os\n",
    "import time\n",
    "\n",
    "import torch\n",
    "import matplotlib.pylab as plt\n",
    "from tqdm.notebook import tqdm, trange\n",
    "import numpy as np\n",
    "from scipy.spatial.distance import cdist\n",
    "from mnist import MNIST\n",
    "from IPython.display import clear_output\n",
    "\n",
    "# sys.path.append('/content/drive/MyDrive/Documents/OPTAMI/OPTAMI')\n",
    "# sys.path.append('/content/drive/MyDrive/Documents/OPTAMI')\n",
    "from OPTAMI import PrimalDualAccelerated, BDGM\n",
    "from run_pd_experiment import *"
   ]
  },
  {
   "cell_type": "code",
   "execution_count": 3,
   "id": "e0b0927c-33a7-4058-b554-f402493fad41",
   "metadata": {
    "executionInfo": {
     "elapsed": 796,
     "status": "ok",
     "timestamp": 1641416358774,
     "user": {
      "displayName": "Petr Ostroukhov",
      "photoUrl": "https://lh3.googleusercontent.com/a-/AOh14GiZB6-DHQ3v5rx_0tpUGWEHcJMywiXeC7iRnwsPiQ=s64",
      "userId": "05145088499816938444"
     },
     "user_tz": -180
    },
    "id": "e0b0927c-33a7-4058-b554-f402493fad41"
   },
   "outputs": [],
   "source": [
    "n = 784\n",
    "m = int(np.sqrt(n))"
   ]
  },
  {
   "cell_type": "code",
   "execution_count": 4,
   "id": "yaEYNEJtdqP_",
   "metadata": {
    "executionInfo": {
     "elapsed": 3,
     "status": "ok",
     "timestamp": 1641416359395,
     "user": {
      "displayName": "Petr Ostroukhov",
      "photoUrl": "https://lh3.googleusercontent.com/a-/AOh14GiZB6-DHQ3v5rx_0tpUGWEHcJMywiXeC7iRnwsPiQ=s64",
      "userId": "05145088499816938444"
     },
     "user_tz": -180
    },
    "id": "yaEYNEJtdqP_"
   },
   "outputs": [],
   "source": [
    "device = 'cuda:1'\n",
    "# device = 'cpu'"
   ]
  },
  {
   "cell_type": "code",
   "execution_count": 5,
   "id": "78a7b38f-121e-4593-91d1-975fc53ebd75",
   "metadata": {},
   "outputs": [],
   "source": [
    "# A_A_T_path = 'A_A_T.pkl'\n",
    "# if not os.path.exists(A_A_T_path):\n",
    "#     A_matrix = calculate_A_matrix(n)\n",
    "#     A_A_T = A_matrix @ A_matrix.T\n",
    "#     torch.save(A_A_T, A_A_T_path)\n",
    "# else:\n",
    "#     A_A_T = torch.load(A_A_T_path)"
   ]
  },
  {
   "cell_type": "markdown",
   "id": "ed2fcf1d-ec12-49ce-bd6e-75aaadf8c112",
   "metadata": {
    "id": "4c9eb191-4ba9-4003-89fb-1cb93190c122"
   },
   "source": [
    "# Fast gradient method for dual function"
   ]
  },
  {
   "cell_type": "code",
   "execution_count": 113,
   "id": "bdf9b8f2-3225-4af8-9fca-ca43af3f8566",
   "metadata": {},
   "outputs": [],
   "source": [
    "def fast_gradient_method(\n",
    "    L, \n",
    "    M_matrix,\n",
    "    primal_function, \n",
    "    dual_function, \n",
    "    primal_var_function,\n",
    "    round_function,\n",
    "    b,\n",
    "    eps,\n",
    "    eps_tilde,\n",
    "    max_steps=None,\n",
    "    device='cpu'\n",
    "):\n",
    "    \n",
    "    dual_var_next = torch.zeros(2 * n, requires_grad=True, dtype=torch.double, device=device)\n",
    "    y_next = torch.zeros(2 * n, dtype=torch.double, device=device)\n",
    "    z_next = torch.zeros(2 * n, dtype=torch.double, device=device)\n",
    "    k = 0\n",
    "    one_over_L = 1 / L\n",
    "    alpha_next = one_over_L\n",
    "    sum_of_y = y_next\n",
    "    cr_1_list = []\n",
    "    cr_2_list = []\n",
    "    while True:\n",
    "        y = y_next.detach().clone()\n",
    "        z = z_next.detach().clone()\n",
    "        tau = 2 / (k + 2)\n",
    "        \n",
    "        with torch.no_grad():\n",
    "            dual_var_next = tau * z + (1 - tau ) * y\n",
    "            dual_var_next.requires_grad_(True)\n",
    "            # dual_var_next.add_(z, alpha=tau).add_(y, alpha=1 - tau)\n",
    "        \n",
    "        phi_next = dual_function(dual_var_next)\n",
    "        grad_phi_next = torch.autograd.grad(phi_next, dual_var_next)\n",
    "        y_next = dual_var_next.detach().clone() - one_over_L * grad_phi_next[0]\n",
    "        \n",
    "        z_next = z - alpha_next * grad_phi_next[0]\n",
    "        \n",
    "        N = k + 1\n",
    "        \n",
    "        y_tilde = 1 / (N * (N + 3)) * (sum_of_y + (N + 1) ** 2 * y_next)\n",
    "        sum_of_y += y_next\n",
    "        \n",
    "        primal_var, _, _ = primal_var_function(dual_var_next)\n",
    "        \n",
    "        \n",
    "        F_value = dual_function(y_tilde)\n",
    "        g_value = primal_function(primal_var)\n",
    "        cr_1 = torch.abs(F_value + g_value)\n",
    "        cr_2 = (M_matrix * (round_function(primal_var) - primal_var)).sum()\n",
    "        cr_1_list.append(cr_1.detach().clone().item())\n",
    "        cr_2_list.append(cr_2.detach().clone().item())\n",
    "#         cr_2 = torch.norm(A_matrix @ primal_var - b)\n",
    "        if k == 0:\n",
    "            init_cr_1 = cr_1\n",
    "            init_cr_2 = cr_2\n",
    "            init_phi = F_value.item()\n",
    "            init_f = g_value.item()\n",
    "        clear_output(wait=True)\n",
    "        print('\\n'.join([\n",
    "            f'Step #{k}', \n",
    "            f'cr_1: {init_cr_1} -> {cr_1}',\n",
    "            f'cr_2: {init_cr_2} -> {cr_2}',\n",
    "            f'phi: {init_phi} -> {F_value.item()}',\n",
    "            f'f: {init_f} -> {g_value.item()}',            \n",
    "        ]))\n",
    "        \n",
    "        if cr_1 <= eps and cr_2 <= eps_tilde:\n",
    "            break\n",
    "        \n",
    "        \n",
    "        alpha_next = (k + 2) * one_over_L / 2\n",
    "        k += 1\n",
    "        \n",
    "        if max_steps is not None:\n",
    "            if k == max_steps:\n",
    "                break\n",
    "        \n",
    "    return F_value, g_value, primal_var, dual_var_next, cr_1_list, cr_2_list"
   ]
  },
  {
   "cell_type": "code",
   "execution_count": 114,
   "id": "62a0e3bd-fc40-4a49-971f-6ab486731115",
   "metadata": {},
   "outputs": [],
   "source": [
    "gamma = 1\n",
    "eps = 0.0001\n",
    "image_index = 0"
   ]
  },
  {
   "cell_type": "code",
   "execution_count": 115,
   "id": "4ea9f69a-af1f-4c81-ba6a-5833288a71f2",
   "metadata": {},
   "outputs": [
    {
     "data": {
      "text/plain": [
       "(0.0001, 1)"
      ]
     },
     "execution_count": 115,
     "metadata": {},
     "output_type": "execute_result"
    }
   ],
   "source": [
    "eps, gamma"
   ]
  },
  {
   "cell_type": "code",
   "execution_count": 116,
   "id": "4e4515e2-d9f7-4b7c-8a62-9446854ea03a",
   "metadata": {},
   "outputs": [],
   "source": [
    "images, labels = load_data()\n",
    "\n",
    "p_list = [34860, 31226, 239, 37372, 17390]\n",
    "q_list = [45815, 35817, 43981, 54698, 49947]\n",
    "\n",
    "# x_array = np.linspace(1 / 2e-2, 1 / 4e-4, 6)\n",
    "# epslist = 1 / x_array\n",
    "epsp = eps / 8\n",
    "p, q = mnist(epsp, p_list[image_index], q_list[image_index], images, n)\n",
    "p_ref, q_ref = mnist(0, p_list[image_index], q_list[image_index], images, n)\n",
    "p = torch.tensor(p, device=device).double()\n",
    "q = torch.tensor(q, device=device).double()\n",
    "p_ref = torch.tensor(p_ref, device=device).double()\n",
    "q_ref = torch.tensor(q_ref, device=device).double()\n",
    "b = torch.cat((p, q))"
   ]
  },
  {
   "cell_type": "code",
   "execution_count": 117,
   "id": "96bf5970-6978-48fb-b01b-8b2dcfcb4ba6",
   "metadata": {},
   "outputs": [],
   "source": [
    "M_matrix = calculate_M_matrix(m).to(device)"
   ]
  },
  {
   "cell_type": "code",
   "execution_count": 118,
   "id": "fdff8e5a-6e5a-45de-b6d7-0470596d9611",
   "metadata": {},
   "outputs": [
    {
     "data": {
      "text/plain": [
       "2.0000000000000004"
      ]
     },
     "execution_count": 118,
     "metadata": {},
     "output_type": "execute_result"
    }
   ],
   "source": [
    "M_1 = calculate_lipschitz_constant(n, gamma, p_order=1, A_A_T=None, device=device)\n",
    "M_1"
   ]
  },
  {
   "cell_type": "code",
   "execution_count": 119,
   "id": "cf57ac98-0c49-4194-9876-070dbf3dfcd5",
   "metadata": {},
   "outputs": [],
   "source": [
    "ones = torch.ones(n, device=device, dtype=torch.double)\n",
    "primal_func = lambda x: f(x, M_matrix, gamma, device)\n",
    "dual_func = lambda lamb: phi(lamb, n, gamma, M_matrix / gamma, ones, p, q)\n",
    "primal_var_func = lambda lamb: calculate_x(lamb, n, gamma, M_matrix / gamma, ones)\n",
    "round_func = lambda primal_var: B_round(primal_var, p_ref, q_ref, ones)"
   ]
  },
  {
   "cell_type": "code",
   "execution_count": 121,
   "id": "20fcddd1-7d2b-4629-910d-0412b6431ba3",
   "metadata": {
    "tags": []
   },
   "outputs": [
    {
     "name": "stdout",
     "output_type": "stream",
     "text": [
      "Step #14609\n",
      "cr_1: 0.006441196313026865 -> 9.99798763228199e-05\n",
      "cr_2: -0.2552057551581488 -> -2.713995118596915e-06\n",
      "phi: 12.41590585911262 -> 9.266104957556557\n",
      "f: -12.422347055425647 -> -9.26620493743288\n",
      "CPU times: user 1min 2s, sys: 6.07 s, total: 1min 8s\n",
      "Wall time: 1min 3s\n"
     ]
    }
   ],
   "source": [
    "%%time\n",
    "F_value, g_value, primal_var, dual_var, fgm_cr_1_list, fgm_cr_2_list = fast_gradient_method(\n",
    "    M_1, \n",
    "    M_matrix,\n",
    "    primal_func, \n",
    "    dual_func, \n",
    "    primal_var_func, \n",
    "    round_func,\n",
    "    b, \n",
    "    eps, \n",
    "    eps, \n",
    "    device=device\n",
    ")"
   ]
  },
  {
   "cell_type": "code",
   "execution_count": 124,
   "id": "cc5fa5eb-da72-497b-bd09-397618302525",
   "metadata": {},
   "outputs": [
    {
     "data": {
      "text/plain": [
       "torch.Size([1568])"
      ]
     },
     "execution_count": 124,
     "metadata": {},
     "output_type": "execute_result"
    }
   ],
   "source": [
    "dual_var.shape"
   ]
  },
  {
   "cell_type": "code",
   "execution_count": 95,
   "id": "fbac9a49-b39b-4cca-835b-ef6f92e58610",
   "metadata": {},
   "outputs": [],
   "source": [
    "u = primal_var.detach().clone().cpu() @ ones.cpu()"
   ]
  },
  {
   "cell_type": "code",
   "execution_count": 123,
   "id": "535a4755-dae2-4f3d-843e-1edc6bf5828b",
   "metadata": {},
   "outputs": [
    {
     "data": {
      "text/plain": [
       "torch.Size([784])"
      ]
     },
     "execution_count": 123,
     "metadata": {},
     "output_type": "execute_result"
    }
   ],
   "source": [
    "u.shape"
   ]
  },
  {
   "cell_type": "code",
   "execution_count": 96,
   "id": "d8517658-030e-45c6-a28c-81b55e1463b0",
   "metadata": {},
   "outputs": [
    {
     "data": {
      "text/plain": [
       "<matplotlib.image.AxesImage at 0x7f82185226a0>"
      ]
     },
     "execution_count": 96,
     "metadata": {},
     "output_type": "execute_result"
    },
    {
     "data": {
      "image/png": "[encoded data removed]",
      "text/plain": [
       "<Figure size 432x288 with 1 Axes>"
      ]
     },
     "metadata": {
      "needs_background": "light"
     },
     "output_type": "display_data"
    }
   ],
   "source": [
    "plt.imshow(u.reshape(28, 28))"
   ]
  },
  {
   "cell_type": "markdown",
   "id": "aeb0ea84-22bb-44b8-ab1b-c54e422a1acb",
   "metadata": {
    "id": "aeb0ea84-22bb-44b8-ab1b-c54e422a1acb"
   },
   "source": [
    "# Primal-Dual Tensor Method"
   ]
  },
  {
   "cell_type": "code",
   "execution_count": 97,
   "id": "e012d0b5-a6f8-4fe5-9a51-3a86dedbfd3c",
   "metadata": {
    "colab": {
     "base_uri": "https://localhost:8080/"
    },
    "executionInfo": {
     "elapsed": 14953,
     "status": "ok",
     "timestamp": 1641416377128,
     "user": {
      "displayName": "Petr Ostroukhov",
      "photoUrl": "https://lh3.googleusercontent.com/a-/AOh14GiZB6-DHQ3v5rx_0tpUGWEHcJMywiXeC7iRnwsPiQ=s64",
      "userId": "05145088499816938444"
     },
     "user_tz": -180
    },
    "id": "e012d0b5-a6f8-4fe5-9a51-3a86dedbfd3c",
    "outputId": "69435d21-423d-498f-82d2-b09561fb217c"
   },
   "outputs": [],
   "source": [
    "M_p = calculate_lipschitz_constant(n, gamma, p_order=3, A_A_T=None, device=device)"
   ]
  },
  {
   "cell_type": "code",
   "execution_count": 98,
   "id": "414c5cb4-9918-4fef-8755-d2dc237cf259",
   "metadata": {},
   "outputs": [
    {
     "data": {
      "text/plain": [
       "60.000000000000014"
      ]
     },
     "execution_count": 98,
     "metadata": {},
     "output_type": "execute_result"
    }
   ],
   "source": [
    "M_p"
   ]
  },
  {
   "cell_type": "code",
   "execution_count": 107,
   "id": "d10f999b-0061-4418-af66-fbea44fbe831",
   "metadata": {},
   "outputs": [],
   "source": [
    "M_matrix = calculate_M_matrix(m)\n",
    "M_matrix = M_matrix.to(device)\n",
    "ones = torch.ones(n, device=device, dtype=torch.double)\n",
    "lamb = torch.zeros(n * 2, dtype=torch.double, requires_grad=True, device=device)\n",
    "optimizer = PrimalDualAccelerated(\n",
    "    [lamb],\n",
    "    M_p=M_p,\n",
    "    p_order=torch.tensor(3, device=device),\n",
    "    eps=0.01,\n",
    "    calculate_primal_var=lambda lamb: calculate_x(lamb, n, gamma, M_matrix / gamma, ones)\n",
    ")"
   ]
  },
  {
   "cell_type": "code",
   "execution_count": 108,
   "id": "90f7a75f-4224-4b9f-ac89-6d626f49e6b0",
   "metadata": {
    "tags": []
   },
   "outputs": [
    {
     "name": "stdout",
     "output_type": "stream",
     "text": [
      "Step #14999\n",
      "cr_1: 0.01078735798353847 -> 0.029454315706413325\n",
      "cr_2: -0.2550157741642701 -> -0.0008833065842026127\n",
      "phi: 12.411553031126218 -> 9.267300505886645\n",
      "f: -12.422340389109756 -> -9.296754821593058\n",
      "time=13h, 26m, 48s\n"
     ]
    },
    {
     "data": {
      "image/png": "[encoded data removed]",
      "text/plain": [
       "<Figure size 1440x576 with 2 Axes>"
      ]
     },
     "metadata": {
      "needs_background": "light"
     },
     "output_type": "display_data"
    }
   ],
   "source": [
    "optimizer, i, cr_1, cr_2 = run_experiment(\n",
    "    M_p,\n",
    "    gamma, \n",
    "    eps, \n",
    "    image_index,\n",
    "    optimizer=optimizer,\n",
    "    max_steps=15000,\n",
    "    fgm_cr_1_list=fgm_cr_1_list,\n",
    "    fgm_cr_2_list=fgm_cr_2_list,\n",
    "    device=device\n",
    ")"
   ]
  },
  {
   "cell_type": "code",
   "execution_count": 112,
   "id": "a04d6289-441a-440d-9197-c41f23571bb5",
   "metadata": {},
   "outputs": [
    {
     "data": {
      "text/plain": [
       "130.61807993205085"
      ]
     },
     "execution_count": 112,
     "metadata": {},
     "output_type": "execute_result"
    }
   ],
   "source": [
    "optimizer.param_groups[0]['params'][0].norm().item()"
   ]
  },
  {
   "cell_type": "markdown",
   "id": "97c816b5-1ea5-4da4-be17-54b2dc3830ce",
   "metadata": {},
   "source": [
    "## BDGM "
   ]
  },
  {
   "cell_type": "code",
   "execution_count": 27,
   "id": "50ac1517-cc5f-4f6e-aadb-8cfe307b0a5f",
   "metadata": {},
   "outputs": [
    {
     "name": "stderr",
     "output_type": "stream",
     "text": [
      "/tmp/ipykernel_1224861/3532352633.py:4: UserWarning: To copy construct from a tensor, it is recommended to use sourceTensor.clone().detach() or sourceTensor.clone().detach().requires_grad_(True), rather than torch.tensor(sourceTensor).\n",
      "  gamma = torch.tensor(gamma, device=device)\n"
     ]
    }
   ],
   "source": [
    "images, labels = load_data()\n",
    "n = len(images[0])\n",
    "m = int(np.sqrt(n))\n",
    "gamma = torch.tensor(gamma, device=device)\n",
    "\n",
    "M_matrix = calculate_M_matrix(m)\n",
    "M_matrix = M_matrix.to(device)\n",
    "M_matrix_over_gamma = M_matrix / gamma\n",
    "\n",
    "# if A_matrix is None:\n",
    "#     A_matrix = calculate_A_matrix(n).to(device)\n",
    "\n",
    "# experiments were done for\n",
    "p_list = [34860, 31226, 239, 37372, 17390]\n",
    "q_list = [45815, 35817, 43981, 54698, 49947]\n",
    "\n",
    "# x_array = np.linspace(1 / 2e-2, 1 / 4e-4, 6)\n",
    "# epslist = 1 / x_array\n",
    "\n",
    "epsp = eps / 8\n",
    "p, q = mnist(epsp, p_list[image_index], q_list[image_index], images, n)\n",
    "p = torch.tensor(p, device=device, dtype=torch.double)\n",
    "q = torch.tensor(q, device=device, dtype=torch.double)\n",
    "p_ref, q_ref = mnist(0, p_list[image_index], q_list[image_index], images, n)\n",
    "p_ref = torch.tensor(p_ref, device=device, dtype=torch.double)\n",
    "q_ref = torch.tensor(q_ref, device=device, dtype=torch.double)\n",
    "\n",
    "ones = torch.ones(n, device=device, dtype=torch.double)"
   ]
  },
  {
   "cell_type": "code",
   "execution_count": 31,
   "id": "d5b02399-844c-4b55-82c0-6dd8c1f7e226",
   "metadata": {},
   "outputs": [
    {
     "name": "stdout",
     "output_type": "stream",
     "text": [
      "Step#199, phi=558.2304380111552\n"
     ]
    }
   ],
   "source": [
    "lamb = torch.zeros(2 * n, requires_grad=True, device=device, dtype=torch.double)\n",
    "optimizer = BDGM([lamb], L=M_p)\n",
    "closure = lambda: phi(lamb, n, gamma, M_matrix_over_gamma, ones, p, q, optimizer=optimizer)\n",
    "round_function = lambda X_matrix: B_round(X_matrix, p_ref, q_ref, ones)\n",
    "\n",
    "M = M_p * 2\n",
    "M_squared, M_p_squared = M ** 2, M_p ** 2\n",
    "p_order = 3\n",
    "A_factor = ((p_order - 1) * (M_squared - M_p_squared) /\n",
    "                    (4 * (p_order + 1) * p_order ** 2 * M_squared)) ** (p_order / 2)\n",
    "\n",
    "phi_values = [0.0] * 200\n",
    "for i in range(200):\n",
    "    optimizer.step(closure)\n",
    "    with torch.no_grad():\n",
    "        clear_output(wait=True)\n",
    "        phi_value = closure().item()\n",
    "        phi_values[i] = phi_value\n",
    "        print(f'Step#{i}, phi={phi_value}')\n",
    "#         A =  * (k / (p_order + 1)) ** (p_order + 1)\n",
    "#         X_matrix, X_stable_sum, max_log_X = calculate_x(lamb, n, M_matrix_over_gamma, ones)\n",
    "#         X_hat_matrix_next = "
   ]
  },
  {
   "cell_type": "markdown",
   "id": "c2ff7653-2249-4a5b-8c24-2725a597e5bb",
   "metadata": {},
   "source": [
    "# TEST (Code from Nazarii)"
   ]
  },
  {
   "cell_type": "code",
   "execution_count": 16,
   "id": "d9b76b3b-7b68-49b5-aa58-afcdb5942554",
   "metadata": {
    "colab": {
     "base_uri": "https://localhost:8080/",
     "height": 35
    },
    "id": "lD9GVDPpjLMc",
    "outputId": "f87a5b73-d8fa-4940-85ef-8d273f37afb8",
    "tags": []
   },
   "outputs": [
    {
     "data": {
      "text/plain": [
       "1.0"
      ]
     },
     "execution_count": 16,
     "metadata": {},
     "output_type": "execute_result"
    }
   ],
   "source": [
    "from mnist import MNIST\n",
    "import numpy as np\n",
    "from scipy.spatial.distance import cdist\n",
    "import math\n",
    "#https://pypi.org/project/python-mnist\n",
    "mndata = MNIST('./data/')\n",
    "images, labels = mndata.load_training()\n",
    "%matplotlib inline\n",
    "import matplotlib.pyplot as plt\n",
    "import copy\n",
    "from numpy import linalg\n",
    "import time\n",
    "\n",
    "l = len(images)\n",
    "n = len(images[0])\n",
    "m = int(np.sqrt(n))\n",
    "\n",
    "# def mnist(eps, p, q):\n",
    "#     p, q = np.float64(images[p]), np.float64(images[q])\n",
    "#     p, q = p / sum(p), q / sum(q)\n",
    "    \n",
    "#     p = (1 - eps / 8) * p + eps / (8 * n)\n",
    "#     q = (1 - eps / 8) * q + eps / (8 * n)\n",
    "    \n",
    "#     return p, q\n",
    "\n",
    "def cartesian_product(*arrays):\n",
    "    la = len(arrays)\n",
    "    dtype = np.result_type(*arrays)\n",
    "    arr = np.empty([len(a) for a in arrays] + [la], dtype=dtype)\n",
    "    for i, a in enumerate(np.ix_(*arrays)):\n",
    "        arr[...,i] = a\n",
    "    return arr.reshape(-1, la)\n",
    "\n",
    "C = np.arange(m)\n",
    "C = cartesian_product(C, C)\n",
    "C = cdist(C, C)\n",
    "C /= np.max(C)\n",
    "C.max()"
   ]
  },
  {
   "cell_type": "code",
   "execution_count": 17,
   "id": "90d31e4d-cb10-4ae6-975e-c645e2099e02",
   "metadata": {
    "id": "f4ur_WaqjLMi"
   },
   "outputs": [],
   "source": [
    "one = np.ones(n, np.float64)\n",
    "I = np.ones([n,n], np.float64)\n",
    "def f_true(x):\n",
    "    return (C * x).sum()\n",
    "\n",
    "def B_round(x):\n",
    "    r = p_ref / x.dot(one)\n",
    "    r[r>1] = 1.\n",
    "    F = np.diag(r).dot(x)\n",
    "    c = q_ref / (x.T).dot(one)\n",
    "    c[c>1] = 1.\n",
    "    F = F.dot(np.diag(c))\n",
    "    err_r = p_ref - F.dot(one)\n",
    "    err_c = q_ref - (F.T).dot(one)\n",
    "    return F + np.outer(err_r, err_c) / abs(err_r).sum()"
   ]
  },
  {
   "cell_type": "code",
   "execution_count": 18,
   "id": "d33fb736-831a-435e-90f1-e1576383e5e4",
   "metadata": {
    "id": "QTUDC4ajjLMr"
   },
   "outputs": [],
   "source": [
    "def phi_(gamma, lamu):\n",
    "    A = (-C/gamma + np.outer(lamu[:n], one) + np.outer(one, lamu[n:]))\n",
    "    a = A.max()\n",
    "    A-=a\n",
    "    s = a+np.log(np.exp(A).sum())\n",
    "    return gamma*(-lamu[:n].dot(p) - lamu[n:].dot(q) + s)\n",
    "\n",
    "def f_(gamma, x):\n",
    "    y = (x.reshape(-1)).copy()\n",
    "    y[x.reshape(-1) == 0.] = 1.\n",
    "    \n",
    "    y = y.reshape(n, -1)\n",
    "    return (C * x).sum() + gamma * (x * np.log(y)).sum()"
   ]
  },
  {
   "cell_type": "code",
   "execution_count": 23,
   "id": "6a0a34fb-348a-48a6-bd81-e78aa524ea2f",
   "metadata": {
    "id": "7NVDKMvwjLM7"
   },
   "outputs": [],
   "source": [
    "def apd(x0, L):\n",
    "    betta = 0.\n",
    "    alpha = 0.\n",
    "    primal_var = 0.*np.ones([n, n], dtype=np.float64)\n",
    "    z = np.zeros(2*n, dtype=np.float64)\n",
    "    z_new = np.zeros(2*n, dtype=np.float64)\n",
    "    eta = np.zeros(2*n, dtype=np.float64)\n",
    "    eta_new  = np.zeros(2*n, dtype=np.float64)\n",
    "    grad_phi_new = np.zeros(2*n, dtype=np.float64)\n",
    "    \n",
    "    f = lambda x: phi_(gamma, x)\n",
    "    f_primal = lambda x: f_(gamma, x)\n",
    "    \n",
    "    k=0\n",
    "    start_time = time.perf_counter()\n",
    "    while True:\n",
    "        # L = L / 2\n",
    "        # while True:\n",
    "        alpha_new = (1 + np.sqrt(4*L*betta + 1)) / 2 / L\n",
    "        betta_new = betta + alpha_new\n",
    "        tau = alpha_new / betta_new\n",
    "        lamu_new = tau * z + (1 - tau) * eta\n",
    "\n",
    "        logB = (K + np.outer(lamu_new[:n], one) + np.outer(one, lamu_new[n:]))\n",
    "        max_logB =logB.max()\n",
    "        logB_stable = logB - max_logB\n",
    "\n",
    "        B_stable = np.exp(logB_stable)\n",
    "        u_hat_stable, v_hat_stable = B_stable.dot(one), B_stable.T.dot(one)\n",
    "\n",
    "        Bs_stable = u_hat_stable.sum()\n",
    "\n",
    "        phi_new = gamma*(-lamu_new[:n].dot(p) - lamu_new[n:].dot(q) + np.log(Bs_stable) + max_logB)\n",
    "        grad_phi_new = gamma*np.concatenate((-p + u_hat_stable/Bs_stable, -q + v_hat_stable/Bs_stable),0)\n",
    "\n",
    "        z_new = z - alpha_new * grad_phi_new\n",
    "        eta_new = tau * z_new + (1-tau) * eta\n",
    "\n",
    "        phi_eta = f(eta_new)\n",
    "\n",
    "            # if phi_eta <= phi_new + grad_phi_new.dot(eta_new - lamu_new) + L * ((eta_new - lamu_new)**2).sum() / 2:\n",
    "        alpha, betta = alpha_new, betta_new\n",
    "        z = z_new.copy()\n",
    "        eta = eta_new.copy()\n",
    "            #     break    \n",
    "            # L = L * 2\n",
    "        primal_var = tau * B_stable/Bs_stable + (1 - tau) * primal_var\n",
    "        \n",
    "        cr_1 = abs(f_primal(primal_var) + phi_eta)\n",
    "        cr_2 = (C * (B_round(primal_var) - primal_var)).sum()\n",
    "        if k == 0:\n",
    "            init_cr_1 = cr_1\n",
    "            init_cr_2 = cr_2\n",
    "\n",
    "        clear_output(wait=True)\n",
    "        print('\\n'.join([\n",
    "            f'Step #{k + 1}', \n",
    "            f'cr_1: {init_cr_1} -> {cr_1}',\n",
    "            f'cr_2: {init_cr_2} -> {cr_2}'\n",
    "        ]))\n",
    "        if cr_2 <= eps/6 and cr_1 <= eps/6:\n",
    "            return time.perf_counter() - start_time\n",
    "        \n",
    "        k=k+1"
   ]
  },
  {
   "cell_type": "code",
   "execution_count": 26,
   "id": "acf2cefa-49ca-4bfe-a189-0b8408a0dc84",
   "metadata": {},
   "outputs": [],
   "source": [
    "x_array = np.linspace(1 / 2e-2, 1 / 4e-4, 6)\n",
    "epslist = 1 / x_array"
   ]
  },
  {
   "cell_type": "code",
   "execution_count": 27,
   "id": "bc26b0b3-1e36-451e-a11a-40a3013815f0",
   "metadata": {},
   "outputs": [
    {
     "data": {
      "text/plain": [
       "array([0.02      , 0.00185185, 0.00097087, 0.00065789, 0.00049751,\n",
       "       0.0004    ])"
      ]
     },
     "execution_count": 27,
     "metadata": {},
     "output_type": "execute_result"
    }
   ],
   "source": [
    "epslist"
   ]
  },
  {
   "cell_type": "code",
   "execution_count": 41,
   "id": "e700a087-9feb-4f9c-bc6d-d47c20b643e4",
   "metadata": {
    "tags": []
   },
   "outputs": [
    {
     "name": "stdout",
     "output_type": "stream",
     "text": [
      "Step #552\n",
      "cr_1: 1.7379040914700106e-12 -> 6.726972710639767e-08\n",
      "cr_2: 0.18416651099269007 -> 0.1841657500839989\n"
     ]
    },
    {
     "ename": "KeyboardInterrupt",
     "evalue": "",
     "output_type": "error",
     "traceback": [
      "\u001b[0;31m---------------------------------------------------------------------------\u001b[0m",
      "\u001b[0;31mKeyboardInterrupt\u001b[0m                         Traceback (most recent call last)",
      "\u001b[0;32m/tmp/ipykernel_965471/391950346.py\u001b[0m in \u001b[0;36m<module>\u001b[0;34m\u001b[0m\n\u001b[1;32m     10\u001b[0m \u001b[0mgamma\u001b[0m\u001b[0;34m=\u001b[0m\u001b[0meps\u001b[0m\u001b[0;34m/\u001b[0m\u001b[0;36m3\u001b[0m\u001b[0;34m/\u001b[0m\u001b[0mnp\u001b[0m\u001b[0;34m.\u001b[0m\u001b[0mlog\u001b[0m\u001b[0;34m(\u001b[0m\u001b[0mn\u001b[0m\u001b[0;34m)\u001b[0m\u001b[0;34m\u001b[0m\u001b[0;34m\u001b[0m\u001b[0m\n\u001b[1;32m     11\u001b[0m \u001b[0mK\u001b[0m\u001b[0;34m=\u001b[0m\u001b[0;34m-\u001b[0m\u001b[0mC\u001b[0m\u001b[0;34m/\u001b[0m\u001b[0mgamma\u001b[0m\u001b[0;34m\u001b[0m\u001b[0;34m\u001b[0m\u001b[0m\n\u001b[0;32m---> 12\u001b[0;31m \u001b[0mprint\u001b[0m\u001b[0;34m(\u001b[0m\u001b[0mapd\u001b[0m\u001b[0;34m(\u001b[0m\u001b[0mx0\u001b[0m\u001b[0;34m,\u001b[0m \u001b[0mM_1\u001b[0m\u001b[0;34m.\u001b[0m\u001b[0mitem\u001b[0m\u001b[0;34m(\u001b[0m\u001b[0;34m)\u001b[0m\u001b[0;34m)\u001b[0m\u001b[0;34m)\u001b[0m\u001b[0;34m\u001b[0m\u001b[0;34m\u001b[0m\u001b[0m\n\u001b[0m\u001b[1;32m     13\u001b[0m \u001b[0;31m# i-=-1\u001b[0m\u001b[0;34m\u001b[0m\u001b[0;34m\u001b[0m\u001b[0;34m\u001b[0m\u001b[0m\n\u001b[1;32m     14\u001b[0m     \u001b[0;31m# np.save('/content/drive/My Drive/colab/'+'!e_'+'apd_'+str(k)+'.npy', y_array)\u001b[0m\u001b[0;34m\u001b[0m\u001b[0;34m\u001b[0m\u001b[0;34m\u001b[0m\u001b[0m\n",
      "\u001b[0;32m/tmp/ipykernel_965471/2718478188.py\u001b[0m in \u001b[0;36mapd\u001b[0;34m(x0, L)\u001b[0m\n\u001b[1;32m     50\u001b[0m \u001b[0;34m\u001b[0m\u001b[0m\n\u001b[1;32m     51\u001b[0m         \u001b[0mcr_1\u001b[0m \u001b[0;34m=\u001b[0m \u001b[0mabs\u001b[0m\u001b[0;34m(\u001b[0m\u001b[0mf_primal\u001b[0m\u001b[0;34m(\u001b[0m\u001b[0mprimal_var\u001b[0m\u001b[0;34m)\u001b[0m \u001b[0;34m+\u001b[0m \u001b[0mphi_eta\u001b[0m\u001b[0;34m)\u001b[0m\u001b[0;34m\u001b[0m\u001b[0;34m\u001b[0m\u001b[0m\n\u001b[0;32m---> 52\u001b[0;31m         \u001b[0mcr_2\u001b[0m \u001b[0;34m=\u001b[0m \u001b[0;34m(\u001b[0m\u001b[0mC\u001b[0m \u001b[0;34m*\u001b[0m \u001b[0;34m(\u001b[0m\u001b[0mB_round\u001b[0m\u001b[0;34m(\u001b[0m\u001b[0mprimal_var\u001b[0m\u001b[0;34m)\u001b[0m \u001b[0;34m-\u001b[0m \u001b[0mprimal_var\u001b[0m\u001b[0;34m)\u001b[0m\u001b[0;34m)\u001b[0m\u001b[0;34m.\u001b[0m\u001b[0msum\u001b[0m\u001b[0;34m(\u001b[0m\u001b[0;34m)\u001b[0m\u001b[0;34m\u001b[0m\u001b[0;34m\u001b[0m\u001b[0m\n\u001b[0m\u001b[1;32m     53\u001b[0m         \u001b[0;32mif\u001b[0m \u001b[0mk\u001b[0m \u001b[0;34m==\u001b[0m \u001b[0;36m0\u001b[0m\u001b[0;34m:\u001b[0m\u001b[0;34m\u001b[0m\u001b[0;34m\u001b[0m\u001b[0m\n\u001b[1;32m     54\u001b[0m             \u001b[0minit_cr_1\u001b[0m \u001b[0;34m=\u001b[0m \u001b[0mcr_1\u001b[0m\u001b[0;34m\u001b[0m\u001b[0;34m\u001b[0m\u001b[0m\n",
      "\u001b[0;32m/tmp/ipykernel_965471/1132767481.py\u001b[0m in \u001b[0;36mB_round\u001b[0;34m(x)\u001b[0m\n\u001b[1;32m     10\u001b[0m     \u001b[0mc\u001b[0m \u001b[0;34m=\u001b[0m \u001b[0mq_ref\u001b[0m \u001b[0;34m/\u001b[0m \u001b[0;34m(\u001b[0m\u001b[0mx\u001b[0m\u001b[0;34m.\u001b[0m\u001b[0mT\u001b[0m\u001b[0;34m)\u001b[0m\u001b[0;34m.\u001b[0m\u001b[0mdot\u001b[0m\u001b[0;34m(\u001b[0m\u001b[0mone\u001b[0m\u001b[0;34m)\u001b[0m\u001b[0;34m\u001b[0m\u001b[0;34m\u001b[0m\u001b[0m\n\u001b[1;32m     11\u001b[0m     \u001b[0mc\u001b[0m\u001b[0;34m[\u001b[0m\u001b[0mc\u001b[0m\u001b[0;34m>\u001b[0m\u001b[0;36m1\u001b[0m\u001b[0;34m]\u001b[0m \u001b[0;34m=\u001b[0m \u001b[0;36m1.\u001b[0m\u001b[0;34m\u001b[0m\u001b[0;34m\u001b[0m\u001b[0m\n\u001b[0;32m---> 12\u001b[0;31m     \u001b[0mF\u001b[0m \u001b[0;34m=\u001b[0m \u001b[0mF\u001b[0m\u001b[0;34m.\u001b[0m\u001b[0mdot\u001b[0m\u001b[0;34m(\u001b[0m\u001b[0mnp\u001b[0m\u001b[0;34m.\u001b[0m\u001b[0mdiag\u001b[0m\u001b[0;34m(\u001b[0m\u001b[0mc\u001b[0m\u001b[0;34m)\u001b[0m\u001b[0;34m)\u001b[0m\u001b[0;34m\u001b[0m\u001b[0;34m\u001b[0m\u001b[0m\n\u001b[0m\u001b[1;32m     13\u001b[0m     \u001b[0merr_r\u001b[0m \u001b[0;34m=\u001b[0m \u001b[0mp_ref\u001b[0m \u001b[0;34m-\u001b[0m \u001b[0mF\u001b[0m\u001b[0;34m.\u001b[0m\u001b[0mdot\u001b[0m\u001b[0;34m(\u001b[0m\u001b[0mone\u001b[0m\u001b[0;34m)\u001b[0m\u001b[0;34m\u001b[0m\u001b[0;34m\u001b[0m\u001b[0m\n\u001b[1;32m     14\u001b[0m     \u001b[0merr_c\u001b[0m \u001b[0;34m=\u001b[0m \u001b[0mq_ref\u001b[0m \u001b[0;34m-\u001b[0m \u001b[0;34m(\u001b[0m\u001b[0mF\u001b[0m\u001b[0;34m.\u001b[0m\u001b[0mT\u001b[0m\u001b[0;34m)\u001b[0m\u001b[0;34m.\u001b[0m\u001b[0mdot\u001b[0m\u001b[0;34m(\u001b[0m\u001b[0mone\u001b[0m\u001b[0;34m)\u001b[0m\u001b[0;34m\u001b[0m\u001b[0;34m\u001b[0m\u001b[0m\n",
      "\u001b[0;31mKeyboardInterrupt\u001b[0m: "
     ]
    }
   ],
   "source": [
    "# if not os.path.isfile('/content/drive/My Drive/colab/'+'!e_'+'apd_'+str(k)+'.npy'):\n",
    "# i=0\n",
    "# for eps in epslist:\n",
    "k = 0\n",
    "x0 = np.zeros(2 * n, dtype=np.float64)\n",
    "# epsp = epslist[0] / 8\n",
    "epsp = eps / 8\n",
    "p,q = mnist(eps, p_list[k], q_list[k], images, n)\n",
    "p_ref, q_ref = mnist(0, p_list[k], q_list[k], images, n)\n",
    "gamma=eps/3/np.log(n)\n",
    "K=-C/gamma\n",
    "print(apd(x0, M_1.item()))\n",
    "# i-=-1\n",
    "    # np.save('/content/drive/My Drive/colab/'+'!e_'+'apd_'+str(k)+'.npy', y_array)\n",
    "# print('apd_', k, ' - done', y_array)"
   ]
  }
 ],
 "metadata": {
  "accelerator": "GPU",
  "colab": {
   "collapsed_sections": [],
   "name": "primal_dual.ipynb",
   "provenance": []
  },
  "kernelspec": {
   "display_name": "Python 3.8 (optami)",
   "language": "python",
   "name": "venv"
  },
  "language_info": {
   "codemirror_mode": {
    "name": "ipython",
    "version": 3
   },
   "file_extension": ".py",
   "mimetype": "text/x-python",
   "name": "python",
   "nbconvert_exporter": "python",
   "pygments_lexer": "ipython3",
   "version": "3.8.10"
  }
 },
 "nbformat": 4,
 "nbformat_minor": 5
}
