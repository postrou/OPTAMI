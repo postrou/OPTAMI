{
 "cells": [
  {
   "cell_type": "code",
   "execution_count": 1,
   "id": "SxOIjasl-7yV",
   "metadata": {
    "colab": {
     "base_uri": "https://localhost:8080/"
    },
    "executionInfo": {
     "elapsed": 23487,
     "status": "ok",
     "timestamp": 1641415837807,
     "user": {
      "displayName": "Petr Ostroukhov",
      "photoUrl": "https://lh3.googleusercontent.com/a-/AOh14GiZB6-DHQ3v5rx_0tpUGWEHcJMywiXeC7iRnwsPiQ=s64",
      "userId": "05145088499816938444"
     },
     "user_tz": -180
    },
    "id": "SxOIjasl-7yV",
    "outputId": "7c42994d-b18b-4a64-cf99-546e99235d6e"
   },
   "outputs": [],
   "source": [
    "# from google.colab import drive\n",
    "# drive.mount('/content/drive')"
   ]
  },
  {
   "cell_type": "code",
   "execution_count": 1,
   "id": "NS69HsIb9wkn",
   "metadata": {
    "colab": {
     "base_uri": "https://localhost:8080/"
    },
    "executionInfo": {
     "elapsed": 8767,
     "status": "ok",
     "timestamp": 1641415848706,
     "user": {
      "displayName": "Petr Ostroukhov",
      "photoUrl": "https://lh3.googleusercontent.com/a-/AOh14GiZB6-DHQ3v5rx_0tpUGWEHcJMywiXeC7iRnwsPiQ=s64",
      "userId": "05145088499816938444"
     },
     "user_tz": -180
    },
    "id": "NS69HsIb9wkn",
    "outputId": "c1f1614d-fcda-4c22-952c-45c6b7c44db2"
   },
   "outputs": [],
   "source": [
    "# !pip3 install python-mnist\n",
    "# !wget https://github.com/sorki/python-mnist/blob/master/bin/mnist_get_data.sh\n",
    "# !mnist_get_data.sh"
   ]
  },
  {
   "cell_type": "code",
   "execution_count": 2,
   "id": "9b566dab-2bd3-49bc-ac67-0b5c90ff203e",
   "metadata": {},
   "outputs": [],
   "source": [
    "%load_ext autoreload\n",
    "%autoreload 2"
   ]
  },
  {
   "cell_type": "code",
   "execution_count": 3,
   "id": "cb046398-bb9e-4553-b4c7-400a34ca0c55",
   "metadata": {
    "executionInfo": {
     "elapsed": 1498,
     "status": "ok",
     "timestamp": 1641416357443,
     "user": {
      "displayName": "Petr Ostroukhov",
      "photoUrl": "https://lh3.googleusercontent.com/a-/AOh14GiZB6-DHQ3v5rx_0tpUGWEHcJMywiXeC7iRnwsPiQ=s64",
      "userId": "05145088499816938444"
     },
     "user_tz": -180
    },
    "id": "cb046398-bb9e-4553-b4c7-400a34ca0c55"
   },
   "outputs": [],
   "source": [
    "import sys\n",
    "import os\n",
    "import time\n",
    "\n",
    "import torch\n",
    "import matplotlib.pylab as plt\n",
    "from tqdm.notebook import tqdm, trange\n",
    "import numpy as np\n",
    "from scipy.spatial.distance import cdist\n",
    "from mnist import MNIST\n",
    "from IPython.display import clear_output\n",
    "\n",
    "# sys.path.append('/content/drive/MyDrive/Documents/OPTAMI/OPTAMI')\n",
    "# sys.path.append('/content/drive/MyDrive/Documents/OPTAMI')\n",
    "from OPTAMI import PrimalDualAccelerated, BDGM\n",
    "from run_pd_experiment import *"
   ]
  },
  {
   "cell_type": "code",
   "execution_count": 4,
   "id": "e0b0927c-33a7-4058-b554-f402493fad41",
   "metadata": {
    "executionInfo": {
     "elapsed": 796,
     "status": "ok",
     "timestamp": 1641416358774,
     "user": {
      "displayName": "Petr Ostroukhov",
      "photoUrl": "https://lh3.googleusercontent.com/a-/AOh14GiZB6-DHQ3v5rx_0tpUGWEHcJMywiXeC7iRnwsPiQ=s64",
      "userId": "05145088499816938444"
     },
     "user_tz": -180
    },
    "id": "e0b0927c-33a7-4058-b554-f402493fad41"
   },
   "outputs": [],
   "source": [
    "n = 784\n",
    "m = int(np.sqrt(n))"
   ]
  },
  {
   "cell_type": "code",
   "execution_count": 5,
   "id": "yaEYNEJtdqP_",
   "metadata": {
    "executionInfo": {
     "elapsed": 3,
     "status": "ok",
     "timestamp": 1641416359395,
     "user": {
      "displayName": "Petr Ostroukhov",
      "photoUrl": "https://lh3.googleusercontent.com/a-/AOh14GiZB6-DHQ3v5rx_0tpUGWEHcJMywiXeC7iRnwsPiQ=s64",
      "userId": "05145088499816938444"
     },
     "user_tz": -180
    },
    "id": "yaEYNEJtdqP_"
   },
   "outputs": [],
   "source": [
    "device = 'cuda:1'\n",
    "# device = 'cpu'"
   ]
  },
  {
   "cell_type": "code",
   "execution_count": 6,
   "id": "78a7b38f-121e-4593-91d1-975fc53ebd75",
   "metadata": {},
   "outputs": [],
   "source": [
    "# A_A_T_path = 'A_A_T.pkl'\n",
    "# if not os.path.exists(A_A_T_path):\n",
    "#     A_matrix = calculate_A_matrix(n)\n",
    "#     A_A_T = A_matrix @ A_matrix.T\n",
    "#     torch.save(A_A_T, A_A_T_path)\n",
    "# else:\n",
    "#     A_A_T = torch.load(A_A_T_path)"
   ]
  },
  {
   "cell_type": "markdown",
   "id": "ed2fcf1d-ec12-49ce-bd6e-75aaadf8c112",
   "metadata": {
    "id": "4c9eb191-4ba9-4003-89fb-1cb93190c122"
   },
   "source": [
    "# Fast gradient method for dual function"
   ]
  },
  {
   "cell_type": "code",
   "execution_count": 16,
   "id": "bdf9b8f2-3225-4af8-9fca-ca43af3f8566",
   "metadata": {},
   "outputs": [],
   "source": [
    "def fast_gradient_method(\n",
    "    L, \n",
    "    M_matrix,\n",
    "    primal_function, \n",
    "    dual_function, \n",
    "    primal_var_function,\n",
    "    round_function,\n",
    "    b,\n",
    "    eps,\n",
    "    eps_tilde,\n",
    "    max_steps=None,\n",
    "    device='cpu'\n",
    "):\n",
    "    \n",
    "    dual_var_next = torch.zeros(2 * n, requires_grad=True, dtype=torch.double, device=device)\n",
    "    y_next = torch.zeros(2 * n, dtype=torch.double, device=device)\n",
    "    z_next = torch.zeros(2 * n, dtype=torch.double, device=device)\n",
    "    k = 0\n",
    "    one_over_L = 1 / L\n",
    "    alpha_next = one_over_L\n",
    "    sum_of_y = y_next\n",
    "    cr_1_list = []\n",
    "    cr_2_list = []\n",
    "    while True:\n",
    "        y = y_next.detach().clone()\n",
    "        z = z_next.detach().clone()\n",
    "        tau = 2 / (k + 2)\n",
    "        \n",
    "        with torch.no_grad():\n",
    "            dual_var_next = tau * z + (1 - tau ) * y\n",
    "            dual_var_next.requires_grad_(True)\n",
    "            # dual_var_next.add_(z, alpha=tau).add_(y, alpha=1 - tau)\n",
    "        \n",
    "        phi_next = dual_function(dual_var_next)\n",
    "        grad_phi_next = torch.autograd.grad(phi_next, dual_var_next)\n",
    "        y_next = dual_var_next.detach().clone() - one_over_L * grad_phi_next[0]\n",
    "        \n",
    "        z_next = z - alpha_next * grad_phi_next[0]\n",
    "        \n",
    "        N = k + 1\n",
    "        \n",
    "        y_tilde = 1 / (N * (N + 3)) * (sum_of_y + (N + 1) ** 2 * y_next)\n",
    "        sum_of_y += y_next\n",
    "        \n",
    "#         primal_var = primal_var_function(dual_var_next)\n",
    "        primal_var, _, _ = primal_var_function(dual_var_next)\n",
    "        \n",
    "        \n",
    "        F_value = dual_function(y_tilde)\n",
    "        g_value = primal_function(primal_var)\n",
    "        cr_1 = torch.abs(F_value + g_value)\n",
    "        cr_2 = (M_matrix * (round_function(primal_var) - primal_var)).sum()\n",
    "        cr_1_list.append(cr_1.detach().clone().item())\n",
    "        cr_2_list.append(cr_2.detach().clone().item())\n",
    "#         cr_2 = torch.norm(A_matrix @ primal_var - b)\n",
    "        if k == 0:\n",
    "            init_cr_1 = cr_1\n",
    "            init_cr_2 = cr_2\n",
    "            init_phi = F_value.item()\n",
    "            init_f = g_value.item()\n",
    "        # print(f'Step #{k}, cr_1={cr_1}, cr_2={cr_2}, phi={F_value}, f={g_value}', end='\\n\\n')\n",
    "        clear_output(wait=True)\n",
    "        print('\\n'.join([\n",
    "            f'Step #{k}', \n",
    "            f'cr_1: {init_cr_1} -> {cr_1}',\n",
    "            f'cr_2: {init_cr_2} -> {cr_2}',\n",
    "            f'phi: {init_phi} -> {F_value.item()}',\n",
    "            f'f: {init_f} -> {g_value.item()}',            \n",
    "        ]))\n",
    "        \n",
    "        if cr_1 <= eps and cr_2 <= eps_tilde:\n",
    "            break\n",
    "        \n",
    "        \n",
    "        alpha_next = (k + 2) * one_over_L / 2\n",
    "        k += 1\n",
    "        \n",
    "        if max_steps is not None:\n",
    "            if k == max_steps:\n",
    "                break\n",
    "        \n",
    "    return F_value, g_value, primal_var, cr_1_list, cr_2_list"
   ]
  },
  {
   "cell_type": "code",
   "execution_count": 17,
   "id": "62a0e3bd-fc40-4a49-971f-6ab486731115",
   "metadata": {},
   "outputs": [],
   "source": [
    "gamma = 50\n",
    "eps = 0.02\n",
    "image_index = 0"
   ]
  },
  {
   "cell_type": "code",
   "execution_count": 18,
   "id": "4ea9f69a-af1f-4c81-ba6a-5833288a71f2",
   "metadata": {},
   "outputs": [
    {
     "data": {
      "text/plain": [
       "(0.02, 50)"
      ]
     },
     "execution_count": 18,
     "metadata": {},
     "output_type": "execute_result"
    }
   ],
   "source": [
    "eps, gamma"
   ]
  },
  {
   "cell_type": "code",
   "execution_count": 19,
   "id": "4e4515e2-d9f7-4b7c-8a62-9446854ea03a",
   "metadata": {},
   "outputs": [],
   "source": [
    "images, labels = load_data()\n",
    "\n",
    "p_list = [34860, 31226, 239, 37372, 17390]\n",
    "q_list = [45815, 35817, 43981, 54698, 49947]\n",
    "\n",
    "# x_array = np.linspace(1 / 2e-2, 1 / 4e-4, 6)\n",
    "# epslist = 1 / x_array\n",
    "epsp = eps / 8\n",
    "p, q = mnist(epsp, p_list[image_index], q_list[image_index], images, n)\n",
    "p_ref, q_ref = mnist(0, p_list[image_index], q_list[image_index], images, n)\n",
    "p = torch.tensor(p, device=device).double()\n",
    "q = torch.tensor(q, device=device).double()\n",
    "p_ref = torch.tensor(p_ref, device=device).double()\n",
    "q_ref = torch.tensor(q_ref, device=device).double()\n",
    "b = torch.cat((p, q))"
   ]
  },
  {
   "cell_type": "code",
   "execution_count": 20,
   "id": "96bf5970-6978-48fb-b01b-8b2dcfcb4ba6",
   "metadata": {},
   "outputs": [],
   "source": [
    "M_matrix = calculate_M_matrix(m).to(device)"
   ]
  },
  {
   "cell_type": "code",
   "execution_count": 21,
   "id": "fdff8e5a-6e5a-45de-b6d7-0470596d9611",
   "metadata": {},
   "outputs": [
    {
     "data": {
      "text/plain": [
       "100.00000000000003"
      ]
     },
     "execution_count": 21,
     "metadata": {},
     "output_type": "execute_result"
    }
   ],
   "source": [
    "M_1 = calculate_lipschitz_constant(n, gamma, p_order=1, A_A_T=None, device=device)\n",
    "M_1"
   ]
  },
  {
   "cell_type": "code",
   "execution_count": 22,
   "id": "cf57ac98-0c49-4194-9876-070dbf3dfcd5",
   "metadata": {},
   "outputs": [],
   "source": [
    "ones = torch.ones(n, device=device, dtype=torch.double)\n",
    "primal_func = lambda x: f(x, M_matrix, gamma, device)\n",
    "dual_func = lambda lamb: phi(lamb, n, gamma, M_matrix / gamma, ones, p, q)\n",
    "primal_var_func = lambda lamb: calculate_x(lamb, n, M_matrix / gamma, ones)\n",
    "round_func = lambda primal_var: B_round(primal_var, p_ref, q_ref, ones)"
   ]
  },
  {
   "cell_type": "code",
   "execution_count": 23,
   "id": "20fcddd1-7d2b-4629-910d-0412b6431ba3",
   "metadata": {
    "tags": []
   },
   "outputs": [
    {
     "name": "stdout",
     "output_type": "stream",
     "text": [
      "Step #2453\n",
      "cr_1: 0.3397958282240552 -> 0.019880744559372943\n",
      "cr_2: -0.17619836447599116 -> -7.537479382135422e-05\n",
      "phi: 665.7193313056149 -> 489.4599406440572\n",
      "f: -666.059127133839 -> -489.4798213886166\n",
      "CPU times: user 20.7 s, sys: 999 ms, total: 21.7 s\n",
      "Wall time: 20.9 s\n"
     ]
    }
   ],
   "source": [
    "%%time\n",
    "F_value, g_value, primal_var, fgm_cr_1_list, fgm_cr_2_list = fast_gradient_method(\n",
    "    M_1, \n",
    "    M_matrix,\n",
    "    primal_func, \n",
    "    dual_func, \n",
    "    primal_var_func, \n",
    "    round_func,\n",
    "    b, \n",
    "    eps, \n",
    "    eps, \n",
    "    device=device\n",
    ")"
   ]
  },
  {
   "cell_type": "markdown",
   "id": "aeb0ea84-22bb-44b8-ab1b-c54e422a1acb",
   "metadata": {
    "id": "aeb0ea84-22bb-44b8-ab1b-c54e422a1acb"
   },
   "source": [
    "# Primal-Dual Tensor Method"
   ]
  },
  {
   "cell_type": "code",
   "execution_count": 10,
   "id": "e012d0b5-a6f8-4fe5-9a51-3a86dedbfd3c",
   "metadata": {
    "colab": {
     "base_uri": "https://localhost:8080/"
    },
    "executionInfo": {
     "elapsed": 14953,
     "status": "ok",
     "timestamp": 1641416377128,
     "user": {
      "displayName": "Petr Ostroukhov",
      "photoUrl": "https://lh3.googleusercontent.com/a-/AOh14GiZB6-DHQ3v5rx_0tpUGWEHcJMywiXeC7iRnwsPiQ=s64",
      "userId": "05145088499816938444"
     },
     "user_tz": -180
    },
    "id": "e012d0b5-a6f8-4fe5-9a51-3a86dedbfd3c",
    "outputId": "69435d21-423d-498f-82d2-b09561fb217c"
   },
   "outputs": [],
   "source": [
    "M_p = calculate_lipschitz_constant(n, gamma, p_order=3, A_A_T=None, device=device)"
   ]
  },
  {
   "cell_type": "code",
   "execution_count": 11,
   "id": "414c5cb4-9918-4fef-8755-d2dc237cf259",
   "metadata": {},
   "outputs": [
    {
     "data": {
      "text/plain": [
       "3000.000000000001"
      ]
     },
     "execution_count": 11,
     "metadata": {},
     "output_type": "execute_result"
    }
   ],
   "source": [
    "M_p"
   ]
  },
  {
   "cell_type": "code",
   "execution_count": 22,
   "id": "18be7e91-82e4-40d7-bdde-494bc0ec4f8d",
   "metadata": {
    "executionInfo": {
     "elapsed": 5,
     "status": "ok",
     "timestamp": 1641416247891,
     "user": {
      "displayName": "Petr Ostroukhov",
      "photoUrl": "https://lh3.googleusercontent.com/a-/AOh14GiZB6-DHQ3v5rx_0tpUGWEHcJMywiXeC7iRnwsPiQ=s64",
      "userId": "05145088499816938444"
     },
     "user_tz": -180
    },
    "id": "18be7e91-82e4-40d7-bdde-494bc0ec4f8d"
   },
   "outputs": [],
   "source": [
    "# def ot_softmax():\n",
    "    # log_B = M_over_gamma + torch.outer(psi, torch.ones(n)) + torch.outer(eta, torch.ones(n))\n",
    "    # max_log_B = log_B.max()\n",
    "    # log_B_stable = log_B - max_log_B\n",
    "    # B_stable = torch.exp(log_b_stable)\n",
    "    \n",
    "    # return gamma * (torch.log(B_stable.sum()) + max_log_B - lamb @ b)"
   ]
  },
  {
   "cell_type": "code",
   "execution_count": 12,
   "id": "d10f999b-0061-4418-af66-fbea44fbe831",
   "metadata": {},
   "outputs": [],
   "source": [
    "M_matrix = calculate_M_matrix(m)\n",
    "M_matrix = M_matrix.to(device)\n",
    "ones = torch.ones(n, device=device, dtype=torch.double)\n",
    "lamb = torch.zeros(n * 2, dtype=torch.double, requires_grad=True, device=device)\n",
    "optimizer = PrimalDualAccelerated(\n",
    "    [lamb],\n",
    "    M_p=M_p,\n",
    "    p_order=torch.tensor(3, device=device),\n",
    "    eps=0.01,\n",
    "    calculate_primal_var=lambda lamb: calculate_x(lamb, n, M_matrix / gamma, ones)\n",
    ")"
   ]
  },
  {
   "cell_type": "code",
   "execution_count": 15,
   "id": "90f7a75f-4224-4b9f-ac89-6d626f49e6b0",
   "metadata": {
    "tags": []
   },
   "outputs": [
    {
     "name": "stdout",
     "output_type": "stream",
     "text": [
      "Step #130\n",
      "cr_1: 0.6068802546147936 -> 20.92089989276053\n",
      "cr_2: -0.17603929194419787 -> -0.17129310290479138\n",
      "phi: 665.4519022050118 -> 644.8264906507366\n",
      "f: -666.0587824596266 -> -665.7473905434971\n",
      "time=0h, 7m, 4s\n"
     ]
    },
    {
     "ename": "KeyboardInterrupt",
     "evalue": "",
     "output_type": "error",
     "traceback": [
      "\u001b[0;31m---------------------------------------------------------------------------\u001b[0m",
      "\u001b[0;31mKeyboardInterrupt\u001b[0m                         Traceback (most recent call last)",
      "\u001b[0;32m/tmp/ipykernel_1224861/1790137624.py\u001b[0m in \u001b[0;36m<module>\u001b[0;34m\u001b[0m\n\u001b[0;32m----> 1\u001b[0;31m optimizer, i, cr_1, cr_2 = run_experiment(\n\u001b[0m\u001b[1;32m      2\u001b[0m     \u001b[0mM_p\u001b[0m\u001b[0;34m,\u001b[0m\u001b[0;34m\u001b[0m\u001b[0;34m\u001b[0m\u001b[0m\n\u001b[1;32m      3\u001b[0m     \u001b[0mgamma\u001b[0m\u001b[0;34m,\u001b[0m\u001b[0;34m\u001b[0m\u001b[0;34m\u001b[0m\u001b[0m\n\u001b[1;32m      4\u001b[0m     \u001b[0meps\u001b[0m\u001b[0;34m,\u001b[0m\u001b[0;34m\u001b[0m\u001b[0;34m\u001b[0m\u001b[0m\n\u001b[1;32m      5\u001b[0m     \u001b[0mimage_index\u001b[0m\u001b[0;34m,\u001b[0m\u001b[0;34m\u001b[0m\u001b[0;34m\u001b[0m\u001b[0m\n",
      "\u001b[0;32m~/OPTAMI/run_pd_experiment.py\u001b[0m in \u001b[0;36mrun_experiment\u001b[0;34m(M_p, gamma, eps, image_index, optimizer, max_steps, fgm_cr_1_list, fgm_cr_2_list, device)\u001b[0m\n\u001b[1;32m    286\u001b[0m     \u001b[0mclosure\u001b[0m \u001b[0;34m=\u001b[0m \u001b[0;32mlambda\u001b[0m\u001b[0;34m:\u001b[0m \u001b[0mphi\u001b[0m\u001b[0;34m(\u001b[0m\u001b[0mlamb\u001b[0m\u001b[0;34m,\u001b[0m \u001b[0mn\u001b[0m\u001b[0;34m,\u001b[0m \u001b[0mgamma\u001b[0m\u001b[0;34m,\u001b[0m \u001b[0mM_matrix_over_gamma\u001b[0m\u001b[0;34m,\u001b[0m \u001b[0mones\u001b[0m\u001b[0;34m,\u001b[0m \u001b[0mp\u001b[0m\u001b[0;34m,\u001b[0m \u001b[0mq\u001b[0m\u001b[0;34m,\u001b[0m \u001b[0moptimizer\u001b[0m\u001b[0;34m=\u001b[0m\u001b[0moptimizer\u001b[0m\u001b[0;34m)\u001b[0m\u001b[0;34m\u001b[0m\u001b[0;34m\u001b[0m\u001b[0m\n\u001b[1;32m    287\u001b[0m     \u001b[0mround_function\u001b[0m \u001b[0;34m=\u001b[0m \u001b[0;32mlambda\u001b[0m \u001b[0mX_matrix\u001b[0m\u001b[0;34m:\u001b[0m \u001b[0mB_round\u001b[0m\u001b[0;34m(\u001b[0m\u001b[0mX_matrix\u001b[0m\u001b[0;34m,\u001b[0m \u001b[0mp_ref\u001b[0m\u001b[0;34m,\u001b[0m \u001b[0mq_ref\u001b[0m\u001b[0;34m,\u001b[0m \u001b[0mones\u001b[0m\u001b[0;34m)\u001b[0m\u001b[0;34m\u001b[0m\u001b[0;34m\u001b[0m\u001b[0m\n\u001b[0;32m--> 288\u001b[0;31m     i, cr_1, cr_2 = optimize(\n\u001b[0m\u001b[1;32m    289\u001b[0m         \u001b[0moptimizer\u001b[0m\u001b[0;34m,\u001b[0m\u001b[0;34m\u001b[0m\u001b[0;34m\u001b[0m\u001b[0m\n\u001b[1;32m    290\u001b[0m         \u001b[0mclosure\u001b[0m\u001b[0;34m,\u001b[0m\u001b[0;34m\u001b[0m\u001b[0;34m\u001b[0m\u001b[0m\n",
      "\u001b[0;32m~/OPTAMI/run_pd_experiment.py\u001b[0m in \u001b[0;36moptimize\u001b[0;34m(optimizer, closure, round_function, eps, M_matrix, gamma, max_steps, fgm_cr_1_list, fgm_cr_2_list, device)\u001b[0m\n\u001b[1;32m    212\u001b[0m             \u001b[0max\u001b[0m\u001b[0;34m[\u001b[0m\u001b[0;36m1\u001b[0m\u001b[0;34m]\u001b[0m\u001b[0;34m.\u001b[0m\u001b[0mset_yscale\u001b[0m\u001b[0;34m(\u001b[0m\u001b[0;34m'log'\u001b[0m\u001b[0;34m)\u001b[0m\u001b[0;34m\u001b[0m\u001b[0;34m\u001b[0m\u001b[0m\n\u001b[1;32m    213\u001b[0m             \u001b[0max\u001b[0m\u001b[0;34m[\u001b[0m\u001b[0;36m1\u001b[0m\u001b[0;34m]\u001b[0m\u001b[0;34m.\u001b[0m\u001b[0mlegend\u001b[0m\u001b[0;34m(\u001b[0m\u001b[0;34m)\u001b[0m\u001b[0;34m\u001b[0m\u001b[0;34m\u001b[0m\u001b[0m\n\u001b[0;32m--> 214\u001b[0;31m             \u001b[0mplt\u001b[0m\u001b[0;34m.\u001b[0m\u001b[0mshow\u001b[0m\u001b[0;34m(\u001b[0m\u001b[0;34m)\u001b[0m\u001b[0;34m\u001b[0m\u001b[0;34m\u001b[0m\u001b[0m\n\u001b[0m\u001b[1;32m    215\u001b[0m \u001b[0;34m\u001b[0m\u001b[0m\n\u001b[1;32m    216\u001b[0m             \u001b[0;31m# print('\\n'.join(\u001b[0m\u001b[0;34m\u001b[0m\u001b[0;34m\u001b[0m\u001b[0;34m\u001b[0m\u001b[0m\n",
      "\u001b[0;32m~/OPTAMI/venv/lib/python3.8/site-packages/matplotlib/pyplot.py\u001b[0m in \u001b[0;36mshow\u001b[0;34m(*args, **kwargs)\u001b[0m\n\u001b[1;32m    366\u001b[0m     \"\"\"\n\u001b[1;32m    367\u001b[0m     \u001b[0m_warn_if_gui_out_of_main_thread\u001b[0m\u001b[0;34m(\u001b[0m\u001b[0;34m)\u001b[0m\u001b[0;34m\u001b[0m\u001b[0;34m\u001b[0m\u001b[0m\n\u001b[0;32m--> 368\u001b[0;31m     \u001b[0;32mreturn\u001b[0m \u001b[0m_backend_mod\u001b[0m\u001b[0;34m.\u001b[0m\u001b[0mshow\u001b[0m\u001b[0;34m(\u001b[0m\u001b[0;34m*\u001b[0m\u001b[0margs\u001b[0m\u001b[0;34m,\u001b[0m \u001b[0;34m**\u001b[0m\u001b[0mkwargs\u001b[0m\u001b[0;34m)\u001b[0m\u001b[0;34m\u001b[0m\u001b[0;34m\u001b[0m\u001b[0m\n\u001b[0m\u001b[1;32m    369\u001b[0m \u001b[0;34m\u001b[0m\u001b[0m\n\u001b[1;32m    370\u001b[0m \u001b[0;34m\u001b[0m\u001b[0m\n",
      "\u001b[0;32m~/OPTAMI/venv/lib/python3.8/site-packages/matplotlib_inline/backend_inline.py\u001b[0m in \u001b[0;36mshow\u001b[0;34m(close, block)\u001b[0m\n\u001b[1;32m     39\u001b[0m     \u001b[0;32mtry\u001b[0m\u001b[0;34m:\u001b[0m\u001b[0;34m\u001b[0m\u001b[0;34m\u001b[0m\u001b[0m\n\u001b[1;32m     40\u001b[0m         \u001b[0;32mfor\u001b[0m \u001b[0mfigure_manager\u001b[0m \u001b[0;32min\u001b[0m \u001b[0mGcf\u001b[0m\u001b[0;34m.\u001b[0m\u001b[0mget_all_fig_managers\u001b[0m\u001b[0;34m(\u001b[0m\u001b[0;34m)\u001b[0m\u001b[0;34m:\u001b[0m\u001b[0;34m\u001b[0m\u001b[0;34m\u001b[0m\u001b[0m\n\u001b[0;32m---> 41\u001b[0;31m             display(\n\u001b[0m\u001b[1;32m     42\u001b[0m                 \u001b[0mfigure_manager\u001b[0m\u001b[0;34m.\u001b[0m\u001b[0mcanvas\u001b[0m\u001b[0;34m.\u001b[0m\u001b[0mfigure\u001b[0m\u001b[0;34m,\u001b[0m\u001b[0;34m\u001b[0m\u001b[0;34m\u001b[0m\u001b[0m\n\u001b[1;32m     43\u001b[0m                 \u001b[0mmetadata\u001b[0m\u001b[0;34m=\u001b[0m\u001b[0m_fetch_figure_metadata\u001b[0m\u001b[0;34m(\u001b[0m\u001b[0mfigure_manager\u001b[0m\u001b[0;34m.\u001b[0m\u001b[0mcanvas\u001b[0m\u001b[0;34m.\u001b[0m\u001b[0mfigure\u001b[0m\u001b[0;34m)\u001b[0m\u001b[0;34m\u001b[0m\u001b[0;34m\u001b[0m\u001b[0m\n",
      "\u001b[0;32m~/OPTAMI/venv/lib/python3.8/site-packages/IPython/core/display.py\u001b[0m in \u001b[0;36mdisplay\u001b[0;34m(include, exclude, metadata, transient, display_id, *objs, **kwargs)\u001b[0m\n\u001b[1;32m    325\u001b[0m                 \u001b[0;31m# kwarg-specified metadata gets precedence\u001b[0m\u001b[0;34m\u001b[0m\u001b[0;34m\u001b[0m\u001b[0;34m\u001b[0m\u001b[0m\n\u001b[1;32m    326\u001b[0m                 \u001b[0m_merge\u001b[0m\u001b[0;34m(\u001b[0m\u001b[0mmd_dict\u001b[0m\u001b[0;34m,\u001b[0m \u001b[0mmetadata\u001b[0m\u001b[0;34m)\u001b[0m\u001b[0;34m\u001b[0m\u001b[0;34m\u001b[0m\u001b[0m\n\u001b[0;32m--> 327\u001b[0;31m             \u001b[0mpublish_display_data\u001b[0m\u001b[0;34m(\u001b[0m\u001b[0mdata\u001b[0m\u001b[0;34m=\u001b[0m\u001b[0mformat_dict\u001b[0m\u001b[0;34m,\u001b[0m \u001b[0mmetadata\u001b[0m\u001b[0;34m=\u001b[0m\u001b[0mmd_dict\u001b[0m\u001b[0;34m,\u001b[0m \u001b[0;34m**\u001b[0m\u001b[0mkwargs\u001b[0m\u001b[0;34m)\u001b[0m\u001b[0;34m\u001b[0m\u001b[0;34m\u001b[0m\u001b[0m\n\u001b[0m\u001b[1;32m    328\u001b[0m     \u001b[0;32mif\u001b[0m \u001b[0mdisplay_id\u001b[0m\u001b[0;34m:\u001b[0m\u001b[0;34m\u001b[0m\u001b[0;34m\u001b[0m\u001b[0m\n\u001b[1;32m    329\u001b[0m         \u001b[0;32mreturn\u001b[0m \u001b[0mDisplayHandle\u001b[0m\u001b[0;34m(\u001b[0m\u001b[0mdisplay_id\u001b[0m\u001b[0;34m)\u001b[0m\u001b[0;34m\u001b[0m\u001b[0;34m\u001b[0m\u001b[0m\n",
      "\u001b[0;32m~/OPTAMI/venv/lib/python3.8/site-packages/IPython/core/display.py\u001b[0m in \u001b[0;36mpublish_display_data\u001b[0;34m(data, metadata, source, transient, **kwargs)\u001b[0m\n\u001b[1;32m    117\u001b[0m         \u001b[0mkwargs\u001b[0m\u001b[0;34m[\u001b[0m\u001b[0;34m'transient'\u001b[0m\u001b[0;34m]\u001b[0m \u001b[0;34m=\u001b[0m \u001b[0mtransient\u001b[0m\u001b[0;34m\u001b[0m\u001b[0;34m\u001b[0m\u001b[0m\n\u001b[1;32m    118\u001b[0m \u001b[0;34m\u001b[0m\u001b[0m\n\u001b[0;32m--> 119\u001b[0;31m     display_pub.publish(\n\u001b[0m\u001b[1;32m    120\u001b[0m         \u001b[0mdata\u001b[0m\u001b[0;34m=\u001b[0m\u001b[0mdata\u001b[0m\u001b[0;34m,\u001b[0m\u001b[0;34m\u001b[0m\u001b[0;34m\u001b[0m\u001b[0m\n\u001b[1;32m    121\u001b[0m         \u001b[0mmetadata\u001b[0m\u001b[0;34m=\u001b[0m\u001b[0mmetadata\u001b[0m\u001b[0;34m,\u001b[0m\u001b[0;34m\u001b[0m\u001b[0;34m\u001b[0m\u001b[0m\n",
      "\u001b[0;32m~/OPTAMI/venv/lib/python3.8/site-packages/ipykernel/zmqshell.py\u001b[0m in \u001b[0;36mpublish\u001b[0;34m(self, data, metadata, transient, update)\u001b[0m\n\u001b[1;32m    107\u001b[0m             \u001b[0mIf\u001b[0m \u001b[0;32mTrue\u001b[0m\u001b[0;34m,\u001b[0m \u001b[0msend\u001b[0m \u001b[0man\u001b[0m \u001b[0mupdate_display_data\u001b[0m \u001b[0mmessage\u001b[0m \u001b[0minstead\u001b[0m \u001b[0mof\u001b[0m \u001b[0mdisplay_data\u001b[0m\u001b[0;34m.\u001b[0m\u001b[0;34m\u001b[0m\u001b[0;34m\u001b[0m\u001b[0m\n\u001b[1;32m    108\u001b[0m         \"\"\"\n\u001b[0;32m--> 109\u001b[0;31m         \u001b[0mself\u001b[0m\u001b[0;34m.\u001b[0m\u001b[0m_flush_streams\u001b[0m\u001b[0;34m(\u001b[0m\u001b[0;34m)\u001b[0m\u001b[0;34m\u001b[0m\u001b[0;34m\u001b[0m\u001b[0m\n\u001b[0m\u001b[1;32m    110\u001b[0m         \u001b[0;32mif\u001b[0m \u001b[0mmetadata\u001b[0m \u001b[0;32mis\u001b[0m \u001b[0;32mNone\u001b[0m\u001b[0;34m:\u001b[0m\u001b[0;34m\u001b[0m\u001b[0;34m\u001b[0m\u001b[0m\n\u001b[1;32m    111\u001b[0m             \u001b[0mmetadata\u001b[0m \u001b[0;34m=\u001b[0m \u001b[0;34m{\u001b[0m\u001b[0;34m}\u001b[0m\u001b[0;34m\u001b[0m\u001b[0;34m\u001b[0m\u001b[0m\n",
      "\u001b[0;32m~/OPTAMI/venv/lib/python3.8/site-packages/ipykernel/zmqshell.py\u001b[0m in \u001b[0;36m_flush_streams\u001b[0;34m(self)\u001b[0m\n\u001b[1;32m     71\u001b[0m         \u001b[0;34m\"\"\"flush IO Streams prior to display\"\"\"\u001b[0m\u001b[0;34m\u001b[0m\u001b[0;34m\u001b[0m\u001b[0m\n\u001b[1;32m     72\u001b[0m         \u001b[0msys\u001b[0m\u001b[0;34m.\u001b[0m\u001b[0mstdout\u001b[0m\u001b[0;34m.\u001b[0m\u001b[0mflush\u001b[0m\u001b[0;34m(\u001b[0m\u001b[0;34m)\u001b[0m\u001b[0;34m\u001b[0m\u001b[0;34m\u001b[0m\u001b[0m\n\u001b[0;32m---> 73\u001b[0;31m         \u001b[0msys\u001b[0m\u001b[0;34m.\u001b[0m\u001b[0mstderr\u001b[0m\u001b[0;34m.\u001b[0m\u001b[0mflush\u001b[0m\u001b[0;34m(\u001b[0m\u001b[0;34m)\u001b[0m\u001b[0;34m\u001b[0m\u001b[0;34m\u001b[0m\u001b[0m\n\u001b[0m\u001b[1;32m     74\u001b[0m \u001b[0;34m\u001b[0m\u001b[0m\n\u001b[1;32m     75\u001b[0m     \u001b[0;34m@\u001b[0m\u001b[0mdefault\u001b[0m\u001b[0;34m(\u001b[0m\u001b[0;34m'_thread_local'\u001b[0m\u001b[0;34m)\u001b[0m\u001b[0;34m\u001b[0m\u001b[0;34m\u001b[0m\u001b[0m\n",
      "\u001b[0;32m~/OPTAMI/venv/lib/python3.8/site-packages/ipykernel/iostream.py\u001b[0m in \u001b[0;36mflush\u001b[0;34m(self)\u001b[0m\n\u001b[1;32m    464\u001b[0m                 \u001b[0mself\u001b[0m\u001b[0;34m.\u001b[0m\u001b[0mpub_thread\u001b[0m\u001b[0;34m.\u001b[0m\u001b[0mschedule\u001b[0m\u001b[0;34m(\u001b[0m\u001b[0mevt\u001b[0m\u001b[0;34m.\u001b[0m\u001b[0mset\u001b[0m\u001b[0;34m)\u001b[0m\u001b[0;34m\u001b[0m\u001b[0;34m\u001b[0m\u001b[0m\n\u001b[1;32m    465\u001b[0m                 \u001b[0;31m# and give a timeout to avoid\u001b[0m\u001b[0;34m\u001b[0m\u001b[0;34m\u001b[0m\u001b[0;34m\u001b[0m\u001b[0m\n\u001b[0;32m--> 466\u001b[0;31m                 \u001b[0;32mif\u001b[0m \u001b[0;32mnot\u001b[0m \u001b[0mevt\u001b[0m\u001b[0;34m.\u001b[0m\u001b[0mwait\u001b[0m\u001b[0;34m(\u001b[0m\u001b[0mself\u001b[0m\u001b[0;34m.\u001b[0m\u001b[0mflush_timeout\u001b[0m\u001b[0;34m)\u001b[0m\u001b[0;34m:\u001b[0m\u001b[0;34m\u001b[0m\u001b[0;34m\u001b[0m\u001b[0m\n\u001b[0m\u001b[1;32m    467\u001b[0m                     \u001b[0;31m# write directly to __stderr__ instead of warning because\u001b[0m\u001b[0;34m\u001b[0m\u001b[0;34m\u001b[0m\u001b[0;34m\u001b[0m\u001b[0m\n\u001b[1;32m    468\u001b[0m                     \u001b[0;31m# if this is happening sys.stderr may be the problem.\u001b[0m\u001b[0;34m\u001b[0m\u001b[0;34m\u001b[0m\u001b[0;34m\u001b[0m\u001b[0m\n",
      "\u001b[0;32m/usr/lib/python3.8/threading.py\u001b[0m in \u001b[0;36mwait\u001b[0;34m(self, timeout)\u001b[0m\n\u001b[1;32m    556\u001b[0m             \u001b[0msignaled\u001b[0m \u001b[0;34m=\u001b[0m \u001b[0mself\u001b[0m\u001b[0;34m.\u001b[0m\u001b[0m_flag\u001b[0m\u001b[0;34m\u001b[0m\u001b[0;34m\u001b[0m\u001b[0m\n\u001b[1;32m    557\u001b[0m             \u001b[0;32mif\u001b[0m \u001b[0;32mnot\u001b[0m \u001b[0msignaled\u001b[0m\u001b[0;34m:\u001b[0m\u001b[0;34m\u001b[0m\u001b[0;34m\u001b[0m\u001b[0m\n\u001b[0;32m--> 558\u001b[0;31m                 \u001b[0msignaled\u001b[0m \u001b[0;34m=\u001b[0m \u001b[0mself\u001b[0m\u001b[0;34m.\u001b[0m\u001b[0m_cond\u001b[0m\u001b[0;34m.\u001b[0m\u001b[0mwait\u001b[0m\u001b[0;34m(\u001b[0m\u001b[0mtimeout\u001b[0m\u001b[0;34m)\u001b[0m\u001b[0;34m\u001b[0m\u001b[0;34m\u001b[0m\u001b[0m\n\u001b[0m\u001b[1;32m    559\u001b[0m             \u001b[0;32mreturn\u001b[0m \u001b[0msignaled\u001b[0m\u001b[0;34m\u001b[0m\u001b[0;34m\u001b[0m\u001b[0m\n\u001b[1;32m    560\u001b[0m \u001b[0;34m\u001b[0m\u001b[0m\n",
      "\u001b[0;32m/usr/lib/python3.8/threading.py\u001b[0m in \u001b[0;36mwait\u001b[0;34m(self, timeout)\u001b[0m\n\u001b[1;32m    304\u001b[0m             \u001b[0;32melse\u001b[0m\u001b[0;34m:\u001b[0m\u001b[0;34m\u001b[0m\u001b[0;34m\u001b[0m\u001b[0m\n\u001b[1;32m    305\u001b[0m                 \u001b[0;32mif\u001b[0m \u001b[0mtimeout\u001b[0m \u001b[0;34m>\u001b[0m \u001b[0;36m0\u001b[0m\u001b[0;34m:\u001b[0m\u001b[0;34m\u001b[0m\u001b[0;34m\u001b[0m\u001b[0m\n\u001b[0;32m--> 306\u001b[0;31m                     \u001b[0mgotit\u001b[0m \u001b[0;34m=\u001b[0m \u001b[0mwaiter\u001b[0m\u001b[0;34m.\u001b[0m\u001b[0macquire\u001b[0m\u001b[0;34m(\u001b[0m\u001b[0;32mTrue\u001b[0m\u001b[0;34m,\u001b[0m \u001b[0mtimeout\u001b[0m\u001b[0;34m)\u001b[0m\u001b[0;34m\u001b[0m\u001b[0;34m\u001b[0m\u001b[0m\n\u001b[0m\u001b[1;32m    307\u001b[0m                 \u001b[0;32melse\u001b[0m\u001b[0;34m:\u001b[0m\u001b[0;34m\u001b[0m\u001b[0;34m\u001b[0m\u001b[0m\n\u001b[1;32m    308\u001b[0m                     \u001b[0mgotit\u001b[0m \u001b[0;34m=\u001b[0m \u001b[0mwaiter\u001b[0m\u001b[0;34m.\u001b[0m\u001b[0macquire\u001b[0m\u001b[0;34m(\u001b[0m\u001b[0;32mFalse\u001b[0m\u001b[0;34m)\u001b[0m\u001b[0;34m\u001b[0m\u001b[0;34m\u001b[0m\u001b[0m\n",
      "\u001b[0;31mKeyboardInterrupt\u001b[0m: "
     ]
    }
   ],
   "source": [
    "optimizer, i, cr_1, cr_2 = run_experiment(\n",
    "    M_p,\n",
    "    gamma, \n",
    "    eps, \n",
    "    image_index,\n",
    "    optimizer=optimizer,\n",
    "    max_steps=1000,\n",
    "    fgm_cr_1_list=None,\n",
    "    fgm_cr_2_list=None,\n",
    "    device=device\n",
    ")"
   ]
  },
  {
   "cell_type": "markdown",
   "id": "97c816b5-1ea5-4da4-be17-54b2dc3830ce",
   "metadata": {},
   "source": [
    "## BDGM "
   ]
  },
  {
   "cell_type": "code",
   "execution_count": 27,
   "id": "50ac1517-cc5f-4f6e-aadb-8cfe307b0a5f",
   "metadata": {},
   "outputs": [
    {
     "name": "stderr",
     "output_type": "stream",
     "text": [
      "/tmp/ipykernel_1224861/3532352633.py:4: UserWarning: To copy construct from a tensor, it is recommended to use sourceTensor.clone().detach() or sourceTensor.clone().detach().requires_grad_(True), rather than torch.tensor(sourceTensor).\n",
      "  gamma = torch.tensor(gamma, device=device)\n"
     ]
    }
   ],
   "source": [
    "images, labels = load_data()\n",
    "n = len(images[0])\n",
    "m = int(np.sqrt(n))\n",
    "gamma = torch.tensor(gamma, device=device)\n",
    "\n",
    "M_matrix = calculate_M_matrix(m)\n",
    "M_matrix = M_matrix.to(device)\n",
    "M_matrix_over_gamma = M_matrix / gamma\n",
    "\n",
    "# if A_matrix is None:\n",
    "#     A_matrix = calculate_A_matrix(n).to(device)\n",
    "\n",
    "# experiments were done for\n",
    "p_list = [34860, 31226, 239, 37372, 17390]\n",
    "q_list = [45815, 35817, 43981, 54698, 49947]\n",
    "\n",
    "# x_array = np.linspace(1 / 2e-2, 1 / 4e-4, 6)\n",
    "# epslist = 1 / x_array\n",
    "\n",
    "epsp = eps / 8\n",
    "p, q = mnist(epsp, p_list[image_index], q_list[image_index], images, n)\n",
    "p = torch.tensor(p, device=device, dtype=torch.double)\n",
    "q = torch.tensor(q, device=device, dtype=torch.double)\n",
    "p_ref, q_ref = mnist(0, p_list[image_index], q_list[image_index], images, n)\n",
    "p_ref = torch.tensor(p_ref, device=device, dtype=torch.double)\n",
    "q_ref = torch.tensor(q_ref, device=device, dtype=torch.double)\n",
    "\n",
    "ones = torch.ones(n, device=device, dtype=torch.double)"
   ]
  },
  {
   "cell_type": "code",
   "execution_count": 31,
   "id": "d5b02399-844c-4b55-82c0-6dd8c1f7e226",
   "metadata": {},
   "outputs": [
    {
     "name": "stdout",
     "output_type": "stream",
     "text": [
      "Step#199, phi=558.2304380111552\n"
     ]
    }
   ],
   "source": [
    "lamb = torch.zeros(2 * n, requires_grad=True, device=device, dtype=torch.double)\n",
    "optimizer = BDGM([lamb], L=M_p)\n",
    "closure = lambda: phi(lamb, n, gamma, M_matrix_over_gamma, ones, p, q, optimizer=optimizer)\n",
    "round_function = lambda X_matrix: B_round(X_matrix, p_ref, q_ref, ones)\n",
    "\n",
    "M = M_p * 2\n",
    "M_squared, M_p_squared = M ** 2, M_p ** 2\n",
    "p_order = 3\n",
    "A_factor = ((p_order - 1) * (M_squared - M_p_squared) /\n",
    "                    (4 * (p_order + 1) * p_order ** 2 * M_squared)) ** (p_order / 2)\n",
    "\n",
    "phi_values = [0.0] * 200\n",
    "for i in range(200):\n",
    "    optimizer.step(closure)\n",
    "    with torch.no_grad():\n",
    "        clear_output(wait=True)\n",
    "        phi_value = closure().item()\n",
    "        phi_values[i] = phi_value\n",
    "        print(f'Step#{i}, phi={phi_value}')\n",
    "#         A =  * (k / (p_order + 1)) ** (p_order + 1)\n",
    "#         X_matrix, X_stable_sum, max_log_X = calculate_x(lamb, n, M_matrix_over_gamma, ones)\n",
    "#         X_hat_matrix_next = "
   ]
  },
  {
   "cell_type": "markdown",
   "id": "c2ff7653-2249-4a5b-8c24-2725a597e5bb",
   "metadata": {},
   "source": [
    "# TEST "
   ]
  },
  {
   "cell_type": "code",
   "execution_count": 16,
   "id": "d9b76b3b-7b68-49b5-aa58-afcdb5942554",
   "metadata": {
    "colab": {
     "base_uri": "https://localhost:8080/",
     "height": 35
    },
    "id": "lD9GVDPpjLMc",
    "outputId": "f87a5b73-d8fa-4940-85ef-8d273f37afb8",
    "tags": []
   },
   "outputs": [
    {
     "data": {
      "text/plain": [
       "1.0"
      ]
     },
     "execution_count": 16,
     "metadata": {},
     "output_type": "execute_result"
    }
   ],
   "source": [
    "from mnist import MNIST\n",
    "import numpy as np\n",
    "from scipy.spatial.distance import cdist\n",
    "import math\n",
    "#https://pypi.org/project/python-mnist\n",
    "mndata = MNIST('./data/')\n",
    "images, labels = mndata.load_training()\n",
    "%matplotlib inline\n",
    "import matplotlib.pyplot as plt\n",
    "import copy\n",
    "from numpy import linalg\n",
    "import time\n",
    "\n",
    "l = len(images)\n",
    "n = len(images[0])\n",
    "m = int(np.sqrt(n))\n",
    "\n",
    "# def mnist(eps, p, q):\n",
    "#     p, q = np.float64(images[p]), np.float64(images[q])\n",
    "#     p, q = p / sum(p), q / sum(q)\n",
    "    \n",
    "#     p = (1 - eps / 8) * p + eps / (8 * n)\n",
    "#     q = (1 - eps / 8) * q + eps / (8 * n)\n",
    "    \n",
    "#     return p, q\n",
    "\n",
    "def cartesian_product(*arrays):\n",
    "    la = len(arrays)\n",
    "    dtype = np.result_type(*arrays)\n",
    "    arr = np.empty([len(a) for a in arrays] + [la], dtype=dtype)\n",
    "    for i, a in enumerate(np.ix_(*arrays)):\n",
    "        arr[...,i] = a\n",
    "    return arr.reshape(-1, la)\n",
    "\n",
    "C = np.arange(m)\n",
    "C = cartesian_product(C, C)\n",
    "C = cdist(C, C)\n",
    "C /= np.max(C)\n",
    "C.max()"
   ]
  },
  {
   "cell_type": "code",
   "execution_count": 17,
   "id": "90d31e4d-cb10-4ae6-975e-c645e2099e02",
   "metadata": {
    "id": "f4ur_WaqjLMi"
   },
   "outputs": [],
   "source": [
    "one = np.ones(n, np.float64)\n",
    "I = np.ones([n,n], np.float64)\n",
    "def f_true(x):\n",
    "    return (C * x).sum()\n",
    "\n",
    "def B_round(x):\n",
    "    r = p_ref / x.dot(one)\n",
    "    r[r>1] = 1.\n",
    "    F = np.diag(r).dot(x)\n",
    "    c = q_ref / (x.T).dot(one)\n",
    "    c[c>1] = 1.\n",
    "    F = F.dot(np.diag(c))\n",
    "    err_r = p_ref - F.dot(one)\n",
    "    err_c = q_ref - (F.T).dot(one)\n",
    "    return F + np.outer(err_r, err_c) / abs(err_r).sum()"
   ]
  },
  {
   "cell_type": "code",
   "execution_count": 18,
   "id": "d33fb736-831a-435e-90f1-e1576383e5e4",
   "metadata": {
    "id": "QTUDC4ajjLMr"
   },
   "outputs": [],
   "source": [
    "def phi_(gamma, lamu):\n",
    "    A = (-C/gamma + np.outer(lamu[:n], one) + np.outer(one, lamu[n:]))\n",
    "    a = A.max()\n",
    "    A-=a\n",
    "    s = a+np.log(np.exp(A).sum())\n",
    "    return gamma*(-lamu[:n].dot(p) - lamu[n:].dot(q) + s)\n",
    "\n",
    "def f_(gamma, x):\n",
    "    y = (x.reshape(-1)).copy()\n",
    "    y[x.reshape(-1) == 0.] = 1.\n",
    "    \n",
    "    y = y.reshape(n, -1)\n",
    "    return (C * x).sum() + gamma * (x * np.log(y)).sum()"
   ]
  },
  {
   "cell_type": "code",
   "execution_count": 23,
   "id": "6a0a34fb-348a-48a6-bd81-e78aa524ea2f",
   "metadata": {
    "id": "7NVDKMvwjLM7"
   },
   "outputs": [],
   "source": [
    "def apd(x0, L):\n",
    "    betta = 0.\n",
    "    alpha = 0.\n",
    "    primal_var = 0.*np.ones([n, n], dtype=np.float64)\n",
    "    z = np.zeros(2*n, dtype=np.float64)\n",
    "    z_new = np.zeros(2*n, dtype=np.float64)\n",
    "    eta = np.zeros(2*n, dtype=np.float64)\n",
    "    eta_new  = np.zeros(2*n, dtype=np.float64)\n",
    "    grad_phi_new = np.zeros(2*n, dtype=np.float64)\n",
    "    \n",
    "    f = lambda x: phi_(gamma, x)\n",
    "    f_primal = lambda x: f_(gamma, x)\n",
    "#     f = lambda x: phi(x, n, gamma, M_matrix / gamma, torch.tensor(ones), p, q)\n",
    "#     f_primal = lambda x: f(x, M_matrix, gamma)\n",
    "    \n",
    "    k=0\n",
    "    start_time = time.perf_counter()\n",
    "    while True:\n",
    "        # L = L / 2\n",
    "        # while True:\n",
    "        alpha_new = (1 + np.sqrt(4*L*betta + 1)) / 2 / L\n",
    "        betta_new = betta + alpha_new\n",
    "        tau = alpha_new / betta_new\n",
    "        lamu_new = tau * z + (1 - tau) * eta\n",
    "\n",
    "        logB = (K + np.outer(lamu_new[:n], one) + np.outer(one, lamu_new[n:]))\n",
    "        max_logB =logB.max()\n",
    "        logB_stable = logB - max_logB\n",
    "\n",
    "        B_stable = np.exp(logB_stable)\n",
    "        u_hat_stable, v_hat_stable = B_stable.dot(one), B_stable.T.dot(one)\n",
    "\n",
    "        Bs_stable = u_hat_stable.sum()\n",
    "\n",
    "        phi_new = gamma*(-lamu_new[:n].dot(p) - lamu_new[n:].dot(q) + np.log(Bs_stable) + max_logB)\n",
    "        grad_phi_new = gamma*np.concatenate((-p + u_hat_stable/Bs_stable, -q + v_hat_stable/Bs_stable),0)\n",
    "\n",
    "        z_new = z - alpha_new * grad_phi_new\n",
    "        eta_new = tau * z_new + (1-tau) * eta\n",
    "\n",
    "        phi_eta = f(eta_new)\n",
    "\n",
    "            # if phi_eta <= phi_new + grad_phi_new.dot(eta_new - lamu_new) + L * ((eta_new - lamu_new)**2).sum() / 2:\n",
    "        alpha, betta = alpha_new, betta_new\n",
    "        z = z_new.copy()\n",
    "        eta = eta_new.copy()\n",
    "            #     break    \n",
    "            # L = L * 2\n",
    "        primal_var = tau * B_stable/Bs_stable + (1 - tau) * primal_var\n",
    "        \n",
    "        cr_1 = abs(f_primal(primal_var) + phi_eta)\n",
    "        cr_2 = (C * (B_round(primal_var) - primal_var)).sum()\n",
    "        if k == 0:\n",
    "            init_cr_1 = cr_1\n",
    "            init_cr_2 = cr_2\n",
    "\n",
    "        clear_output(wait=True)\n",
    "        print('\\n'.join([\n",
    "            f'Step #{k + 1}', \n",
    "            f'cr_1: {init_cr_1} -> {cr_1}',\n",
    "            f'cr_2: {init_cr_2} -> {cr_2}'\n",
    "        ]))\n",
    "        if cr_2 <= eps/6 and cr_1 <= eps/6:\n",
    "            return time.perf_counter() - start_time\n",
    "        \n",
    "        k=k+1"
   ]
  },
  {
   "cell_type": "code",
   "execution_count": 26,
   "id": "acf2cefa-49ca-4bfe-a189-0b8408a0dc84",
   "metadata": {},
   "outputs": [],
   "source": [
    "x_array = np.linspace(1 / 2e-2, 1 / 4e-4, 6)\n",
    "epslist = 1 / x_array"
   ]
  },
  {
   "cell_type": "code",
   "execution_count": 27,
   "id": "bc26b0b3-1e36-451e-a11a-40a3013815f0",
   "metadata": {},
   "outputs": [
    {
     "data": {
      "text/plain": [
       "array([0.02      , 0.00185185, 0.00097087, 0.00065789, 0.00049751,\n",
       "       0.0004    ])"
      ]
     },
     "execution_count": 27,
     "metadata": {},
     "output_type": "execute_result"
    }
   ],
   "source": [
    "epslist"
   ]
  },
  {
   "cell_type": "code",
   "execution_count": 41,
   "id": "e700a087-9feb-4f9c-bc6d-d47c20b643e4",
   "metadata": {
    "tags": []
   },
   "outputs": [
    {
     "name": "stdout",
     "output_type": "stream",
     "text": [
      "Step #552\n",
      "cr_1: 1.7379040914700106e-12 -> 6.726972710639767e-08\n",
      "cr_2: 0.18416651099269007 -> 0.1841657500839989\n"
     ]
    },
    {
     "ename": "KeyboardInterrupt",
     "evalue": "",
     "output_type": "error",
     "traceback": [
      "\u001b[0;31m---------------------------------------------------------------------------\u001b[0m",
      "\u001b[0;31mKeyboardInterrupt\u001b[0m                         Traceback (most recent call last)",
      "\u001b[0;32m/tmp/ipykernel_965471/391950346.py\u001b[0m in \u001b[0;36m<module>\u001b[0;34m\u001b[0m\n\u001b[1;32m     10\u001b[0m \u001b[0mgamma\u001b[0m\u001b[0;34m=\u001b[0m\u001b[0meps\u001b[0m\u001b[0;34m/\u001b[0m\u001b[0;36m3\u001b[0m\u001b[0;34m/\u001b[0m\u001b[0mnp\u001b[0m\u001b[0;34m.\u001b[0m\u001b[0mlog\u001b[0m\u001b[0;34m(\u001b[0m\u001b[0mn\u001b[0m\u001b[0;34m)\u001b[0m\u001b[0;34m\u001b[0m\u001b[0;34m\u001b[0m\u001b[0m\n\u001b[1;32m     11\u001b[0m \u001b[0mK\u001b[0m\u001b[0;34m=\u001b[0m\u001b[0;34m-\u001b[0m\u001b[0mC\u001b[0m\u001b[0;34m/\u001b[0m\u001b[0mgamma\u001b[0m\u001b[0;34m\u001b[0m\u001b[0;34m\u001b[0m\u001b[0m\n\u001b[0;32m---> 12\u001b[0;31m \u001b[0mprint\u001b[0m\u001b[0;34m(\u001b[0m\u001b[0mapd\u001b[0m\u001b[0;34m(\u001b[0m\u001b[0mx0\u001b[0m\u001b[0;34m,\u001b[0m \u001b[0mM_1\u001b[0m\u001b[0;34m.\u001b[0m\u001b[0mitem\u001b[0m\u001b[0;34m(\u001b[0m\u001b[0;34m)\u001b[0m\u001b[0;34m)\u001b[0m\u001b[0;34m)\u001b[0m\u001b[0;34m\u001b[0m\u001b[0;34m\u001b[0m\u001b[0m\n\u001b[0m\u001b[1;32m     13\u001b[0m \u001b[0;31m# i-=-1\u001b[0m\u001b[0;34m\u001b[0m\u001b[0;34m\u001b[0m\u001b[0;34m\u001b[0m\u001b[0m\n\u001b[1;32m     14\u001b[0m     \u001b[0;31m# np.save('/content/drive/My Drive/colab/'+'!e_'+'apd_'+str(k)+'.npy', y_array)\u001b[0m\u001b[0;34m\u001b[0m\u001b[0;34m\u001b[0m\u001b[0;34m\u001b[0m\u001b[0m\n",
      "\u001b[0;32m/tmp/ipykernel_965471/2718478188.py\u001b[0m in \u001b[0;36mapd\u001b[0;34m(x0, L)\u001b[0m\n\u001b[1;32m     50\u001b[0m \u001b[0;34m\u001b[0m\u001b[0m\n\u001b[1;32m     51\u001b[0m         \u001b[0mcr_1\u001b[0m \u001b[0;34m=\u001b[0m \u001b[0mabs\u001b[0m\u001b[0;34m(\u001b[0m\u001b[0mf_primal\u001b[0m\u001b[0;34m(\u001b[0m\u001b[0mprimal_var\u001b[0m\u001b[0;34m)\u001b[0m \u001b[0;34m+\u001b[0m \u001b[0mphi_eta\u001b[0m\u001b[0;34m)\u001b[0m\u001b[0;34m\u001b[0m\u001b[0;34m\u001b[0m\u001b[0m\n\u001b[0;32m---> 52\u001b[0;31m         \u001b[0mcr_2\u001b[0m \u001b[0;34m=\u001b[0m \u001b[0;34m(\u001b[0m\u001b[0mC\u001b[0m \u001b[0;34m*\u001b[0m \u001b[0;34m(\u001b[0m\u001b[0mB_round\u001b[0m\u001b[0;34m(\u001b[0m\u001b[0mprimal_var\u001b[0m\u001b[0;34m)\u001b[0m \u001b[0;34m-\u001b[0m \u001b[0mprimal_var\u001b[0m\u001b[0;34m)\u001b[0m\u001b[0;34m)\u001b[0m\u001b[0;34m.\u001b[0m\u001b[0msum\u001b[0m\u001b[0;34m(\u001b[0m\u001b[0;34m)\u001b[0m\u001b[0;34m\u001b[0m\u001b[0;34m\u001b[0m\u001b[0m\n\u001b[0m\u001b[1;32m     53\u001b[0m         \u001b[0;32mif\u001b[0m \u001b[0mk\u001b[0m \u001b[0;34m==\u001b[0m \u001b[0;36m0\u001b[0m\u001b[0;34m:\u001b[0m\u001b[0;34m\u001b[0m\u001b[0;34m\u001b[0m\u001b[0m\n\u001b[1;32m     54\u001b[0m             \u001b[0minit_cr_1\u001b[0m \u001b[0;34m=\u001b[0m \u001b[0mcr_1\u001b[0m\u001b[0;34m\u001b[0m\u001b[0;34m\u001b[0m\u001b[0m\n",
      "\u001b[0;32m/tmp/ipykernel_965471/1132767481.py\u001b[0m in \u001b[0;36mB_round\u001b[0;34m(x)\u001b[0m\n\u001b[1;32m     10\u001b[0m     \u001b[0mc\u001b[0m \u001b[0;34m=\u001b[0m \u001b[0mq_ref\u001b[0m \u001b[0;34m/\u001b[0m \u001b[0;34m(\u001b[0m\u001b[0mx\u001b[0m\u001b[0;34m.\u001b[0m\u001b[0mT\u001b[0m\u001b[0;34m)\u001b[0m\u001b[0;34m.\u001b[0m\u001b[0mdot\u001b[0m\u001b[0;34m(\u001b[0m\u001b[0mone\u001b[0m\u001b[0;34m)\u001b[0m\u001b[0;34m\u001b[0m\u001b[0;34m\u001b[0m\u001b[0m\n\u001b[1;32m     11\u001b[0m     \u001b[0mc\u001b[0m\u001b[0;34m[\u001b[0m\u001b[0mc\u001b[0m\u001b[0;34m>\u001b[0m\u001b[0;36m1\u001b[0m\u001b[0;34m]\u001b[0m \u001b[0;34m=\u001b[0m \u001b[0;36m1.\u001b[0m\u001b[0;34m\u001b[0m\u001b[0;34m\u001b[0m\u001b[0m\n\u001b[0;32m---> 12\u001b[0;31m     \u001b[0mF\u001b[0m \u001b[0;34m=\u001b[0m \u001b[0mF\u001b[0m\u001b[0;34m.\u001b[0m\u001b[0mdot\u001b[0m\u001b[0;34m(\u001b[0m\u001b[0mnp\u001b[0m\u001b[0;34m.\u001b[0m\u001b[0mdiag\u001b[0m\u001b[0;34m(\u001b[0m\u001b[0mc\u001b[0m\u001b[0;34m)\u001b[0m\u001b[0;34m)\u001b[0m\u001b[0;34m\u001b[0m\u001b[0;34m\u001b[0m\u001b[0m\n\u001b[0m\u001b[1;32m     13\u001b[0m     \u001b[0merr_r\u001b[0m \u001b[0;34m=\u001b[0m \u001b[0mp_ref\u001b[0m \u001b[0;34m-\u001b[0m \u001b[0mF\u001b[0m\u001b[0;34m.\u001b[0m\u001b[0mdot\u001b[0m\u001b[0;34m(\u001b[0m\u001b[0mone\u001b[0m\u001b[0;34m)\u001b[0m\u001b[0;34m\u001b[0m\u001b[0;34m\u001b[0m\u001b[0m\n\u001b[1;32m     14\u001b[0m     \u001b[0merr_c\u001b[0m \u001b[0;34m=\u001b[0m \u001b[0mq_ref\u001b[0m \u001b[0;34m-\u001b[0m \u001b[0;34m(\u001b[0m\u001b[0mF\u001b[0m\u001b[0;34m.\u001b[0m\u001b[0mT\u001b[0m\u001b[0;34m)\u001b[0m\u001b[0;34m.\u001b[0m\u001b[0mdot\u001b[0m\u001b[0;34m(\u001b[0m\u001b[0mone\u001b[0m\u001b[0;34m)\u001b[0m\u001b[0;34m\u001b[0m\u001b[0;34m\u001b[0m\u001b[0m\n",
      "\u001b[0;31mKeyboardInterrupt\u001b[0m: "
     ]
    }
   ],
   "source": [
    "# if not os.path.isfile('/content/drive/My Drive/colab/'+'!e_'+'apd_'+str(k)+'.npy'):\n",
    "# i=0\n",
    "# for eps in epslist:\n",
    "k = 0\n",
    "x0 = np.zeros(2 * n, dtype=np.float64)\n",
    "# epsp = epslist[0] / 8\n",
    "epsp = eps / 8\n",
    "p,q = mnist(eps, p_list[k], q_list[k], images, n)\n",
    "p_ref, q_ref = mnist(0, p_list[k], q_list[k], images, n)\n",
    "gamma=eps/3/np.log(n)\n",
    "K=-C/gamma\n",
    "print(apd(x0, M_1.item()))\n",
    "# i-=-1\n",
    "    # np.save('/content/drive/My Drive/colab/'+'!e_'+'apd_'+str(k)+'.npy', y_array)\n",
    "# print('apd_', k, ' - done', y_array)"
   ]
  },
  {
   "cell_type": "markdown",
   "id": "0d3031d9-5335-4f2d-a835-d92472f62f27",
   "metadata": {},
   "source": [
    "## Test calculate_x"
   ]
  },
  {
   "cell_type": "code",
   "execution_count": 56,
   "id": "7ac29d2d-6afb-4e9a-8f73-04f47a0f98d6",
   "metadata": {},
   "outputs": [],
   "source": [
    "lamb = torch.ones(2 * n, dtype=torch.float).to(device)\n",
    "M_matrix = calculate_M_matrix(m).to(device)"
   ]
  },
  {
   "cell_type": "code",
   "execution_count": 57,
   "id": "690dab99-9747-486c-97c0-65a93de408b1",
   "metadata": {},
   "outputs": [
    {
     "data": {
      "text/plain": [
       "tensor(0.0357, device='cuda:0', dtype=torch.float64)"
      ]
     },
     "execution_count": 57,
     "metadata": {},
     "output_type": "execute_result"
    }
   ],
   "source": [
    "X_stable, _, _, = calculate_x(lamb, n, M_matrix / gamma, ones)\n",
    "X_stable.norm()"
   ]
  },
  {
   "cell_type": "code",
   "execution_count": 58,
   "id": "aae8a0af-90d6-46b3-93a9-40efc144c09e",
   "metadata": {},
   "outputs": [],
   "source": [
    "lamb = lamb.cpu().numpy()\n",
    "ones = np.ones(n)\n",
    "K = -M_matrix.cpu().numpy() / gamma"
   ]
  },
  {
   "cell_type": "code",
   "execution_count": 61,
   "id": "86311dcd-583a-4e56-bee6-9cd09b4072e1",
   "metadata": {},
   "outputs": [
    {
     "data": {
      "text/plain": [
       "0.03571428571428571"
      ]
     },
     "execution_count": 61,
     "metadata": {},
     "output_type": "execute_result"
    }
   ],
   "source": [
    "logB = (K + np.outer(lamb[:n], ones) + np.outer(ones, lamb[n:]))\n",
    "max_logB =logB.max()\n",
    "logB_stable = logB - max_logB\n",
    "\n",
    "B_stable = np.exp(logB_stable)\n",
    "u_hat_stable, v_hat_stable = B_stable.dot(ones), B_stable.T.dot(ones)\n",
    "\n",
    "Bs_stable = u_hat_stable.sum()\n",
    "\n",
    "X_stable = B_stable/Bs_stable\n",
    "np.linalg.norm(X_stable)"
   ]
  },
  {
   "cell_type": "code",
   "execution_count": null,
   "id": "24beda1d-1faf-44cc-85e6-f53618967f88",
   "metadata": {},
   "outputs": [],
   "source": []
  }
 ],
 "metadata": {
  "accelerator": "GPU",
  "colab": {
   "collapsed_sections": [],
   "name": "primal_dual.ipynb",
   "provenance": []
  },
  "kernelspec": {
   "display_name": "Python 3.8 (optami)",
   "language": "python",
   "name": "venv"
  },
  "language_info": {
   "codemirror_mode": {
    "name": "ipython",
    "version": 3
   },
   "file_extension": ".py",
   "mimetype": "text/x-python",
   "name": "python",
   "nbconvert_exporter": "python",
   "pygments_lexer": "ipython3",
   "version": "3.8.10"
  }
 },
 "nbformat": 4,
 "nbformat_minor": 5
}
